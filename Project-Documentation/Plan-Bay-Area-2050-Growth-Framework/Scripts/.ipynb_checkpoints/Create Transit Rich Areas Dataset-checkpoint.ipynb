{
 "cells": [
  {
   "cell_type": "markdown",
   "metadata": {},
   "source": [
    "# Create Transit Rich Areas Dataset"
   ]
  },
  {
   "cell_type": "code",
   "execution_count": 1,
   "metadata": {},
   "outputs": [],
   "source": [
    "import os\n",
    "import sys\n",
    "import pandas as pd, geopandas as gp, matplotlib.pyplot as plt, numpy as np\n",
    "import json\n",
    "import fiona\n",
    "import requests\n",
    "from arcgis.gis import GIS\n",
    "from arcgis.features import GeoAccessor, GeoSeriesAccessor\n",
    "from arcgis.features import FeatureLayerCollection"
   ]
  },
  {
   "cell_type": "markdown",
   "metadata": {},
   "source": [
    "### Read in password from file\n",
    "\n",
    "**Important:** Do not put passwords or sensitive information into this notebook. Read in from seperate file or add to DataViz creds file. "
   ]
  },
  {
   "cell_type": "code",
   "execution_count": 4,
   "metadata": {},
   "outputs": [],
   "source": [
    "def get_file_contents(filename):\n",
    "    \"\"\" Given a filename,\n",
    "        return the contents of that file\n",
    "    \"\"\"\n",
    "    try:\n",
    "        with open(filename, 'r') as f:\n",
    "            # It's assumed our file contains a single line,\n",
    "            # with our API key\n",
    "            return f.read().strip()\n",
    "    except FileNotFoundError:\n",
    "        print(\"'%s' file not found\" % filename)"
   ]
  },
  {
   "cell_type": "code",
   "execution_count": 5,
   "metadata": {},
   "outputs": [],
   "source": [
    "pass_txt = '../../../../passwords/arcgis_enterprise_pass.txt'\n",
    "password = get_file_contents(pass_txt)"
   ]
  },
  {
   "cell_type": "code",
   "execution_count": 6,
   "metadata": {},
   "outputs": [],
   "source": [
    "gis = GIS(\"https://arcgis.ad.mtc.ca.gov/portal/\", \"jcroff\", password)"
   ]
  },
  {
   "cell_type": "markdown",
   "metadata": {},
   "source": [
    "## Pull Existing Transit Stops 2020 Data from Portal"
   ]
  },
  {
   "cell_type": "code",
   "execution_count": 12,
   "metadata": {},
   "outputs": [
    {
     "data": {
      "text/plain": [
       "[<Item title:\"Transit Priority Areas with Plan Bay Area 2040 Connected Neighborhoods Scenario Overlay\" type:Feature Layer Collection owner:msmith>,\n",
       " <Item title:\"Transit Priority Areas with Plan Bay Area 2040 Main Streets Scenario Overlay\" type:Feature Layer Collection owner:msmith>,\n",
       " <Item title:\"Transit Priority Areas with Plan Bay Area 2040 No Project Scenario Overlay\" type:Feature Layer Collection owner:msmith>,\n",
       " <Item title:\"Priority Development Area-Transit Priority Area Overlay (2017)\" type:Feature Layer Collection owner:msmith>,\n",
       " <Item title:\"Transit Stops - Existing (2020)\" type:Feature Layer Collection owner:msmith>,\n",
       " <Item title:\"Transit Priority Areas with Plan Bay Area 2040 Big Cities Scenario Overlay\" type:Feature Layer Collection owner:msmith>,\n",
       " <Item title:\"Transit Priority areas with Plan Bay Area 2040 Environment, Equity, and Jobs Scenario Overlay\" type:Feature Layer Collection owner:msmith>,\n",
       " <Item title:\"Transit Priority Areas (2014)\" type:Feature Layer Collection owner:msmith>,\n",
       " <Item title:\"Transit Priority Areas (2017)\" type:Feature Layer Collection owner:msmith>,\n",
       " <Item title:\"Transit Priority Project Eligible Areas (2017)\" type:Feature Layer Collection owner:msmith>]"
      ]
     },
     "execution_count": 12,
     "metadata": {},
     "output_type": "execute_result"
    }
   ],
   "source": [
    "#Search for transit stops\n",
    "search_results = gis.content.search('title: Transit Stops',\n",
    "                  'Feature Layer')\n",
    "search_results"
   ]
  },
  {
   "cell_type": "code",
   "execution_count": 13,
   "metadata": {},
   "outputs": [
    {
     "data": {
      "text/html": [
       "<div class=\"item_container\" style=\"height: auto; overflow: hidden; border: 1px solid #cfcfcf; border-radius: 2px; background: #f6fafa; line-height: 1.21429em; padding: 10px;\">\n",
       "                    <div class=\"item_left\" style=\"width: 210px; float: left;\">\n",
       "                       <a href='https://arcgis.ad.mtc.ca.gov/portal//home/item.html?id=3faf8401623b48ae8d70f7a71d7365c9' target='_blank'>\n",
       "                        <img src='data:image/png;base64,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' width='200' height='133' class=\"itemThumbnail\">\n",
       "                       </a>\n",
       "                    </div>\n",
       "\n",
       "                    <div class=\"item_right\"     style=\"float: none; width: auto; overflow: hidden;\">\n",
       "                        <a href='https://arcgis.ad.mtc.ca.gov/portal//home/item.html?id=3faf8401623b48ae8d70f7a71d7365c9' target='_blank'><b>Transit Stops - Existing (2020)</b>\n",
       "                        </a>\n",
       "                        <br/>This layer contains all transit stops for the San Francisco Bay Region, and include route headway classifications for transit routes served by the stops. Source data was downloaded in January 2020.<img src='https://arcgis.ad.mtc.ca.gov/portal//home/js/jsapi/esri/css/images/item_type_icons/featureshosted16.png' style=\"vertical-align:middle;\">Feature Layer Collection by msmith\n",
       "                        <br/>Last Modified: June 17, 2020\n",
       "                        <br/>0 comments, 20 views\n",
       "                    </div>\n",
       "                </div>\n",
       "                "
      ],
      "text/plain": [
       "<Item title:\"Transit Stops - Existing (2020)\" type:Feature Layer Collection owner:msmith>"
      ]
     },
     "execution_count": 13,
     "metadata": {},
     "output_type": "execute_result"
    }
   ],
   "source": [
    "#Get item\n",
    "transit_stops_exist_item = search_results[4]\n",
    "transit_stops_exist_item"
   ]
  },
  {
   "cell_type": "code",
   "execution_count": 14,
   "metadata": {},
   "outputs": [
    {
     "data": {
      "text/html": [
       "<div>\n",
       "<style scoped>\n",
       "    .dataframe tbody tr th:only-of-type {\n",
       "        vertical-align: middle;\n",
       "    }\n",
       "\n",
       "    .dataframe tbody tr th {\n",
       "        vertical-align: top;\n",
       "    }\n",
       "\n",
       "    .dataframe thead th {\n",
       "        text-align: right;\n",
       "    }\n",
       "</style>\n",
       "<table border=\"1\" class=\"dataframe\">\n",
       "  <thead>\n",
       "    <tr style=\"text-align: right;\">\n",
       "      <th></th>\n",
       "      <th>SHAPE</th>\n",
       "      <th>agency_id</th>\n",
       "      <th>agency_nm</th>\n",
       "      <th>hdwy_15min</th>\n",
       "      <th>hdwy_30min</th>\n",
       "      <th>hdwy_class</th>\n",
       "      <th>loc_type</th>\n",
       "      <th>major_stop</th>\n",
       "      <th>objectid</th>\n",
       "      <th>route_ty_t</th>\n",
       "      <th>route_type</th>\n",
       "      <th>stop_code</th>\n",
       "      <th>stop_desc</th>\n",
       "      <th>stop_id</th>\n",
       "      <th>stop_name</th>\n",
       "    </tr>\n",
       "  </thead>\n",
       "  <tbody>\n",
       "    <tr>\n",
       "      <th>0</th>\n",
       "      <td>{\"x\": -122.27144999999996, \"y\": 37.80377000000...</td>\n",
       "      <td>BA</td>\n",
       "      <td>Bay Area Rapid Transit</td>\n",
       "      <td>1</td>\n",
       "      <td>1</td>\n",
       "      <td>15 mins or less</td>\n",
       "      <td>0</td>\n",
       "      <td>1</td>\n",
       "      <td>1</td>\n",
       "      <td>Rail</td>\n",
       "      <td>2.0</td>\n",
       "      <td>12TH</td>\n",
       "      <td></td>\n",
       "      <td>12TH</td>\n",
       "      <td>12th St. Oakland City Center</td>\n",
       "    </tr>\n",
       "    <tr>\n",
       "      <th>1</th>\n",
       "      <td>{\"x\": -122.41968999999995, \"y\": 37.76506000000...</td>\n",
       "      <td>BA</td>\n",
       "      <td>Bay Area Rapid Transit</td>\n",
       "      <td>1</td>\n",
       "      <td>1</td>\n",
       "      <td>15 mins or less</td>\n",
       "      <td>0</td>\n",
       "      <td>1</td>\n",
       "      <td>2</td>\n",
       "      <td>Rail</td>\n",
       "      <td>2.0</td>\n",
       "      <td>16TH</td>\n",
       "      <td></td>\n",
       "      <td>16TH</td>\n",
       "      <td>16th St. Mission</td>\n",
       "    </tr>\n",
       "    <tr>\n",
       "      <th>2</th>\n",
       "      <td>{\"x\": -122.26859999999999, \"y\": 37.80835000000...</td>\n",
       "      <td>BA</td>\n",
       "      <td>Bay Area Rapid Transit</td>\n",
       "      <td>1</td>\n",
       "      <td>1</td>\n",
       "      <td>15 mins or less</td>\n",
       "      <td>0</td>\n",
       "      <td>1</td>\n",
       "      <td>3</td>\n",
       "      <td>Rail</td>\n",
       "      <td>2.0</td>\n",
       "      <td>19TH</td>\n",
       "      <td></td>\n",
       "      <td>19TH</td>\n",
       "      <td>19th St. Oakland</td>\n",
       "    </tr>\n",
       "    <tr>\n",
       "      <th>3</th>\n",
       "      <td>{\"x\": -122.41814, \"y\": 37.75247000000007, \"spa...</td>\n",
       "      <td>BA</td>\n",
       "      <td>Bay Area Rapid Transit</td>\n",
       "      <td>1</td>\n",
       "      <td>1</td>\n",
       "      <td>15 mins or less</td>\n",
       "      <td>0</td>\n",
       "      <td>1</td>\n",
       "      <td>4</td>\n",
       "      <td>Rail</td>\n",
       "      <td>2.0</td>\n",
       "      <td>24TH</td>\n",
       "      <td></td>\n",
       "      <td>24TH</td>\n",
       "      <td>24th St. Mission</td>\n",
       "    </tr>\n",
       "    <tr>\n",
       "      <th>4</th>\n",
       "      <td>{\"x\": -121.78041999999999, \"y\": 37.99539000000...</td>\n",
       "      <td>BA</td>\n",
       "      <td>Bay Area Rapid Transit</td>\n",
       "      <td>1</td>\n",
       "      <td>1</td>\n",
       "      <td>15 mins or less</td>\n",
       "      <td>0</td>\n",
       "      <td>1</td>\n",
       "      <td>5</td>\n",
       "      <td>Rail</td>\n",
       "      <td>2.0</td>\n",
       "      <td>ANTC</td>\n",
       "      <td></td>\n",
       "      <td>ANTC</td>\n",
       "      <td>Antioch</td>\n",
       "    </tr>\n",
       "  </tbody>\n",
       "</table>\n",
       "</div>"
      ],
      "text/plain": [
       "                                               SHAPE agency_id  \\\n",
       "0  {\"x\": -122.27144999999996, \"y\": 37.80377000000...        BA   \n",
       "1  {\"x\": -122.41968999999995, \"y\": 37.76506000000...        BA   \n",
       "2  {\"x\": -122.26859999999999, \"y\": 37.80835000000...        BA   \n",
       "3  {\"x\": -122.41814, \"y\": 37.75247000000007, \"spa...        BA   \n",
       "4  {\"x\": -121.78041999999999, \"y\": 37.99539000000...        BA   \n",
       "\n",
       "                agency_nm  hdwy_15min  hdwy_30min       hdwy_class loc_type  \\\n",
       "0  Bay Area Rapid Transit           1           1  15 mins or less        0   \n",
       "1  Bay Area Rapid Transit           1           1  15 mins or less        0   \n",
       "2  Bay Area Rapid Transit           1           1  15 mins or less        0   \n",
       "3  Bay Area Rapid Transit           1           1  15 mins or less        0   \n",
       "4  Bay Area Rapid Transit           1           1  15 mins or less        0   \n",
       "\n",
       "   major_stop  objectid route_ty_t  route_type stop_code stop_desc stop_id  \\\n",
       "0           1         1       Rail         2.0      12TH              12TH   \n",
       "1           1         2       Rail         2.0      16TH              16TH   \n",
       "2           1         3       Rail         2.0      19TH              19TH   \n",
       "3           1         4       Rail         2.0      24TH              24TH   \n",
       "4           1         5       Rail         2.0      ANTC              ANTC   \n",
       "\n",
       "                      stop_name  \n",
       "0  12th St. Oakland City Center  \n",
       "1              16th St. Mission  \n",
       "2              19th St. Oakland  \n",
       "3              24th St. Mission  \n",
       "4                       Antioch  "
      ]
     },
     "execution_count": 14,
     "metadata": {},
     "output_type": "execute_result"
    }
   ],
   "source": [
    "#Get layer and create spatial DF\n",
    "transit_stops_exist_lyr = transit_stops_exist_item.layers[0]\n",
    "transit_stops_exist_sdf = pd.DataFrame.spatial.from_layer(transit_stops_exist_lyr)\n",
    "transit_stops_exist_sdf.head(5)"
   ]
  },
  {
   "cell_type": "code",
   "execution_count": null,
   "metadata": {},
   "outputs": [],
   "source": []
  },
  {
   "cell_type": "code",
   "execution_count": null,
   "metadata": {},
   "outputs": [],
   "source": []
  },
  {
   "cell_type": "code",
   "execution_count": null,
   "metadata": {},
   "outputs": [],
   "source": []
  },
  {
   "cell_type": "code",
   "execution_count": null,
   "metadata": {},
   "outputs": [],
   "source": []
  },
  {
   "cell_type": "code",
   "execution_count": null,
   "metadata": {},
   "outputs": [],
   "source": []
  },
  {
   "cell_type": "code",
   "execution_count": null,
   "metadata": {},
   "outputs": [],
   "source": []
  },
  {
   "cell_type": "code",
   "execution_count": null,
   "metadata": {},
   "outputs": [],
   "source": []
  },
  {
   "cell_type": "code",
   "execution_count": null,
   "metadata": {},
   "outputs": [],
   "source": []
  }
 ],
 "metadata": {
  "kernelspec": {
   "display_name": "Python 3",
   "language": "python",
   "name": "python3"
  },
  "language_info": {
   "codemirror_mode": {
    "name": "ipython",
    "version": 3
   },
   "file_extension": ".py",
   "mimetype": "text/x-python",
   "name": "python",
   "nbconvert_exporter": "python",
   "pygments_lexer": "ipython3",
   "version": "3.7.7"
  }
 },
 "nbformat": 4,
 "nbformat_minor": 4
}
