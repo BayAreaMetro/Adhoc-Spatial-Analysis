{
 "cells": [
  {
   "cell_type": "markdown",
   "metadata": {},
   "source": [
    "# Create Transit Rich Areas Dataset\n",
    "\n",
    "A Transit-Rich Area is defined as areas 1/2 mile of:\n",
    "- An existing, under construction, or fully funded rail station or ferry terminal\n",
    "- A rail station or ferry terminal included in the PBA 2050 Final Blueprint\n",
    "- A bus stop with headways of 15 minutes or less during the AM (6:00 - 10:00 AM) and PM (3:00 - 7:00 PM) peak periods in January 2020"
   ]
  },
  {
   "cell_type": "code",
   "execution_count": 22,
   "metadata": {},
   "outputs": [],
   "source": [
    "import os\n",
    "import sys\n",
    "import pandas as pd, geopandas as gp, matplotlib.pyplot as plt, numpy as np\n",
    "import json\n",
    "import fiona\n",
    "import requests\n",
    "import getpass\n",
    "from pyproj import CRS\n",
    "from arcgis.gis import GIS\n",
    "from arcgis.features import GeoAccessor, GeoSeriesAccessor\n",
    "from arcgis.features import FeatureLayerCollection\n",
    "\n",
    "user = getpass.getuser()\n",
    "sys.dont_write_bytecode = True\n",
    "\n",
    "sys.path.insert(0, '/Users/{}/Box/DataViz Projects/Utility Code'.format(user))\n",
    "\n",
    "from utils_io import *"
   ]
  },
  {
   "cell_type": "markdown",
   "metadata": {},
   "source": [
    "### Read in password from file\n",
    "\n",
    "**Important:** Do not put passwords or sensitive information into this notebook. Read in from seperate file or add to DataViz creds file. "
   ]
  },
  {
   "cell_type": "code",
   "execution_count": 23,
   "metadata": {},
   "outputs": [],
   "source": [
    "def get_file_contents(filename):\n",
    "    \"\"\" Given a filename,\n",
    "        return the contents of that file\n",
    "    \"\"\"\n",
    "    try:\n",
    "        with open(filename, 'r') as f:\n",
    "            # It's assumed our file contains a single line,\n",
    "            # with our API key\n",
    "            return f.read().strip()\n",
    "    except FileNotFoundError:\n",
    "        print(\"'%s' file not found\" % filename)"
   ]
  },
  {
   "cell_type": "code",
   "execution_count": 24,
   "metadata": {},
   "outputs": [],
   "source": [
    "pass_txt = '../../../../passwords/arcgis_enterprise_pass.txt'\n",
    "password = get_file_contents(pass_txt)"
   ]
  },
  {
   "cell_type": "code",
   "execution_count": 25,
   "metadata": {},
   "outputs": [],
   "source": [
    "gis = GIS(\"https://arcgis.ad.mtc.ca.gov/portal/\", \"jcroff\", password)"
   ]
  },
  {
   "cell_type": "markdown",
   "metadata": {},
   "source": [
    "## Pull Existing Transit Stops 2020 Data from Portal and Buffer"
   ]
  },
  {
   "cell_type": "code",
   "execution_count": 26,
   "metadata": {},
   "outputs": [],
   "source": [
    "# transit_stops = gis.content.get('3faf8401623b48ae8d70f7a71d7365c9')"
   ]
  },
  {
   "cell_type": "code",
   "execution_count": 27,
   "metadata": {},
   "outputs": [],
   "source": [
    "# transit_stops"
   ]
  },
  {
   "cell_type": "code",
   "execution_count": 28,
   "metadata": {},
   "outputs": [],
   "source": [
    "# transit_stops_lyr = transit_stops.layers[0]"
   ]
  },
  {
   "cell_type": "code",
   "execution_count": 29,
   "metadata": {},
   "outputs": [],
   "source": [
    "# transit_stops_lyr.query(out_sr='32610')"
   ]
  },
  {
   "cell_type": "code",
   "execution_count": 30,
   "metadata": {},
   "outputs": [],
   "source": [
    "#Pull data from arcgis portal\n",
    "transit_stops_exist = pull_geodata_from_argis('3faf8401623b48ae8d70f7a71d7365c9',client=gis)"
   ]
  },
  {
   "cell_type": "code",
   "execution_count": 31,
   "metadata": {},
   "outputs": [
    {
     "data": {
      "text/plain": [
       "<Geographic 2D CRS: EPSG:4326>\n",
       "Name: WGS 84\n",
       "Axis Info [ellipsoidal]:\n",
       "- Lat[north]: Geodetic latitude (degree)\n",
       "- Lon[east]: Geodetic longitude (degree)\n",
       "Area of Use:\n",
       "- name: World\n",
       "- bounds: (-180.0, -90.0, 180.0, 90.0)\n",
       "Datum: World Geodetic System 1984\n",
       "- Ellipsoid: WGS 84\n",
       "- Prime Meridian: Greenwich"
      ]
     },
     "execution_count": 31,
     "metadata": {},
     "output_type": "execute_result"
    }
   ],
   "source": [
    "transit_stops_exist.crs"
   ]
  },
  {
   "cell_type": "code",
   "execution_count": 32,
   "metadata": {},
   "outputs": [
    {
     "name": "stdout",
     "output_type": "stream",
     "text": [
      "<class 'geopandas.geodataframe.GeoDataFrame'>\n",
      "RangeIndex: 22274 entries, 0 to 22273\n",
      "Data columns (total 15 columns):\n",
      " #   Column      Non-Null Count  Dtype   \n",
      "---  ------      --------------  -----   \n",
      " 0   agency_id   22252 non-null  object  \n",
      " 1   agency_nm   22252 non-null  object  \n",
      " 2   hdwy_15min  22274 non-null  int64   \n",
      " 3   hdwy_30min  22274 non-null  int64   \n",
      " 4   hdwy_class  22274 non-null  object  \n",
      " 5   loc_type    22274 non-null  object  \n",
      " 6   major_stop  22274 non-null  int64   \n",
      " 7   objectid    22274 non-null  int64   \n",
      " 8   route_ty_t  22252 non-null  object  \n",
      " 9   route_type  22252 non-null  float64 \n",
      " 10  stop_code   22274 non-null  object  \n",
      " 11  stop_desc   22274 non-null  object  \n",
      " 12  stop_id     22274 non-null  object  \n",
      " 13  stop_name   22274 non-null  object  \n",
      " 14  geom        22274 non-null  geometry\n",
      "dtypes: float64(1), geometry(1), int64(4), object(9)\n",
      "memory usage: 2.5+ MB\n"
     ]
    }
   ],
   "source": [
    "transit_stops_exist.info()"
   ]
  },
  {
   "cell_type": "code",
   "execution_count": 33,
   "metadata": {},
   "outputs": [],
   "source": [
    "#project to WGS 84 / UTM zone 10N\n",
    "transit_stops_exist_utmz10 = transit_stops_exist.to_crs('EPSG:32610')"
   ]
  },
  {
   "cell_type": "code",
   "execution_count": 34,
   "metadata": {},
   "outputs": [
    {
     "data": {
      "text/plain": [
       "<Projected CRS: EPSG:32610>\n",
       "Name: WGS 84 / UTM zone 10N\n",
       "Axis Info [cartesian]:\n",
       "- E[east]: Easting (metre)\n",
       "- N[north]: Northing (metre)\n",
       "Area of Use:\n",
       "- name: World - N hemisphere - 126°W to 120°W - by country\n",
       "- bounds: (-126.0, 0.0, -120.0, 84.0)\n",
       "Coordinate Operation:\n",
       "- name: UTM zone 10N\n",
       "- method: Transverse Mercator\n",
       "Datum: World Geodetic System 1984\n",
       "- Ellipsoid: WGS 84\n",
       "- Prime Meridian: Greenwich"
      ]
     },
     "execution_count": 34,
     "metadata": {},
     "output_type": "execute_result"
    }
   ],
   "source": [
    "transit_stops_exist_utmz10.crs"
   ]
  },
  {
   "cell_type": "code",
   "execution_count": 35,
   "metadata": {},
   "outputs": [
    {
     "data": {
      "text/html": [
       "<div>\n",
       "<style scoped>\n",
       "    .dataframe tbody tr th:only-of-type {\n",
       "        vertical-align: middle;\n",
       "    }\n",
       "\n",
       "    .dataframe tbody tr th {\n",
       "        vertical-align: top;\n",
       "    }\n",
       "\n",
       "    .dataframe thead th {\n",
       "        text-align: right;\n",
       "    }\n",
       "</style>\n",
       "<table border=\"1\" class=\"dataframe\">\n",
       "  <thead>\n",
       "    <tr style=\"text-align: right;\">\n",
       "      <th></th>\n",
       "      <th>agency_id</th>\n",
       "      <th>agency_nm</th>\n",
       "      <th>hdwy_15min</th>\n",
       "      <th>hdwy_30min</th>\n",
       "      <th>hdwy_class</th>\n",
       "      <th>loc_type</th>\n",
       "      <th>major_stop</th>\n",
       "      <th>objectid</th>\n",
       "      <th>route_ty_t</th>\n",
       "      <th>route_type</th>\n",
       "      <th>stop_code</th>\n",
       "      <th>stop_desc</th>\n",
       "      <th>stop_id</th>\n",
       "      <th>stop_name</th>\n",
       "      <th>geom</th>\n",
       "    </tr>\n",
       "  </thead>\n",
       "  <tbody>\n",
       "    <tr>\n",
       "      <th>0</th>\n",
       "      <td>BA</td>\n",
       "      <td>Bay Area Rapid Transit</td>\n",
       "      <td>1</td>\n",
       "      <td>1</td>\n",
       "      <td>15 mins or less</td>\n",
       "      <td>0</td>\n",
       "      <td>1</td>\n",
       "      <td>1</td>\n",
       "      <td>Rail</td>\n",
       "      <td>2.0</td>\n",
       "      <td>12TH</td>\n",
       "      <td></td>\n",
       "      <td>12TH</td>\n",
       "      <td>12th St. Oakland City Center</td>\n",
       "      <td>POINT (564135.244 4184293.205)</td>\n",
       "    </tr>\n",
       "    <tr>\n",
       "      <th>1</th>\n",
       "      <td>BA</td>\n",
       "      <td>Bay Area Rapid Transit</td>\n",
       "      <td>1</td>\n",
       "      <td>1</td>\n",
       "      <td>15 mins or less</td>\n",
       "      <td>0</td>\n",
       "      <td>1</td>\n",
       "      <td>2</td>\n",
       "      <td>Rail</td>\n",
       "      <td>2.0</td>\n",
       "      <td>16TH</td>\n",
       "      <td></td>\n",
       "      <td>16TH</td>\n",
       "      <td>16th St. Mission</td>\n",
       "      <td>POINT (551112.002 4179906.983)</td>\n",
       "    </tr>\n",
       "    <tr>\n",
       "      <th>2</th>\n",
       "      <td>BA</td>\n",
       "      <td>Bay Area Rapid Transit</td>\n",
       "      <td>1</td>\n",
       "      <td>1</td>\n",
       "      <td>15 mins or less</td>\n",
       "      <td>0</td>\n",
       "      <td>1</td>\n",
       "      <td>3</td>\n",
       "      <td>Rail</td>\n",
       "      <td>2.0</td>\n",
       "      <td>19TH</td>\n",
       "      <td></td>\n",
       "      <td>19TH</td>\n",
       "      <td>19th St. Oakland</td>\n",
       "      <td>POINT (564382.160 4184803.318)</td>\n",
       "    </tr>\n",
       "    <tr>\n",
       "      <th>3</th>\n",
       "      <td>BA</td>\n",
       "      <td>Bay Area Rapid Transit</td>\n",
       "      <td>1</td>\n",
       "      <td>1</td>\n",
       "      <td>15 mins or less</td>\n",
       "      <td>0</td>\n",
       "      <td>1</td>\n",
       "      <td>4</td>\n",
       "      <td>Rail</td>\n",
       "      <td>2.0</td>\n",
       "      <td>24TH</td>\n",
       "      <td></td>\n",
       "      <td>24TH</td>\n",
       "      <td>24th St. Mission</td>\n",
       "      <td>POINT (551257.209 4178510.984)</td>\n",
       "    </tr>\n",
       "    <tr>\n",
       "      <th>4</th>\n",
       "      <td>BA</td>\n",
       "      <td>Bay Area Rapid Transit</td>\n",
       "      <td>1</td>\n",
       "      <td>1</td>\n",
       "      <td>15 mins or less</td>\n",
       "      <td>0</td>\n",
       "      <td>1</td>\n",
       "      <td>5</td>\n",
       "      <td>Rail</td>\n",
       "      <td>2.0</td>\n",
       "      <td>ANTC</td>\n",
       "      <td></td>\n",
       "      <td>ANTC</td>\n",
       "      <td>Antioch</td>\n",
       "      <td>POINT (607084.546 4206005.178)</td>\n",
       "    </tr>\n",
       "  </tbody>\n",
       "</table>\n",
       "</div>"
      ],
      "text/plain": [
       "  agency_id               agency_nm  hdwy_15min  hdwy_30min       hdwy_class  \\\n",
       "0        BA  Bay Area Rapid Transit           1           1  15 mins or less   \n",
       "1        BA  Bay Area Rapid Transit           1           1  15 mins or less   \n",
       "2        BA  Bay Area Rapid Transit           1           1  15 mins or less   \n",
       "3        BA  Bay Area Rapid Transit           1           1  15 mins or less   \n",
       "4        BA  Bay Area Rapid Transit           1           1  15 mins or less   \n",
       "\n",
       "  loc_type  major_stop  objectid route_ty_t  route_type stop_code stop_desc  \\\n",
       "0        0           1         1       Rail         2.0      12TH             \n",
       "1        0           1         2       Rail         2.0      16TH             \n",
       "2        0           1         3       Rail         2.0      19TH             \n",
       "3        0           1         4       Rail         2.0      24TH             \n",
       "4        0           1         5       Rail         2.0      ANTC             \n",
       "\n",
       "  stop_id                     stop_name                            geom  \n",
       "0    12TH  12th St. Oakland City Center  POINT (564135.244 4184293.205)  \n",
       "1    16TH              16th St. Mission  POINT (551112.002 4179906.983)  \n",
       "2    19TH              19th St. Oakland  POINT (564382.160 4184803.318)  \n",
       "3    24TH              24th St. Mission  POINT (551257.209 4178510.984)  \n",
       "4    ANTC                       Antioch  POINT (607084.546 4206005.178)  "
      ]
     },
     "execution_count": 35,
     "metadata": {},
     "output_type": "execute_result"
    }
   ],
   "source": [
    "transit_stops_exist_utmz10.head(5)"
   ]
  },
  {
   "cell_type": "code",
   "execution_count": 36,
   "metadata": {},
   "outputs": [
    {
     "name": "stdout",
     "output_type": "stream",
     "text": [
      "<class 'geopandas.geodataframe.GeoDataFrame'>\n",
      "RangeIndex: 22274 entries, 0 to 22273\n",
      "Data columns (total 15 columns):\n",
      " #   Column      Non-Null Count  Dtype   \n",
      "---  ------      --------------  -----   \n",
      " 0   agency_id   22252 non-null  object  \n",
      " 1   agency_nm   22252 non-null  object  \n",
      " 2   hdwy_15min  22274 non-null  int64   \n",
      " 3   hdwy_30min  22274 non-null  int64   \n",
      " 4   hdwy_class  22274 non-null  object  \n",
      " 5   loc_type    22274 non-null  object  \n",
      " 6   major_stop  22274 non-null  int64   \n",
      " 7   objectid    22274 non-null  int64   \n",
      " 8   route_ty_t  22252 non-null  object  \n",
      " 9   route_type  22252 non-null  float64 \n",
      " 10  stop_code   22274 non-null  object  \n",
      " 11  stop_desc   22274 non-null  object  \n",
      " 12  stop_id     22274 non-null  object  \n",
      " 13  stop_name   22274 non-null  object  \n",
      " 14  geom        22274 non-null  geometry\n",
      "dtypes: float64(1), geometry(1), int64(4), object(9)\n",
      "memory usage: 2.5+ MB\n"
     ]
    }
   ],
   "source": [
    "transit_stops_exist_utmz10.info()"
   ]
  },
  {
   "cell_type": "code",
   "execution_count": 37,
   "metadata": {},
   "outputs": [
    {
     "data": {
      "text/plain": [
       "array(['Rail', 'Bus', 'Tram, Streetcar, Light Rail', 'Cable Tram', None,\n",
       "       'Ferry'], dtype=object)"
      ]
     },
     "execution_count": 37,
     "metadata": {},
     "output_type": "execute_result"
    }
   ],
   "source": [
    "transit_stops_exist_utmz10['route_ty_t'].unique()"
   ]
  },
  {
   "cell_type": "code",
   "execution_count": 38,
   "metadata": {},
   "outputs": [],
   "source": [
    "#Filter stops to include stops w/ types as well as stops with routes headways of 15 mins or less\n",
    "transit_stops_exist_utmz10 = transit_stops_exist_utmz10[((transit_stops_exist_utmz10['hdwy_15min'] == 1) & \n",
    "                                                         (transit_stops_exist_utmz10['route_ty_t'] == 'Bus')) |\n",
    "                                                        (transit_stops_exist_utmz10['route_ty_t'].isin(['Rail',  \n",
    "                                                                                              'Tram, Streetcar, Light Rail',\n",
    "                                                                                              'Cable Tram',\n",
    "                                                                                              'Ferry']))].copy()"
   ]
  },
  {
   "cell_type": "code",
   "execution_count": 39,
   "metadata": {},
   "outputs": [
    {
     "data": {
      "text/plain": [
       "(6546, 15)"
      ]
     },
     "execution_count": 39,
     "metadata": {},
     "output_type": "execute_result"
    }
   ],
   "source": [
    "transit_stops_exist_utmz10.shape"
   ]
  },
  {
   "cell_type": "code",
   "execution_count": 40,
   "metadata": {},
   "outputs": [
    {
     "data": {
      "text/html": [
       "<div>\n",
       "<style scoped>\n",
       "    .dataframe tbody tr th:only-of-type {\n",
       "        vertical-align: middle;\n",
       "    }\n",
       "\n",
       "    .dataframe tbody tr th {\n",
       "        vertical-align: top;\n",
       "    }\n",
       "\n",
       "    .dataframe thead th {\n",
       "        text-align: right;\n",
       "    }\n",
       "</style>\n",
       "<table border=\"1\" class=\"dataframe\">\n",
       "  <thead>\n",
       "    <tr style=\"text-align: right;\">\n",
       "      <th></th>\n",
       "      <th>agency_id</th>\n",
       "      <th>agency_nm</th>\n",
       "      <th>hdwy_15min</th>\n",
       "      <th>hdwy_30min</th>\n",
       "      <th>hdwy_class</th>\n",
       "      <th>loc_type</th>\n",
       "      <th>major_stop</th>\n",
       "      <th>objectid</th>\n",
       "      <th>route_ty_t</th>\n",
       "      <th>route_type</th>\n",
       "      <th>stop_code</th>\n",
       "      <th>stop_desc</th>\n",
       "      <th>stop_id</th>\n",
       "      <th>stop_name</th>\n",
       "      <th>geom</th>\n",
       "    </tr>\n",
       "  </thead>\n",
       "  <tbody>\n",
       "    <tr>\n",
       "      <th>22034</th>\n",
       "      <td>SA</td>\n",
       "      <td>Sonoma Marin Area Rail Transit</td>\n",
       "      <td>0</td>\n",
       "      <td>0</td>\n",
       "      <td>31 mins or more</td>\n",
       "      <td>0</td>\n",
       "      <td>1</td>\n",
       "      <td>22053</td>\n",
       "      <td>Rail</td>\n",
       "      <td>2.0</td>\n",
       "      <td>7103</td>\n",
       "      <td>The station is located at 3801 Civic Center Dr...</td>\n",
       "      <td>SA:7103</td>\n",
       "      <td>Marin Civic Center Station</td>\n",
       "      <td>POINT (540623.071 4206089.096)</td>\n",
       "    </tr>\n",
       "    <tr>\n",
       "      <th>22035</th>\n",
       "      <td>SA</td>\n",
       "      <td>Sonoma Marin Area Rail Transit</td>\n",
       "      <td>0</td>\n",
       "      <td>1</td>\n",
       "      <td>16 to 30 min</td>\n",
       "      <td>0</td>\n",
       "      <td>1</td>\n",
       "      <td>22054</td>\n",
       "      <td>Rail</td>\n",
       "      <td>2.0</td>\n",
       "      <td>7105</td>\n",
       "      <td></td>\n",
       "      <td>SA:7105</td>\n",
       "      <td>Novato Downtown</td>\n",
       "      <td>POINT (538189.516 4217660.087)</td>\n",
       "    </tr>\n",
       "    <tr>\n",
       "      <th>22036</th>\n",
       "      <td>SA</td>\n",
       "      <td>Sonoma Marin Area Rail Transit</td>\n",
       "      <td>0</td>\n",
       "      <td>0</td>\n",
       "      <td>31 mins or more</td>\n",
       "      <td>0</td>\n",
       "      <td>1</td>\n",
       "      <td>22055</td>\n",
       "      <td>Rail</td>\n",
       "      <td>2.0</td>\n",
       "      <td>7104</td>\n",
       "      <td>The station is located at 10 Main Gate Road No...</td>\n",
       "      <td>SA:7104</td>\n",
       "      <td>Novato Hamilton Station</td>\n",
       "      <td>POINT (541768.436 4212170.847)</td>\n",
       "    </tr>\n",
       "    <tr>\n",
       "      <th>22037</th>\n",
       "      <td>SA</td>\n",
       "      <td>Sonoma Marin Area Rail Transit</td>\n",
       "      <td>0</td>\n",
       "      <td>1</td>\n",
       "      <td>16 to 30 min</td>\n",
       "      <td>0</td>\n",
       "      <td>1</td>\n",
       "      <td>22056</td>\n",
       "      <td>Rail</td>\n",
       "      <td>2.0</td>\n",
       "      <td>7106</td>\n",
       "      <td>The station is located at 7700 Redwood Blvd No...</td>\n",
       "      <td>SA:7106</td>\n",
       "      <td>Novato San Marin Station</td>\n",
       "      <td>POINT (538032.861 4219288.209)</td>\n",
       "    </tr>\n",
       "    <tr>\n",
       "      <th>22038</th>\n",
       "      <td>SA</td>\n",
       "      <td>Sonoma Marin Area Rail Transit</td>\n",
       "      <td>0</td>\n",
       "      <td>0</td>\n",
       "      <td>31 mins or more</td>\n",
       "      <td>0</td>\n",
       "      <td>1</td>\n",
       "      <td>22057</td>\n",
       "      <td>Rail</td>\n",
       "      <td>2.0</td>\n",
       "      <td>7107</td>\n",
       "      <td>The station is located at 220 Lakeville Street...</td>\n",
       "      <td>SA:7107</td>\n",
       "      <td>Petaluma Downtown</td>\n",
       "      <td>POINT (531995.142 4232183.250)</td>\n",
       "    </tr>\n",
       "    <tr>\n",
       "      <th>22039</th>\n",
       "      <td>SA</td>\n",
       "      <td>Sonoma Marin Area Rail Transit</td>\n",
       "      <td>0</td>\n",
       "      <td>0</td>\n",
       "      <td>31 mins or more</td>\n",
       "      <td>0</td>\n",
       "      <td>1</td>\n",
       "      <td>22058</td>\n",
       "      <td>Rail</td>\n",
       "      <td>2.0</td>\n",
       "      <td>7110</td>\n",
       "      <td>The station is located at 900 Enterprise Drive...</td>\n",
       "      <td>SA:7110</td>\n",
       "      <td>Rohnert Park</td>\n",
       "      <td>POINT (526109.602 4244412.031)</td>\n",
       "    </tr>\n",
       "    <tr>\n",
       "      <th>22040</th>\n",
       "      <td>SA</td>\n",
       "      <td>Sonoma Marin Area Rail Transit</td>\n",
       "      <td>0</td>\n",
       "      <td>0</td>\n",
       "      <td>31 mins or more</td>\n",
       "      <td>0</td>\n",
       "      <td>1</td>\n",
       "      <td>22059</td>\n",
       "      <td>Rail</td>\n",
       "      <td>2.0</td>\n",
       "      <td>7102</td>\n",
       "      <td>The station is located at 680 3rd Street San R...</td>\n",
       "      <td>SA:7102</td>\n",
       "      <td>San Rafael Station</td>\n",
       "      <td>POINT (541912.986 4202804.666)</td>\n",
       "    </tr>\n",
       "    <tr>\n",
       "      <th>22041</th>\n",
       "      <td>SA</td>\n",
       "      <td>Sonoma Marin Area Rail Transit</td>\n",
       "      <td>0</td>\n",
       "      <td>0</td>\n",
       "      <td>31 mins or more</td>\n",
       "      <td>0</td>\n",
       "      <td>1</td>\n",
       "      <td>22060</td>\n",
       "      <td>Rail</td>\n",
       "      <td>2.0</td>\n",
       "      <td>7111</td>\n",
       "      <td>The station is located at 7 4th Street Santa R...</td>\n",
       "      <td>SA:7111</td>\n",
       "      <td>Santa Rosa Downtown Station</td>\n",
       "      <td>POINT (524288.139 4254397.256)</td>\n",
       "    </tr>\n",
       "    <tr>\n",
       "      <th>22042</th>\n",
       "      <td>SA</td>\n",
       "      <td>Sonoma Marin Area Rail Transit</td>\n",
       "      <td>0</td>\n",
       "      <td>0</td>\n",
       "      <td>31 mins or more</td>\n",
       "      <td>0</td>\n",
       "      <td>1</td>\n",
       "      <td>22061</td>\n",
       "      <td>Rail</td>\n",
       "      <td>2.0</td>\n",
       "      <td>7112</td>\n",
       "      <td>The station is located at 1500 Guernevile Road...</td>\n",
       "      <td>SA:7112</td>\n",
       "      <td>Santa Rosa North Station</td>\n",
       "      <td>POINT (522973.306 4256399.581)</td>\n",
       "    </tr>\n",
       "    <tr>\n",
       "      <th>22043</th>\n",
       "      <td>SA</td>\n",
       "      <td>Sonoma Marin Area Rail Transit</td>\n",
       "      <td>0</td>\n",
       "      <td>0</td>\n",
       "      <td>31 mins or more</td>\n",
       "      <td>0</td>\n",
       "      <td>1</td>\n",
       "      <td>22062</td>\n",
       "      <td>Rail</td>\n",
       "      <td>2.0</td>\n",
       "      <td>7113</td>\n",
       "      <td>The station is located at 1130 Airport Blvd Sa...</td>\n",
       "      <td>SA:7113</td>\n",
       "      <td>Sonoma County Airport Station</td>\n",
       "      <td>POINT (518840.980 4262376.343)</td>\n",
       "    </tr>\n",
       "  </tbody>\n",
       "</table>\n",
       "</div>"
      ],
      "text/plain": [
       "      agency_id                       agency_nm  hdwy_15min  hdwy_30min  \\\n",
       "22034        SA  Sonoma Marin Area Rail Transit           0           0   \n",
       "22035        SA  Sonoma Marin Area Rail Transit           0           1   \n",
       "22036        SA  Sonoma Marin Area Rail Transit           0           0   \n",
       "22037        SA  Sonoma Marin Area Rail Transit           0           1   \n",
       "22038        SA  Sonoma Marin Area Rail Transit           0           0   \n",
       "22039        SA  Sonoma Marin Area Rail Transit           0           0   \n",
       "22040        SA  Sonoma Marin Area Rail Transit           0           0   \n",
       "22041        SA  Sonoma Marin Area Rail Transit           0           0   \n",
       "22042        SA  Sonoma Marin Area Rail Transit           0           0   \n",
       "22043        SA  Sonoma Marin Area Rail Transit           0           0   \n",
       "\n",
       "            hdwy_class loc_type  major_stop  objectid route_ty_t  route_type  \\\n",
       "22034  31 mins or more        0           1     22053       Rail         2.0   \n",
       "22035     16 to 30 min        0           1     22054       Rail         2.0   \n",
       "22036  31 mins or more        0           1     22055       Rail         2.0   \n",
       "22037     16 to 30 min        0           1     22056       Rail         2.0   \n",
       "22038  31 mins or more        0           1     22057       Rail         2.0   \n",
       "22039  31 mins or more        0           1     22058       Rail         2.0   \n",
       "22040  31 mins or more        0           1     22059       Rail         2.0   \n",
       "22041  31 mins or more        0           1     22060       Rail         2.0   \n",
       "22042  31 mins or more        0           1     22061       Rail         2.0   \n",
       "22043  31 mins or more        0           1     22062       Rail         2.0   \n",
       "\n",
       "      stop_code                                          stop_desc  stop_id  \\\n",
       "22034      7103  The station is located at 3801 Civic Center Dr...  SA:7103   \n",
       "22035      7105                                                     SA:7105   \n",
       "22036      7104  The station is located at 10 Main Gate Road No...  SA:7104   \n",
       "22037      7106  The station is located at 7700 Redwood Blvd No...  SA:7106   \n",
       "22038      7107  The station is located at 220 Lakeville Street...  SA:7107   \n",
       "22039      7110  The station is located at 900 Enterprise Drive...  SA:7110   \n",
       "22040      7102  The station is located at 680 3rd Street San R...  SA:7102   \n",
       "22041      7111  The station is located at 7 4th Street Santa R...  SA:7111   \n",
       "22042      7112  The station is located at 1500 Guernevile Road...  SA:7112   \n",
       "22043      7113  The station is located at 1130 Airport Blvd Sa...  SA:7113   \n",
       "\n",
       "                           stop_name                            geom  \n",
       "22034     Marin Civic Center Station  POINT (540623.071 4206089.096)  \n",
       "22035                Novato Downtown  POINT (538189.516 4217660.087)  \n",
       "22036        Novato Hamilton Station  POINT (541768.436 4212170.847)  \n",
       "22037       Novato San Marin Station  POINT (538032.861 4219288.209)  \n",
       "22038              Petaluma Downtown  POINT (531995.142 4232183.250)  \n",
       "22039                   Rohnert Park  POINT (526109.602 4244412.031)  \n",
       "22040             San Rafael Station  POINT (541912.986 4202804.666)  \n",
       "22041    Santa Rosa Downtown Station  POINT (524288.139 4254397.256)  \n",
       "22042       Santa Rosa North Station  POINT (522973.306 4256399.581)  \n",
       "22043  Sonoma County Airport Station  POINT (518840.980 4262376.343)  "
      ]
     },
     "execution_count": 40,
     "metadata": {},
     "output_type": "execute_result"
    }
   ],
   "source": [
    "transit_stops_exist_utmz10.tail(10)"
   ]
  },
  {
   "cell_type": "code",
   "execution_count": 41,
   "metadata": {},
   "outputs": [],
   "source": [
    "#Buffer existing transit stops by 1/2 mile\n",
    "buffer_distance = .5 * 1609.344\n",
    "transit_stops_exist_utmz10['geom'] = transit_stops_exist_utmz10.buffer(buffer_distance)"
   ]
  },
  {
   "cell_type": "code",
   "execution_count": 42,
   "metadata": {},
   "outputs": [
    {
     "name": "stdout",
     "output_type": "stream",
     "text": [
      "<class 'geopandas.geodataframe.GeoDataFrame'>\n",
      "Int64Index: 6546 entries, 0 to 22043\n",
      "Data columns (total 15 columns):\n",
      " #   Column      Non-Null Count  Dtype   \n",
      "---  ------      --------------  -----   \n",
      " 0   agency_id   6546 non-null   object  \n",
      " 1   agency_nm   6546 non-null   object  \n",
      " 2   hdwy_15min  6546 non-null   int64   \n",
      " 3   hdwy_30min  6546 non-null   int64   \n",
      " 4   hdwy_class  6546 non-null   object  \n",
      " 5   loc_type    6546 non-null   object  \n",
      " 6   major_stop  6546 non-null   int64   \n",
      " 7   objectid    6546 non-null   int64   \n",
      " 8   route_ty_t  6546 non-null   object  \n",
      " 9   route_type  6546 non-null   float64 \n",
      " 10  stop_code   6546 non-null   object  \n",
      " 11  stop_desc   6546 non-null   object  \n",
      " 12  stop_id     6546 non-null   object  \n",
      " 13  stop_name   6546 non-null   object  \n",
      " 14  geom        6546 non-null   geometry\n",
      "dtypes: float64(1), geometry(1), int64(4), object(9)\n",
      "memory usage: 818.2+ KB\n"
     ]
    }
   ],
   "source": [
    "transit_stops_exist_utmz10.info()"
   ]
  },
  {
   "cell_type": "code",
   "execution_count": 43,
   "metadata": {},
   "outputs": [
    {
     "data": {
      "image/png": "[encoded data removed]",
      "text/plain": [
       "<Figure size 720x720 with 1 Axes>"
      ]
     },
     "metadata": {
      "needs_background": "light"
     },
     "output_type": "display_data"
    }
   ],
   "source": [
    "transit_stops_exist_utmz10.plot(figsize=(10,10));"
   ]
  },
  {
   "cell_type": "markdown",
   "metadata": {},
   "source": [
    "## Pull Planned and Potential Stops from Portal and Buffer"
   ]
  },
  {
   "cell_type": "code",
   "execution_count": 44,
   "metadata": {},
   "outputs": [],
   "source": [
    "# transit_stop_plan = gis.content.get('18a6239819b048fab9c87bb4d7649560')\n",
    "# transit_stop_plan"
   ]
  },
  {
   "cell_type": "code",
   "execution_count": 45,
   "metadata": {},
   "outputs": [],
   "source": [
    "# transit_stop_plan_lyr = transit_stop_plan.layers[0]"
   ]
  },
  {
   "cell_type": "code",
   "execution_count": 46,
   "metadata": {},
   "outputs": [],
   "source": [
    "# transit_stop_plan_lyr"
   ]
  },
  {
   "cell_type": "code",
   "execution_count": 47,
   "metadata": {},
   "outputs": [],
   "source": [
    "# transit_stop_plan_lyr_utmz10 = transit_stop_plan_lyr.query(out_sr='32610')"
   ]
  },
  {
   "cell_type": "code",
   "execution_count": 48,
   "metadata": {},
   "outputs": [],
   "source": [
    "# transit_stop_plan_lyr_utmz10.spatial_reference"
   ]
  },
  {
   "cell_type": "code",
   "execution_count": 49,
   "metadata": {},
   "outputs": [],
   "source": [
    "#Pull data from arcgis portal\n",
    "transit_stops_plan = pull_geodata_from_argis('18a6239819b048fab9c87bb4d7649560',client=gis)"
   ]
  },
  {
   "cell_type": "code",
   "execution_count": 50,
   "metadata": {},
   "outputs": [
    {
     "data": {
      "text/plain": [
       "<Geographic 2D CRS: EPSG:4326>\n",
       "Name: WGS 84\n",
       "Axis Info [ellipsoidal]:\n",
       "- Lat[north]: Geodetic latitude (degree)\n",
       "- Lon[east]: Geodetic longitude (degree)\n",
       "Area of Use:\n",
       "- name: World\n",
       "- bounds: (-180.0, -90.0, 180.0, 90.0)\n",
       "Datum: World Geodetic System 1984\n",
       "- Ellipsoid: WGS 84\n",
       "- Prime Meridian: Greenwich"
      ]
     },
     "execution_count": 50,
     "metadata": {},
     "output_type": "execute_result"
    }
   ],
   "source": [
    "transit_stops_plan.crs"
   ]
  },
  {
   "cell_type": "code",
   "execution_count": 51,
   "metadata": {},
   "outputs": [],
   "source": [
    "#Project to WGS84 UTMZ10\n",
    "transit_stops_plan_utmz10 = transit_stops_plan.to_crs('EPSG:32610')"
   ]
  },
  {
   "cell_type": "code",
   "execution_count": 52,
   "metadata": {},
   "outputs": [
    {
     "data": {
      "text/plain": [
       "<Projected CRS: EPSG:32610>\n",
       "Name: WGS 84 / UTM zone 10N\n",
       "Axis Info [cartesian]:\n",
       "- E[east]: Easting (metre)\n",
       "- N[north]: Northing (metre)\n",
       "Area of Use:\n",
       "- name: World - N hemisphere - 126°W to 120°W - by country\n",
       "- bounds: (-126.0, 0.0, -120.0, 84.0)\n",
       "Coordinate Operation:\n",
       "- name: UTM zone 10N\n",
       "- method: Transverse Mercator\n",
       "Datum: World Geodetic System 1984\n",
       "- Ellipsoid: WGS 84\n",
       "- Prime Meridian: Greenwich"
      ]
     },
     "execution_count": 52,
     "metadata": {},
     "output_type": "execute_result"
    }
   ],
   "source": [
    "transit_stops_plan_utmz10.crs"
   ]
  },
  {
   "cell_type": "code",
   "execution_count": 53,
   "metadata": {},
   "outputs": [
    {
     "data": {
      "text/html": [
       "<div>\n",
       "<style scoped>\n",
       "    .dataframe tbody tr th:only-of-type {\n",
       "        vertical-align: middle;\n",
       "    }\n",
       "\n",
       "    .dataframe tbody tr th {\n",
       "        vertical-align: top;\n",
       "    }\n",
       "\n",
       "    .dataframe thead th {\n",
       "        text-align: right;\n",
       "    }\n",
       "</style>\n",
       "<table border=\"1\" class=\"dataframe\">\n",
       "  <thead>\n",
       "    <tr style=\"text-align: right;\">\n",
       "      <th></th>\n",
       "      <th>objectid</th>\n",
       "      <th>county</th>\n",
       "      <th>jurisdictn</th>\n",
       "      <th>agency_nm</th>\n",
       "      <th>stop_name</th>\n",
       "      <th>route_ty_t</th>\n",
       "      <th>ppa_id</th>\n",
       "      <th>ppa_name</th>\n",
       "      <th>committd</th>\n",
       "      <th>status</th>\n",
       "      <th>exp_open</th>\n",
       "      <th>geom</th>\n",
       "    </tr>\n",
       "  </thead>\n",
       "  <tbody>\n",
       "    <tr>\n",
       "      <th>0</th>\n",
       "      <td>1</td>\n",
       "      <td>CA013</td>\n",
       "      <td>Brentwood</td>\n",
       "      <td>TBD</td>\n",
       "      <td>Brentwood</td>\n",
       "      <td>Bus</td>\n",
       "      <td>2202</td>\n",
       "      <td>Bus Rapid Transit to Brentwood (formerly BART ...</td>\n",
       "      <td>No</td>\n",
       "      <td>Final Blueprint</td>\n",
       "      <td>2021-2035</td>\n",
       "      <td>POINT (610284.281 4201385.715)</td>\n",
       "    </tr>\n",
       "    <tr>\n",
       "      <th>1</th>\n",
       "      <td>2</td>\n",
       "      <td>CA097</td>\n",
       "      <td>Healdsburg</td>\n",
       "      <td>Sonoma-Marin Area Rail Transit</td>\n",
       "      <td>Healdsburg</td>\n",
       "      <td>Rail</td>\n",
       "      <td>2304</td>\n",
       "      <td>SMART to Cloverdale</td>\n",
       "      <td>No</td>\n",
       "      <td>Not Included</td>\n",
       "      <td>Not Included</td>\n",
       "      <td>POINT (511636.968 4273185.826)</td>\n",
       "    </tr>\n",
       "    <tr>\n",
       "      <th>2</th>\n",
       "      <td>3</td>\n",
       "      <td>CA097</td>\n",
       "      <td>Cloverdale</td>\n",
       "      <td>Sonoma-Marin Area Rail Transit</td>\n",
       "      <td>Cloverdale</td>\n",
       "      <td>Rail</td>\n",
       "      <td>2304</td>\n",
       "      <td>SMART to Cloverdale</td>\n",
       "      <td>No</td>\n",
       "      <td>Not Included</td>\n",
       "      <td>Not Included</td>\n",
       "      <td>POINT (498953.967 4294420.424)</td>\n",
       "    </tr>\n",
       "    <tr>\n",
       "      <th>3</th>\n",
       "      <td>4</td>\n",
       "      <td>CA085</td>\n",
       "      <td>San Jose</td>\n",
       "      <td>Santa Clara Valley Transportation Authority</td>\n",
       "      <td>San Jose Airport</td>\n",
       "      <td>Tram, Streetcar, Light Rail</td>\n",
       "      <td>2402</td>\n",
       "      <td>San Jose Airport People Mover</td>\n",
       "      <td>No</td>\n",
       "      <td>Not Included</td>\n",
       "      <td>Not Included</td>\n",
       "      <td>POINT (595075.482 4136054.501)</td>\n",
       "    </tr>\n",
       "    <tr>\n",
       "      <th>4</th>\n",
       "      <td>5</td>\n",
       "      <td>CA085</td>\n",
       "      <td>Cupertino</td>\n",
       "      <td>Bay Area Rapid Transit</td>\n",
       "      <td>De Anza College</td>\n",
       "      <td>Tram, Streetcar, Light Rail</td>\n",
       "      <td>2206</td>\n",
       "      <td>Stevens Creek Line (formerly BART to Cupertino)</td>\n",
       "      <td>No</td>\n",
       "      <td>Final Blueprint</td>\n",
       "      <td>2036-2050</td>\n",
       "      <td>POINT (585044.618 4131116.515)</td>\n",
       "    </tr>\n",
       "  </tbody>\n",
       "</table>\n",
       "</div>"
      ],
      "text/plain": [
       "   objectid county  jurisdictn                                    agency_nm  \\\n",
       "0         1  CA013   Brentwood                                          TBD   \n",
       "1         2  CA097  Healdsburg               Sonoma-Marin Area Rail Transit   \n",
       "2         3  CA097  Cloverdale               Sonoma-Marin Area Rail Transit   \n",
       "3         4  CA085    San Jose  Santa Clara Valley Transportation Authority   \n",
       "4         5  CA085   Cupertino                       Bay Area Rapid Transit   \n",
       "\n",
       "          stop_name                   route_ty_t  ppa_id  \\\n",
       "0         Brentwood                          Bus    2202   \n",
       "1        Healdsburg                         Rail    2304   \n",
       "2        Cloverdale                         Rail    2304   \n",
       "3  San Jose Airport  Tram, Streetcar, Light Rail    2402   \n",
       "4   De Anza College  Tram, Streetcar, Light Rail    2206   \n",
       "\n",
       "                                            ppa_name committd  \\\n",
       "0  Bus Rapid Transit to Brentwood (formerly BART ...       No   \n",
       "1                                SMART to Cloverdale       No   \n",
       "2                                SMART to Cloverdale       No   \n",
       "3                      San Jose Airport People Mover       No   \n",
       "4    Stevens Creek Line (formerly BART to Cupertino)       No   \n",
       "\n",
       "            status      exp_open                            geom  \n",
       "0  Final Blueprint     2021-2035  POINT (610284.281 4201385.715)  \n",
       "1     Not Included  Not Included  POINT (511636.968 4273185.826)  \n",
       "2     Not Included  Not Included  POINT (498953.967 4294420.424)  \n",
       "3     Not Included  Not Included  POINT (595075.482 4136054.501)  \n",
       "4  Final Blueprint     2036-2050  POINT (585044.618 4131116.515)  "
      ]
     },
     "execution_count": 53,
     "metadata": {},
     "output_type": "execute_result"
    }
   ],
   "source": [
    "transit_stops_plan_utmz10.head(5)"
   ]
  },
  {
   "cell_type": "code",
   "execution_count": 54,
   "metadata": {},
   "outputs": [
    {
     "data": {
      "text/plain": [
       "array(['Final Blueprint', 'Not Included', 'Draft Blueprint',\n",
       "       'Under Construction'], dtype=object)"
      ]
     },
     "execution_count": 54,
     "metadata": {},
     "output_type": "execute_result"
    }
   ],
   "source": [
    "transit_stops_plan_utmz10['status'].unique()"
   ]
  },
  {
   "cell_type": "code",
   "execution_count": null,
   "metadata": {},
   "outputs": [],
   "source": []
  },
  {
   "cell_type": "code",
   "execution_count": 55,
   "metadata": {},
   "outputs": [],
   "source": [
    "#filter for stops in the Final Blueprint or Under Construction\n",
    "transit_stops_plan_utmz10 = transit_stops_plan_utmz10[(transit_stops_plan_utmz10['status'].isin(['Final Blueprint',\n",
    "                                                                                             'Under Construction'])) |\n",
    "                                                     (transit_stops_plan_utmz10['stop_name'] == 'Irvington')].copy()"
   ]
  },
  {
   "cell_type": "code",
   "execution_count": 56,
   "metadata": {},
   "outputs": [
    {
     "name": "stdout",
     "output_type": "stream",
     "text": [
      "<class 'geopandas.geodataframe.GeoDataFrame'>\n",
      "Int64Index: 19 entries, 0 to 91\n",
      "Data columns (total 12 columns):\n",
      " #   Column      Non-Null Count  Dtype   \n",
      "---  ------      --------------  -----   \n",
      " 0   objectid    19 non-null     int64   \n",
      " 1   county      19 non-null     object  \n",
      " 2   jurisdictn  19 non-null     object  \n",
      " 3   agency_nm   19 non-null     object  \n",
      " 4   stop_name   19 non-null     object  \n",
      " 5   route_ty_t  18 non-null     object  \n",
      " 6   ppa_id      19 non-null     int64   \n",
      " 7   ppa_name    19 non-null     object  \n",
      " 8   committd    19 non-null     object  \n",
      " 9   status      19 non-null     object  \n",
      " 10  exp_open    19 non-null     object  \n",
      " 11  geom        19 non-null     geometry\n",
      "dtypes: geometry(1), int64(2), object(9)\n",
      "memory usage: 1.9+ KB\n"
     ]
    }
   ],
   "source": [
    "transit_stops_plan_utmz10.info()"
   ]
  },
  {
   "cell_type": "code",
   "execution_count": 57,
   "metadata": {},
   "outputs": [
    {
     "data": {
      "text/html": [
       "<div>\n",
       "<style scoped>\n",
       "    .dataframe tbody tr th:only-of-type {\n",
       "        vertical-align: middle;\n",
       "    }\n",
       "\n",
       "    .dataframe tbody tr th {\n",
       "        vertical-align: top;\n",
       "    }\n",
       "\n",
       "    .dataframe thead th {\n",
       "        text-align: right;\n",
       "    }\n",
       "</style>\n",
       "<table border=\"1\" class=\"dataframe\">\n",
       "  <thead>\n",
       "    <tr style=\"text-align: right;\">\n",
       "      <th></th>\n",
       "      <th>objectid</th>\n",
       "      <th>county</th>\n",
       "      <th>jurisdictn</th>\n",
       "      <th>agency_nm</th>\n",
       "      <th>stop_name</th>\n",
       "      <th>route_ty_t</th>\n",
       "      <th>ppa_id</th>\n",
       "      <th>ppa_name</th>\n",
       "      <th>committd</th>\n",
       "      <th>status</th>\n",
       "      <th>exp_open</th>\n",
       "      <th>geom</th>\n",
       "    </tr>\n",
       "  </thead>\n",
       "  <tbody>\n",
       "    <tr>\n",
       "      <th>0</th>\n",
       "      <td>1</td>\n",
       "      <td>CA013</td>\n",
       "      <td>Brentwood</td>\n",
       "      <td>TBD</td>\n",
       "      <td>Brentwood</td>\n",
       "      <td>Bus</td>\n",
       "      <td>2202</td>\n",
       "      <td>Bus Rapid Transit to Brentwood (formerly BART ...</td>\n",
       "      <td>No</td>\n",
       "      <td>Final Blueprint</td>\n",
       "      <td>2021-2035</td>\n",
       "      <td>POINT (610284.281 4201385.715)</td>\n",
       "    </tr>\n",
       "    <tr>\n",
       "      <th>4</th>\n",
       "      <td>5</td>\n",
       "      <td>CA085</td>\n",
       "      <td>Cupertino</td>\n",
       "      <td>Bay Area Rapid Transit</td>\n",
       "      <td>De Anza College</td>\n",
       "      <td>Tram, Streetcar, Light Rail</td>\n",
       "      <td>2206</td>\n",
       "      <td>Stevens Creek Line (formerly BART to Cupertino)</td>\n",
       "      <td>No</td>\n",
       "      <td>Final Blueprint</td>\n",
       "      <td>2036-2050</td>\n",
       "      <td>POINT (585044.618 4131116.515)</td>\n",
       "    </tr>\n",
       "    <tr>\n",
       "      <th>5</th>\n",
       "      <td>6</td>\n",
       "      <td>CA085</td>\n",
       "      <td>Cupertino</td>\n",
       "      <td>Bay Area Rapid Transit</td>\n",
       "      <td>Wolfe Rd</td>\n",
       "      <td>Tram, Streetcar, Light Rail</td>\n",
       "      <td>2206</td>\n",
       "      <td>Stevens Creek Line (formerly BART to Cupertino)</td>\n",
       "      <td>No</td>\n",
       "      <td>Final Blueprint</td>\n",
       "      <td>2036-2050</td>\n",
       "      <td>POINT (587341.315 4131142.676)</td>\n",
       "    </tr>\n",
       "    <tr>\n",
       "      <th>6</th>\n",
       "      <td>7</td>\n",
       "      <td>CA085</td>\n",
       "      <td>San Jose</td>\n",
       "      <td>Bay Area Rapid Transit</td>\n",
       "      <td>Santana Row</td>\n",
       "      <td>Tram, Streetcar, Light Rail</td>\n",
       "      <td>2206</td>\n",
       "      <td>Stevens Creek Line (formerly BART to Cupertino)</td>\n",
       "      <td>No</td>\n",
       "      <td>Final Blueprint</td>\n",
       "      <td>2036-2050</td>\n",
       "      <td>POINT (593029.499 4131247.876)</td>\n",
       "    </tr>\n",
       "    <tr>\n",
       "      <th>7</th>\n",
       "      <td>8</td>\n",
       "      <td>CA001</td>\n",
       "      <td>Livermore</td>\n",
       "      <td>Tri-Valley - San Joaquin Valley Regional Rail ...</td>\n",
       "      <td>Greenville</td>\n",
       "      <td>Rail</td>\n",
       "      <td>2308</td>\n",
       "      <td>Valley Link</td>\n",
       "      <td>No</td>\n",
       "      <td>Final Blueprint</td>\n",
       "      <td>2021-2035</td>\n",
       "      <td>POINT (614697.756 4174984.841)</td>\n",
       "    </tr>\n",
       "    <tr>\n",
       "      <th>8</th>\n",
       "      <td>9</td>\n",
       "      <td>CA001</td>\n",
       "      <td>Livermore</td>\n",
       "      <td>Tri-Valley - San Joaquin Valley Regional Rail ...</td>\n",
       "      <td>Isabel</td>\n",
       "      <td>Rail</td>\n",
       "      <td>2308</td>\n",
       "      <td>Valley Link</td>\n",
       "      <td>No</td>\n",
       "      <td>Final Blueprint</td>\n",
       "      <td>2021-2035</td>\n",
       "      <td>POINT (605601.479 4173297.636)</td>\n",
       "    </tr>\n",
       "    <tr>\n",
       "      <th>9</th>\n",
       "      <td>10</td>\n",
       "      <td>CA075</td>\n",
       "      <td>San Francisco</td>\n",
       "      <td>Caltrain</td>\n",
       "      <td>San Francisco Salesforce Transit Center</td>\n",
       "      <td>Rail</td>\n",
       "      <td>2300</td>\n",
       "      <td>Downtown Extension</td>\n",
       "      <td>No</td>\n",
       "      <td>Final Blueprint</td>\n",
       "      <td>2036-2050</td>\n",
       "      <td>POINT (553062.795 4182548.638)</td>\n",
       "    </tr>\n",
       "    <tr>\n",
       "      <th>11</th>\n",
       "      <td>12</td>\n",
       "      <td>CA085</td>\n",
       "      <td>Campbell</td>\n",
       "      <td>Santa Clara Valley Transportation Authority</td>\n",
       "      <td>Hacienda</td>\n",
       "      <td>Tram, Streetcar, Light Rail</td>\n",
       "      <td>2403</td>\n",
       "      <td>Vasona Light Rail Transit Phase II</td>\n",
       "      <td>No</td>\n",
       "      <td>Final Blueprint</td>\n",
       "      <td>2036-2050</td>\n",
       "      <td>POINT (592560.134 4125234.519)</td>\n",
       "    </tr>\n",
       "    <tr>\n",
       "      <th>12</th>\n",
       "      <td>13</td>\n",
       "      <td>CA085</td>\n",
       "      <td>Los Gatos</td>\n",
       "      <td>Santa Clara Valley Transportation Authority</td>\n",
       "      <td>Vasona Junction</td>\n",
       "      <td>Tram, Streetcar, Light Rail</td>\n",
       "      <td>2403</td>\n",
       "      <td>Vasona Light Rail Transit Phase II</td>\n",
       "      <td>No</td>\n",
       "      <td>Final Blueprint</td>\n",
       "      <td>2036-2050</td>\n",
       "      <td>POINT (591876.008 4124047.071)</td>\n",
       "    </tr>\n",
       "    <tr>\n",
       "      <th>13</th>\n",
       "      <td>14</td>\n",
       "      <td>CA085</td>\n",
       "      <td>San Jose</td>\n",
       "      <td>Santa Clara Valley Transportation Authority</td>\n",
       "      <td>San Carlos Infill</td>\n",
       "      <td>Tram, Streetcar, Light Rail</td>\n",
       "      <td>2403</td>\n",
       "      <td>Vasona Light Rail Transit Phase II</td>\n",
       "      <td>No</td>\n",
       "      <td>Final Blueprint</td>\n",
       "      <td>2036-2050</td>\n",
       "      <td>POINT (597174.874 4131378.169)</td>\n",
       "    </tr>\n",
       "  </tbody>\n",
       "</table>\n",
       "</div>"
      ],
      "text/plain": [
       "    objectid county     jurisdictn  \\\n",
       "0          1  CA013      Brentwood   \n",
       "4          5  CA085      Cupertino   \n",
       "5          6  CA085      Cupertino   \n",
       "6          7  CA085       San Jose   \n",
       "7          8  CA001      Livermore   \n",
       "8          9  CA001      Livermore   \n",
       "9         10  CA075  San Francisco   \n",
       "11        12  CA085       Campbell   \n",
       "12        13  CA085      Los Gatos   \n",
       "13        14  CA085       San Jose   \n",
       "\n",
       "                                            agency_nm  \\\n",
       "0                                                 TBD   \n",
       "4                              Bay Area Rapid Transit   \n",
       "5                              Bay Area Rapid Transit   \n",
       "6                              Bay Area Rapid Transit   \n",
       "7   Tri-Valley - San Joaquin Valley Regional Rail ...   \n",
       "8   Tri-Valley - San Joaquin Valley Regional Rail ...   \n",
       "9                                            Caltrain   \n",
       "11        Santa Clara Valley Transportation Authority   \n",
       "12        Santa Clara Valley Transportation Authority   \n",
       "13        Santa Clara Valley Transportation Authority   \n",
       "\n",
       "                                  stop_name                   route_ty_t  \\\n",
       "0                                 Brentwood                          Bus   \n",
       "4                           De Anza College  Tram, Streetcar, Light Rail   \n",
       "5                                  Wolfe Rd  Tram, Streetcar, Light Rail   \n",
       "6                               Santana Row  Tram, Streetcar, Light Rail   \n",
       "7                                Greenville                         Rail   \n",
       "8                                    Isabel                         Rail   \n",
       "9   San Francisco Salesforce Transit Center                         Rail   \n",
       "11                                 Hacienda  Tram, Streetcar, Light Rail   \n",
       "12                          Vasona Junction  Tram, Streetcar, Light Rail   \n",
       "13                        San Carlos Infill  Tram, Streetcar, Light Rail   \n",
       "\n",
       "    ppa_id                                           ppa_name committd  \\\n",
       "0     2202  Bus Rapid Transit to Brentwood (formerly BART ...       No   \n",
       "4     2206    Stevens Creek Line (formerly BART to Cupertino)       No   \n",
       "5     2206    Stevens Creek Line (formerly BART to Cupertino)       No   \n",
       "6     2206    Stevens Creek Line (formerly BART to Cupertino)       No   \n",
       "7     2308                                        Valley Link       No   \n",
       "8     2308                                        Valley Link       No   \n",
       "9     2300                                 Downtown Extension       No   \n",
       "11    2403                 Vasona Light Rail Transit Phase II       No   \n",
       "12    2403                 Vasona Light Rail Transit Phase II       No   \n",
       "13    2403                 Vasona Light Rail Transit Phase II       No   \n",
       "\n",
       "             status   exp_open                            geom  \n",
       "0   Final Blueprint  2021-2035  POINT (610284.281 4201385.715)  \n",
       "4   Final Blueprint  2036-2050  POINT (585044.618 4131116.515)  \n",
       "5   Final Blueprint  2036-2050  POINT (587341.315 4131142.676)  \n",
       "6   Final Blueprint  2036-2050  POINT (593029.499 4131247.876)  \n",
       "7   Final Blueprint  2021-2035  POINT (614697.756 4174984.841)  \n",
       "8   Final Blueprint  2021-2035  POINT (605601.479 4173297.636)  \n",
       "9   Final Blueprint  2036-2050  POINT (553062.795 4182548.638)  \n",
       "11  Final Blueprint  2036-2050  POINT (592560.134 4125234.519)  \n",
       "12  Final Blueprint  2036-2050  POINT (591876.008 4124047.071)  \n",
       "13  Final Blueprint  2036-2050  POINT (597174.874 4131378.169)  "
      ]
     },
     "execution_count": 57,
     "metadata": {},
     "output_type": "execute_result"
    }
   ],
   "source": [
    "transit_stops_plan_utmz10.head(10)"
   ]
  },
  {
   "cell_type": "code",
   "execution_count": 58,
   "metadata": {},
   "outputs": [],
   "source": [
    "#Buffer planned and potential stops by 1/2 mile\n",
    "buffer_distance = .5 * 1609.344\n",
    "transit_stops_plan_utmz10['geom'] = transit_stops_plan_utmz10.buffer(buffer_distance)"
   ]
  },
  {
   "cell_type": "code",
   "execution_count": 59,
   "metadata": {},
   "outputs": [
    {
     "data": {
      "image/png": "[encoded data removed]",
      "text/plain": [
       "<Figure size 720x720 with 1 Axes>"
      ]
     },
     "metadata": {
      "needs_background": "light"
     },
     "output_type": "display_data"
    }
   ],
   "source": [
    "transit_stops_plan_utmz10.plot(figsize=(10,10));"
   ]
  },
  {
   "cell_type": "markdown",
   "metadata": {},
   "source": [
    "## Pull PBA2050 Transit Project Lines"
   ]
  },
  {
   "cell_type": "code",
   "execution_count": 60,
   "metadata": {},
   "outputs": [],
   "source": [
    "#pull from portal\n",
    "transit_lines_plan = pull_geodata_from_argis('c977b5c75587445fb25ba7beea5d2348',client=gis)"
   ]
  },
  {
   "cell_type": "code",
   "execution_count": 61,
   "metadata": {},
   "outputs": [
    {
     "data": {
      "text/plain": [
       "<Geographic 2D CRS: EPSG:4326>\n",
       "Name: WGS 84\n",
       "Axis Info [ellipsoidal]:\n",
       "- Lat[north]: Geodetic latitude (degree)\n",
       "- Lon[east]: Geodetic longitude (degree)\n",
       "Area of Use:\n",
       "- name: World\n",
       "- bounds: (-180.0, -90.0, 180.0, 90.0)\n",
       "Datum: World Geodetic System 1984\n",
       "- Ellipsoid: WGS 84\n",
       "- Prime Meridian: Greenwich"
      ]
     },
     "execution_count": 61,
     "metadata": {},
     "output_type": "execute_result"
    }
   ],
   "source": [
    "transit_lines_plan.crs"
   ]
  },
  {
   "cell_type": "code",
   "execution_count": 62,
   "metadata": {},
   "outputs": [
    {
     "data": {
      "text/html": [
       "<div>\n",
       "<style scoped>\n",
       "    .dataframe tbody tr th:only-of-type {\n",
       "        vertical-align: middle;\n",
       "    }\n",
       "\n",
       "    .dataframe tbody tr th {\n",
       "        vertical-align: top;\n",
       "    }\n",
       "\n",
       "    .dataframe thead th {\n",
       "        text-align: right;\n",
       "    }\n",
       "</style>\n",
       "<table border=\"1\" class=\"dataframe\">\n",
       "  <thead>\n",
       "    <tr style=\"text-align: right;\">\n",
       "      <th></th>\n",
       "      <th>objectid</th>\n",
       "      <th>proj_name</th>\n",
       "      <th>proj_id</th>\n",
       "      <th>date</th>\n",
       "      <th>edited_by</th>\n",
       "      <th>type</th>\n",
       "      <th>proj_desc</th>\n",
       "      <th>trans_type</th>\n",
       "      <th>final_bp</th>\n",
       "      <th>SHAPE__Length</th>\n",
       "      <th>geom</th>\n",
       "    </tr>\n",
       "  </thead>\n",
       "  <tbody>\n",
       "    <tr>\n",
       "      <th>0</th>\n",
       "      <td>1</td>\n",
       "      <td>Crossing Concept #1</td>\n",
       "      <td>b569ce86-c447-11e9-99c0-003ee1c8de60</td>\n",
       "      <td>2019-8-21</td>\n",
       "      <td>Raleigh McCoy</td>\n",
       "      <td>Line</td>\n",
       "      <td>Crossing 1</td>\n",
       "      <td>None</td>\n",
       "      <td>0</td>\n",
       "      <td>0.226824</td>\n",
       "      <td>MULTILINESTRING ((-122.09466 37.64571, -122.09...</td>\n",
       "    </tr>\n",
       "    <tr>\n",
       "      <th>1</th>\n",
       "      <td>2</td>\n",
       "      <td>Crossing Concept #2</td>\n",
       "      <td>b56cf8fa-c447-11e9-a898-003ee1c8de60</td>\n",
       "      <td>2019-8-21</td>\n",
       "      <td>Raleigh McCoy</td>\n",
       "      <td>Line</td>\n",
       "      <td>Crossing 2</td>\n",
       "      <td>None</td>\n",
       "      <td>0</td>\n",
       "      <td>0.278014</td>\n",
       "      <td>MULTILINESTRING ((-122.40540 37.63570, -122.40...</td>\n",
       "    </tr>\n",
       "    <tr>\n",
       "      <th>2</th>\n",
       "      <td>3</td>\n",
       "      <td>Crossing Concept #3</td>\n",
       "      <td>b56cfc46-c447-11e9-b877-003ee1c8de60</td>\n",
       "      <td>2019-8-21</td>\n",
       "      <td>Raleigh McCoy</td>\n",
       "      <td>Line</td>\n",
       "      <td>Crossing 3</td>\n",
       "      <td>None</td>\n",
       "      <td>0</td>\n",
       "      <td>0.303308</td>\n",
       "      <td>MULTILINESTRING ((-122.46832 37.70637, -122.46...</td>\n",
       "    </tr>\n",
       "    <tr>\n",
       "      <th>3</th>\n",
       "      <td>4</td>\n",
       "      <td>Crossing Concept #4</td>\n",
       "      <td>b56cfc9e-c447-11e9-a5e3-003ee1c8de60</td>\n",
       "      <td>2019-8-21</td>\n",
       "      <td>Raleigh McCoy</td>\n",
       "      <td>Line</td>\n",
       "      <td>Crossing 4</td>\n",
       "      <td>None</td>\n",
       "      <td>0</td>\n",
       "      <td>0.326996</td>\n",
       "      <td>MULTILINESTRING ((-122.46859 37.70637, -122.46...</td>\n",
       "    </tr>\n",
       "    <tr>\n",
       "      <th>4</th>\n",
       "      <td>5</td>\n",
       "      <td>Crossing Concept #5</td>\n",
       "      <td>b56cfcf8-c447-11e9-8e22-003ee1c8de60</td>\n",
       "      <td>2019-8-21</td>\n",
       "      <td>Raleigh McCoy</td>\n",
       "      <td>Line</td>\n",
       "      <td>Crossing 5</td>\n",
       "      <td>None</td>\n",
       "      <td>0</td>\n",
       "      <td>0.139503</td>\n",
       "      <td>MULTILINESTRING ((-122.39553 37.78951, -122.39...</td>\n",
       "    </tr>\n",
       "  </tbody>\n",
       "</table>\n",
       "</div>"
      ],
      "text/plain": [
       "   objectid            proj_name                               proj_id  \\\n",
       "0         1  Crossing Concept #1  b569ce86-c447-11e9-99c0-003ee1c8de60   \n",
       "1         2  Crossing Concept #2  b56cf8fa-c447-11e9-a898-003ee1c8de60   \n",
       "2         3  Crossing Concept #3  b56cfc46-c447-11e9-b877-003ee1c8de60   \n",
       "3         4  Crossing Concept #4  b56cfc9e-c447-11e9-a5e3-003ee1c8de60   \n",
       "4         5  Crossing Concept #5  b56cfcf8-c447-11e9-8e22-003ee1c8de60   \n",
       "\n",
       "        date      edited_by  type   proj_desc trans_type  final_bp  \\\n",
       "0  2019-8-21  Raleigh McCoy  Line  Crossing 1       None         0   \n",
       "1  2019-8-21  Raleigh McCoy  Line  Crossing 2       None         0   \n",
       "2  2019-8-21  Raleigh McCoy  Line  Crossing 3       None         0   \n",
       "3  2019-8-21  Raleigh McCoy  Line  Crossing 4       None         0   \n",
       "4  2019-8-21  Raleigh McCoy  Line  Crossing 5       None         0   \n",
       "\n",
       "   SHAPE__Length                                               geom  \n",
       "0       0.226824  MULTILINESTRING ((-122.09466 37.64571, -122.09...  \n",
       "1       0.278014  MULTILINESTRING ((-122.40540 37.63570, -122.40...  \n",
       "2       0.303308  MULTILINESTRING ((-122.46832 37.70637, -122.46...  \n",
       "3       0.326996  MULTILINESTRING ((-122.46859 37.70637, -122.46...  \n",
       "4       0.139503  MULTILINESTRING ((-122.39553 37.78951, -122.39...  "
      ]
     },
     "execution_count": 62,
     "metadata": {},
     "output_type": "execute_result"
    }
   ],
   "source": [
    "transit_lines_plan.head(5)"
   ]
  },
  {
   "cell_type": "code",
   "execution_count": 63,
   "metadata": {},
   "outputs": [],
   "source": [
    "#project to WGS84 UTMZ10\n",
    "transit_lines_plan_utmz10 = transit_lines_plan.to_crs('EPSG:32610')"
   ]
  },
  {
   "cell_type": "code",
   "execution_count": 64,
   "metadata": {},
   "outputs": [
    {
     "data": {
      "text/plain": [
       "array([None, 'Local Bus', 'Group Rapid Transit', 'Commuter Rail',\n",
       "       'Local Rapid Bus', 'Regional Express Bus', 'Bus Rapid Transit',\n",
       "       'Light Rail', 'Ferry', 'Bicycle', 'Road',\n",
       "       'Automated Vehicle Shuttle', 'Maglev Rail'], dtype=object)"
      ]
     },
     "execution_count": 64,
     "metadata": {},
     "output_type": "execute_result"
    }
   ],
   "source": [
    "transit_lines_plan_utmz10['trans_type'].unique()"
   ]
  },
  {
   "cell_type": "code",
   "execution_count": 65,
   "metadata": {},
   "outputs": [],
   "source": [
    "#filter for BRT projects\n",
    "transit_lines_plan_utmz10 = transit_lines_plan_utmz10[(transit_lines_plan_utmz10['final_bp'] == 1) &\n",
    "                                                    (transit_lines_plan_utmz10['trans_type'] == 'Bus Rapid Transit')].copy()"
   ]
  },
  {
   "cell_type": "code",
   "execution_count": 66,
   "metadata": {},
   "outputs": [
    {
     "name": "stdout",
     "output_type": "stream",
     "text": [
      "<class 'geopandas.geodataframe.GeoDataFrame'>\n",
      "Int64Index: 4 entries, 66 to 162\n",
      "Data columns (total 11 columns):\n",
      " #   Column         Non-Null Count  Dtype   \n",
      "---  ------         --------------  -----   \n",
      " 0   objectid       4 non-null      int64   \n",
      " 1   proj_name      4 non-null      object  \n",
      " 2   proj_id        4 non-null      object  \n",
      " 3   date           4 non-null      object  \n",
      " 4   edited_by      4 non-null      object  \n",
      " 5   type           4 non-null      object  \n",
      " 6   proj_desc      4 non-null      object  \n",
      " 7   trans_type     4 non-null      object  \n",
      " 8   final_bp       4 non-null      int64   \n",
      " 9   SHAPE__Length  4 non-null      float64 \n",
      " 10  geom           4 non-null      geometry\n",
      "dtypes: float64(1), geometry(1), int64(2), object(7)\n",
      "memory usage: 384.0+ bytes\n"
     ]
    }
   ],
   "source": [
    "transit_lines_plan_utmz10.info()"
   ]
  },
  {
   "cell_type": "code",
   "execution_count": 67,
   "metadata": {},
   "outputs": [
    {
     "data": {
      "image/png": "[encoded data removed]",
      "text/plain": [
       "<Figure size 720x720 with 1 Axes>"
      ]
     },
     "metadata": {
      "needs_background": "light"
     },
     "output_type": "display_data"
    }
   ],
   "source": [
    "transit_lines_plan_utmz10.plot(figsize=(10,10));"
   ]
  },
  {
   "cell_type": "code",
   "execution_count": 68,
   "metadata": {},
   "outputs": [],
   "source": [
    "#Buffer BRT transit lines by 1/2 mile\n",
    "buffer_distance = .5 * 1609.344\n",
    "transit_lines_plan_utmz10['geom'] = transit_lines_plan_utmz10.buffer(buffer_distance)"
   ]
  },
  {
   "cell_type": "code",
   "execution_count": 69,
   "metadata": {},
   "outputs": [
    {
     "name": "stdout",
     "output_type": "stream",
     "text": [
      "<class 'geopandas.geodataframe.GeoDataFrame'>\n",
      "Int64Index: 4 entries, 66 to 162\n",
      "Data columns (total 11 columns):\n",
      " #   Column         Non-Null Count  Dtype   \n",
      "---  ------         --------------  -----   \n",
      " 0   objectid       4 non-null      int64   \n",
      " 1   proj_name      4 non-null      object  \n",
      " 2   proj_id        4 non-null      object  \n",
      " 3   date           4 non-null      object  \n",
      " 4   edited_by      4 non-null      object  \n",
      " 5   type           4 non-null      object  \n",
      " 6   proj_desc      4 non-null      object  \n",
      " 7   trans_type     4 non-null      object  \n",
      " 8   final_bp       4 non-null      int64   \n",
      " 9   SHAPE__Length  4 non-null      float64 \n",
      " 10  geom           4 non-null      geometry\n",
      "dtypes: float64(1), geometry(1), int64(2), object(7)\n",
      "memory usage: 384.0+ bytes\n"
     ]
    }
   ],
   "source": [
    "transit_lines_plan_utmz10.info()"
   ]
  },
  {
   "cell_type": "code",
   "execution_count": 70,
   "metadata": {},
   "outputs": [
    {
     "data": {
      "image/png": "[encoded data removed]",
      "text/plain": [
       "<Figure size 720x720 with 1 Axes>"
      ]
     },
     "metadata": {
      "needs_background": "light"
     },
     "output_type": "display_data"
    }
   ],
   "source": [
    "transit_lines_plan_utmz10.plot(figsize=(10,10));"
   ]
  },
  {
   "cell_type": "markdown",
   "metadata": {},
   "source": [
    "## Append Point Datasets"
   ]
  },
  {
   "cell_type": "code",
   "execution_count": 71,
   "metadata": {},
   "outputs": [],
   "source": [
    "stops_append = transit_stops_exist_utmz10[['agency_nm',\n",
    "                                          'route_ty_t',\n",
    "                                          'stop_name',\n",
    "                                          'geom']].append(transit_stops_plan_utmz10[['agency_nm',\n",
    "                                                                                    'route_ty_t',\n",
    "                                                                                    'stop_name',\n",
    "                                                                                    'geom']])"
   ]
  },
  {
   "cell_type": "code",
   "execution_count": 72,
   "metadata": {},
   "outputs": [
    {
     "name": "stdout",
     "output_type": "stream",
     "text": [
      "<class 'geopandas.geodataframe.GeoDataFrame'>\n",
      "Int64Index: 6565 entries, 0 to 91\n",
      "Data columns (total 4 columns):\n",
      " #   Column      Non-Null Count  Dtype   \n",
      "---  ------      --------------  -----   \n",
      " 0   agency_nm   6565 non-null   object  \n",
      " 1   route_ty_t  6564 non-null   object  \n",
      " 2   stop_name   6565 non-null   object  \n",
      " 3   geom        6565 non-null   geometry\n",
      "dtypes: geometry(1), object(3)\n",
      "memory usage: 256.4+ KB\n"
     ]
    }
   ],
   "source": [
    "stops_append.info()"
   ]
  },
  {
   "cell_type": "markdown",
   "metadata": {},
   "source": [
    "## Append Point and Line Datasets"
   ]
  },
  {
   "cell_type": "code",
   "execution_count": 73,
   "metadata": {},
   "outputs": [
    {
     "name": "stdout",
     "output_type": "stream",
     "text": [
      "<class 'geopandas.geodataframe.GeoDataFrame'>\n",
      "Int64Index: 4 entries, 66 to 162\n",
      "Data columns (total 11 columns):\n",
      " #   Column         Non-Null Count  Dtype   \n",
      "---  ------         --------------  -----   \n",
      " 0   objectid       4 non-null      int64   \n",
      " 1   proj_name      4 non-null      object  \n",
      " 2   proj_id        4 non-null      object  \n",
      " 3   date           4 non-null      object  \n",
      " 4   edited_by      4 non-null      object  \n",
      " 5   type           4 non-null      object  \n",
      " 6   proj_desc      4 non-null      object  \n",
      " 7   trans_type     4 non-null      object  \n",
      " 8   final_bp       4 non-null      int64   \n",
      " 9   SHAPE__Length  4 non-null      float64 \n",
      " 10  geom           4 non-null      geometry\n",
      "dtypes: float64(1), geometry(1), int64(2), object(7)\n",
      "memory usage: 384.0+ bytes\n"
     ]
    }
   ],
   "source": [
    "transit_lines_plan_utmz10.info()"
   ]
  },
  {
   "cell_type": "code",
   "execution_count": 74,
   "metadata": {},
   "outputs": [],
   "source": [
    "transit_lines_plan_utmz10.rename(columns={'trans_type':'route_ty_t'},inplace=True)"
   ]
  },
  {
   "cell_type": "code",
   "execution_count": 75,
   "metadata": {},
   "outputs": [],
   "source": [
    "stops_lines_append = stops_append.append(transit_lines_plan_utmz10[['proj_name',\n",
    "                                                                   'final_bp',\n",
    "                                                                   'route_ty_t',\n",
    "                                                                   'geom']])"
   ]
  },
  {
   "cell_type": "code",
   "execution_count": 76,
   "metadata": {},
   "outputs": [
    {
     "data": {
      "text/html": [
       "<div>\n",
       "<style scoped>\n",
       "    .dataframe tbody tr th:only-of-type {\n",
       "        vertical-align: middle;\n",
       "    }\n",
       "\n",
       "    .dataframe tbody tr th {\n",
       "        vertical-align: top;\n",
       "    }\n",
       "\n",
       "    .dataframe thead th {\n",
       "        text-align: right;\n",
       "    }\n",
       "</style>\n",
       "<table border=\"1\" class=\"dataframe\">\n",
       "  <thead>\n",
       "    <tr style=\"text-align: right;\">\n",
       "      <th></th>\n",
       "      <th>agency_nm</th>\n",
       "      <th>route_ty_t</th>\n",
       "      <th>stop_name</th>\n",
       "      <th>geom</th>\n",
       "      <th>proj_name</th>\n",
       "      <th>final_bp</th>\n",
       "    </tr>\n",
       "  </thead>\n",
       "  <tbody>\n",
       "    <tr>\n",
       "      <th>0</th>\n",
       "      <td>Bay Area Rapid Transit</td>\n",
       "      <td>Rail</td>\n",
       "      <td>12th St. Oakland City Center</td>\n",
       "      <td>POLYGON ((564939.916 4184293.205, 564936.041 4...</td>\n",
       "      <td>NaN</td>\n",
       "      <td>NaN</td>\n",
       "    </tr>\n",
       "    <tr>\n",
       "      <th>1</th>\n",
       "      <td>Bay Area Rapid Transit</td>\n",
       "      <td>Rail</td>\n",
       "      <td>16th St. Mission</td>\n",
       "      <td>POLYGON ((551916.674 4179906.983, 551912.799 4...</td>\n",
       "      <td>NaN</td>\n",
       "      <td>NaN</td>\n",
       "    </tr>\n",
       "    <tr>\n",
       "      <th>2</th>\n",
       "      <td>Bay Area Rapid Transit</td>\n",
       "      <td>Rail</td>\n",
       "      <td>19th St. Oakland</td>\n",
       "      <td>POLYGON ((565186.832 4184803.318, 565182.957 4...</td>\n",
       "      <td>NaN</td>\n",
       "      <td>NaN</td>\n",
       "    </tr>\n",
       "    <tr>\n",
       "      <th>3</th>\n",
       "      <td>Bay Area Rapid Transit</td>\n",
       "      <td>Rail</td>\n",
       "      <td>24th St. Mission</td>\n",
       "      <td>POLYGON ((552061.881 4178510.984, 552058.007 4...</td>\n",
       "      <td>NaN</td>\n",
       "      <td>NaN</td>\n",
       "    </tr>\n",
       "    <tr>\n",
       "      <th>4</th>\n",
       "      <td>Bay Area Rapid Transit</td>\n",
       "      <td>Rail</td>\n",
       "      <td>Antioch</td>\n",
       "      <td>POLYGON ((607889.218 4206005.178, 607885.343 4...</td>\n",
       "      <td>NaN</td>\n",
       "      <td>NaN</td>\n",
       "    </tr>\n",
       "  </tbody>\n",
       "</table>\n",
       "</div>"
      ],
      "text/plain": [
       "                agency_nm route_ty_t                     stop_name  \\\n",
       "0  Bay Area Rapid Transit       Rail  12th St. Oakland City Center   \n",
       "1  Bay Area Rapid Transit       Rail              16th St. Mission   \n",
       "2  Bay Area Rapid Transit       Rail              19th St. Oakland   \n",
       "3  Bay Area Rapid Transit       Rail              24th St. Mission   \n",
       "4  Bay Area Rapid Transit       Rail                       Antioch   \n",
       "\n",
       "                                                geom proj_name  final_bp  \n",
       "0  POLYGON ((564939.916 4184293.205, 564936.041 4...       NaN       NaN  \n",
       "1  POLYGON ((551916.674 4179906.983, 551912.799 4...       NaN       NaN  \n",
       "2  POLYGON ((565186.832 4184803.318, 565182.957 4...       NaN       NaN  \n",
       "3  POLYGON ((552061.881 4178510.984, 552058.007 4...       NaN       NaN  \n",
       "4  POLYGON ((607889.218 4206005.178, 607885.343 4...       NaN       NaN  "
      ]
     },
     "execution_count": 76,
     "metadata": {},
     "output_type": "execute_result"
    }
   ],
   "source": [
    "stops_lines_append.head(5)"
   ]
  },
  {
   "cell_type": "code",
   "execution_count": 77,
   "metadata": {},
   "outputs": [
    {
     "data": {
      "image/png": "[encoded data removed]",
      "text/plain": [
       "<Figure size 720x720 with 1 Axes>"
      ]
     },
     "metadata": {
      "needs_background": "light"
     },
     "output_type": "display_data"
    }
   ],
   "source": [
    "stops_lines_append.plot(figsize=(10,10));"
   ]
  },
  {
   "cell_type": "code",
   "execution_count": 78,
   "metadata": {},
   "outputs": [
    {
     "data": {
      "text/plain": [
       "<Projected CRS: EPSG:32610>\n",
       "Name: WGS 84 / UTM zone 10N\n",
       "Axis Info [cartesian]:\n",
       "- E[east]: Easting (metre)\n",
       "- N[north]: Northing (metre)\n",
       "Area of Use:\n",
       "- name: World - N hemisphere - 126°W to 120°W - by country\n",
       "- bounds: (-126.0, 0.0, -120.0, 84.0)\n",
       "Coordinate Operation:\n",
       "- name: UTM zone 10N\n",
       "- method: Transverse Mercator\n",
       "Datum: World Geodetic System 1984\n",
       "- Ellipsoid: WGS 84\n",
       "- Prime Meridian: Greenwich"
      ]
     },
     "execution_count": 78,
     "metadata": {},
     "output_type": "execute_result"
    }
   ],
   "source": [
    "stops_lines_append.crs"
   ]
  },
  {
   "cell_type": "code",
   "execution_count": 79,
   "metadata": {},
   "outputs": [],
   "source": [
    "#Unproject \n",
    "stops_lines_append_wgs84 = stops_lines_append.to_crs('EPSG:4326')"
   ]
  },
  {
   "cell_type": "code",
   "execution_count": 80,
   "metadata": {},
   "outputs": [
    {
     "data": {
      "text/plain": [
       "<Geographic 2D CRS: EPSG:4326>\n",
       "Name: WGS 84\n",
       "Axis Info [ellipsoidal]:\n",
       "- Lat[north]: Geodetic latitude (degree)\n",
       "- Lon[east]: Geodetic longitude (degree)\n",
       "Area of Use:\n",
       "- name: World\n",
       "- bounds: (-180.0, -90.0, 180.0, 90.0)\n",
       "Datum: World Geodetic System 1984\n",
       "- Ellipsoid: WGS 84\n",
       "- Prime Meridian: Greenwich"
      ]
     },
     "execution_count": 80,
     "metadata": {},
     "output_type": "execute_result"
    }
   ],
   "source": [
    "stops_lines_append_wgs84.crs"
   ]
  },
  {
   "cell_type": "code",
   "execution_count": 81,
   "metadata": {},
   "outputs": [
    {
     "data": {
      "text/plain": [
       "array(['Polygon'], dtype=object)"
      ]
     },
     "execution_count": 81,
     "metadata": {},
     "output_type": "execute_result"
    }
   ],
   "source": [
    "#Check geometry type\n",
    "stops_lines_append_wgs84.geom_type.unique()"
   ]
  },
  {
   "cell_type": "code",
   "execution_count": 82,
   "metadata": {},
   "outputs": [],
   "source": [
    "#Dissolve features\n",
    "stops_lines_append_wgs84['tra'] = 1\n",
    "stops_lines_append_wgs84_diss = stops_lines_append_wgs84[['tra','geom']].dissolve(by='tra',as_index=False)"
   ]
  },
  {
   "cell_type": "code",
   "execution_count": 83,
   "metadata": {},
   "outputs": [],
   "source": [
    "#Output to geojson for inspection\n",
    "stops_lines_append_wgs84_diss.to_file('../transit_rich_areas.geojson',driver='GeoJSON')"
   ]
  },
  {
   "cell_type": "markdown",
   "metadata": {},
   "source": [
    "## Convert to ESRI spatial data frame"
   ]
  },
  {
   "cell_type": "code",
   "execution_count": 84,
   "metadata": {},
   "outputs": [],
   "source": [
    "stops_lines_append_wgs84_sdf = pd.DataFrame.spatial.from_geodataframe(stops_lines_append_wgs84_diss,\n",
    "                                                                      column_name='geom')"
   ]
  },
  {
   "cell_type": "code",
   "execution_count": 85,
   "metadata": {},
   "outputs": [
    {
     "data": {
      "text/plain": [
       "(1, 2)"
      ]
     },
     "execution_count": 85,
     "metadata": {},
     "output_type": "execute_result"
    }
   ],
   "source": [
    "stops_lines_append_wgs84_sdf.shape"
   ]
  },
  {
   "cell_type": "code",
   "execution_count": 86,
   "metadata": {},
   "outputs": [
    {
     "data": {
      "text/plain": [
       "{'wkid': 4326}"
      ]
     },
     "execution_count": 86,
     "metadata": {},
     "output_type": "execute_result"
    }
   ],
   "source": [
    "stops_lines_append_wgs84_sdf.spatial.sr"
   ]
  },
  {
   "cell_type": "code",
   "execution_count": 87,
   "metadata": {},
   "outputs": [
    {
     "data": {
      "text/html": [
       "<div>\n",
       "<style scoped>\n",
       "    .dataframe tbody tr th:only-of-type {\n",
       "        vertical-align: middle;\n",
       "    }\n",
       "\n",
       "    .dataframe tbody tr th {\n",
       "        vertical-align: top;\n",
       "    }\n",
       "\n",
       "    .dataframe thead th {\n",
       "        text-align: right;\n",
       "    }\n",
       "</style>\n",
       "<table border=\"1\" class=\"dataframe\">\n",
       "  <thead>\n",
       "    <tr style=\"text-align: right;\">\n",
       "      <th></th>\n",
       "      <th>tra</th>\n",
       "      <th>geom</th>\n",
       "    </tr>\n",
       "  </thead>\n",
       "  <tbody>\n",
       "    <tr>\n",
       "      <th>0</th>\n",
       "      <td>1</td>\n",
       "      <td>{\"rings\": [[[-121.56199876686438, 36.997074940...</td>\n",
       "    </tr>\n",
       "  </tbody>\n",
       "</table>\n",
       "</div>"
      ],
      "text/plain": [
       "   tra                                               geom\n",
       "0    1  {\"rings\": [[[-121.56199876686438, 36.997074940..."
      ]
     },
     "execution_count": 87,
     "metadata": {},
     "output_type": "execute_result"
    }
   ],
   "source": [
    "stops_lines_append_wgs84_sdf.head()"
   ]
  },
  {
   "cell_type": "code",
   "execution_count": 87,
   "metadata": {},
   "outputs": [
    {
     "data": {
      "text/plain": [
       "'/Users/jcroff/Documents/GitHub/Spatial-Analysis-Mapping-Projects/Project-Documentation/Plan-Bay-Area-2050-Growth-Framework/transit_rich_areas_v4.shp'"
      ]
     },
     "execution_count": 87,
     "metadata": {},
     "output_type": "execute_result"
    }
   ],
   "source": [
    "# stops_lines_append_wgs84_sdf.spatial.to_featureclass('../transit_rich_areas_v4.shp')"
   ]
  },
  {
   "cell_type": "code",
   "execution_count": 88,
   "metadata": {},
   "outputs": [
    {
     "data": {
      "text/html": [
       "<div class=\"item_container\" style=\"height: auto; overflow: hidden; border: 1px solid #cfcfcf; border-radius: 2px; background: #f6fafa; line-height: 1.21429em; padding: 10px;\">\n",
       "                    <div class=\"item_left\" style=\"width: 210px; float: left;\">\n",
       "                       <a href='https://arcgis.ad.mtc.ca.gov/portal//home/item.html?id=9efb16077fc7471cbee39e3fe43be481' target='_blank'>\n",
       "                        <img src='https://arcgis.ad.mtc.ca.gov/portal//portalimages/desktopapp.png' class=\"itemThumbnail\">\n",
       "                       </a>\n",
       "                    </div>\n",
       "\n",
       "                    <div class=\"item_right\"     style=\"float: none; width: auto; overflow: hidden;\">\n",
       "                        <a href='https://arcgis.ad.mtc.ca.gov/portal//home/item.html?id=9efb16077fc7471cbee39e3fe43be481' target='_blank'><b>Transit Rich Areas 2020 v5</b>\n",
       "                        </a>\n",
       "                        <br/><img src='https://arcgis.ad.mtc.ca.gov/portal//home/js/jsapi/esri/css/images/item_type_icons/featureshosted16.png' style=\"vertical-align:middle;\">Feature Layer Collection by jcroff\n",
       "                        <br/>Last Modified: August 26, 2020\n",
       "                        <br/>0 comments, 0 views\n",
       "                    </div>\n",
       "                </div>\n",
       "                "
      ],
      "text/plain": [
       "<Item title:\"Transit Rich Areas 2020 v5\" type:Feature Layer Collection owner:jcroff>"
      ]
     },
     "execution_count": 88,
     "metadata": {},
     "output_type": "execute_result"
    }
   ],
   "source": [
    "title = 'Transit Rich Areas 2020 v5'\n",
    "folder = 'Plan Bay Area 2050'\n",
    "stops_lines_append_wgs84_sdf.spatial.to_featurelayer(title,folder=folder)"
   ]
  },
  {
   "cell_type": "code",
   "execution_count": 89,
   "metadata": {},
   "outputs": [],
   "source": [
    "trans = gis.content.get('9efb16077fc7471cbee39e3fe43be481')"
   ]
  },
  {
   "cell_type": "code",
   "execution_count": 90,
   "metadata": {},
   "outputs": [
    {
     "data": {
      "text/plain": [
       "{\n",
       "  \"currentVersion\": 10.8,\n",
       "  \"cimVersion\": \"2.5.0\",\n",
       "  \"id\": 0,\n",
       "  \"name\": \"g3bbd3\",\n",
       "  \"type\": \"Feature Layer\",\n",
       "  \"parentLayer\": null,\n",
       "  \"defaultVisibility\": true,\n",
       "  \"minScale\": 0,\n",
       "  \"maxScale\": 577790,\n",
       "  \"canScaleSymbols\": false,\n",
       "  \"geometryType\": \"esriGeometryPolygon\",\n",
       "  \"description\": \"\",\n",
       "  \"copyrightText\": \"\",\n",
       "  \"editFieldsInfo\": null,\n",
       "  \"syncCanReturnChanges\": true,\n",
       "  \"relationships\": [],\n",
       "  \"isDataVersioned\": false,\n",
       "  \"isDataArchived\": false,\n",
       "  \"isDataBranchVersioned\": false,\n",
       "  \"isCoGoEnabled\": false,\n",
       "  \"supportsRollbackOnFailureParameter\": true,\n",
       "  \"supportsStatistics\": true,\n",
       "  \"supportsAdvancedQueries\": true,\n",
       "  \"supportsValidateSQL\": true,\n",
       "  \"supportsCoordinatesQuantization\": true,\n",
       "  \"supportsCalculate\": true,\n",
       "  \"supportsASyncCalculate\": true,\n",
       "  \"advancedQueryCapabilities\": {\n",
       "    \"supportsReturningQueryExtent\": true,\n",
       "    \"supportsStatistics\": true,\n",
       "    \"supportsDistinct\": true,\n",
       "    \"supportsPagination\": true,\n",
       "    \"supportsOrderBy\": true,\n",
       "    \"supportsQueryWithDistance\": true,\n",
       "    \"supportsLod\": false,\n",
       "    \"supportsPaginationOnAggregatedQueries\": true,\n",
       "    \"supportsQueryWithResultType\": true,\n",
       "    \"supportsCountDistinct\": true,\n",
       "    \"supportsReturningGeometryCentroid\": true,\n",
       "    \"supportsHavingClause\": true,\n",
       "    \"supportsQueryWithLodSR\": false,\n",
       "    \"supportsTopFeaturesQuery\": false,\n",
       "    \"supportsOrderByOnlyOnLayerFields\": false,\n",
       "    \"supportsPercentileStatistics\": true,\n",
       "    \"supportsQueryAttachments\": true,\n",
       "    \"supportsQueryAttachmentsWithReturnUrl\": true,\n",
       "    \"supportsQueryWithDatumTransformation\": true\n",
       "  },\n",
       "  \"extent\": {\n",
       "    \"xmin\": -13672973.979720214,\n",
       "    \"ymin\": 4438581.118182801,\n",
       "    \"xmax\": -13531668.769705914,\n",
       "    \"ymax\": 4658114.76966285,\n",
       "    \"spatialReference\": {\n",
       "      \"wkid\": 102100,\n",
       "      \"latestWkid\": 3857,\n",
       "      \"xyTolerance\": 0.001,\n",
       "      \"zTolerance\": 0.001,\n",
       "      \"mTolerance\": 0.001,\n",
       "      \"falseX\": -20037700,\n",
       "      \"falseY\": -30241100,\n",
       "      \"xyUnits\": 148923141.92838538,\n",
       "      \"falseZ\": -100000,\n",
       "      \"zUnits\": 10000,\n",
       "      \"falseM\": -100000,\n",
       "      \"mUnits\": 10000\n",
       "    }\n",
       "  },\n",
       "  \"drawingInfo\": {\n",
       "    \"renderer\": {\n",
       "      \"type\": \"simple\",\n",
       "      \"symbol\": {\n",
       "        \"type\": \"esriSFS\",\n",
       "        \"style\": \"esriSFSSolid\",\n",
       "        \"color\": [\n",
       "          188,\n",
       "          186,\n",
       "          245,\n",
       "          255\n",
       "        ],\n",
       "        \"outline\": {\n",
       "          \"type\": \"esriSLS\",\n",
       "          \"style\": \"esriSLSSolid\",\n",
       "          \"color\": [\n",
       "            110,\n",
       "            110,\n",
       "            110,\n",
       "            255\n",
       "          ],\n",
       "          \"width\": 0.4\n",
       "        }\n",
       "      }\n",
       "    },\n",
       "    \"scaleSymbols\": true,\n",
       "    \"transparency\": 0,\n",
       "    \"labelingInfo\": null\n",
       "  },\n",
       "  \"hasM\": false,\n",
       "  \"hasZ\": false,\n",
       "  \"allowTrueCurvesUpdates\": false,\n",
       "  \"onlyAllowTrueCurveUpdatesByTrueCurveClients\": true,\n",
       "  \"hasAttachments\": false,\n",
       "  \"htmlPopupType\": \"esriServerHTMLPopupTypeAsHTMLText\",\n",
       "  \"objectIdField\": \"fid\",\n",
       "  \"globalIdField\": null,\n",
       "  \"displayField\": \"tra\",\n",
       "  \"typeIdField\": \"\",\n",
       "  \"fields\": [\n",
       "    {\n",
       "      \"name\": \"fid\",\n",
       "      \"type\": \"esriFieldTypeOID\",\n",
       "      \"alias\": \"db_8sv8z.hsu_nf50i.a370a3_g3bbd3.fid\",\n",
       "      \"domain\": null,\n",
       "      \"nullable\": false,\n",
       "      \"defaultValue\": null,\n",
       "      \"modelName\": \"db_8sv8z.hsu_nf50i.a370a3_g3bbd3.fid\",\n",
       "      \"editable\": false\n",
       "    },\n",
       "    {\n",
       "      \"name\": \"tra\",\n",
       "      \"type\": \"esriFieldTypeInteger\",\n",
       "      \"alias\": \"tra\",\n",
       "      \"domain\": null,\n",
       "      \"editable\": true,\n",
       "      \"nullable\": true,\n",
       "      \"defaultValue\": null,\n",
       "      \"modelName\": \"tra\"\n",
       "    },\n",
       "    {\n",
       "      \"type\": \"esriFieldTypeDouble\",\n",
       "      \"nullable\": true,\n",
       "      \"editable\": false,\n",
       "      \"domain\": null,\n",
       "      \"defaultValue\": null,\n",
       "      \"virtual\": true,\n",
       "      \"name\": \"SHAPE__Length\",\n",
       "      \"alias\": \"SHAPE__Length\"\n",
       "    },\n",
       "    {\n",
       "      \"type\": \"esriFieldTypeDouble\",\n",
       "      \"nullable\": true,\n",
       "      \"editable\": false,\n",
       "      \"domain\": null,\n",
       "      \"defaultValue\": null,\n",
       "      \"virtual\": true,\n",
       "      \"name\": \"SHAPE__Area\",\n",
       "      \"alias\": \"SHAPE__Area\"\n",
       "    }\n",
       "  ],\n",
       "  \"geometryField\": {\n",
       "    \"name\": \"shape\",\n",
       "    \"type\": \"esriFieldTypeGeometry\",\n",
       "    \"alias\": \"Shape\",\n",
       "    \"domain\": null,\n",
       "    \"editable\": true,\n",
       "    \"nullable\": true,\n",
       "    \"defaultValue\": null,\n",
       "    \"modelName\": \"Shape\"\n",
       "  },\n",
       "  \"indexes\": [\n",
       "    {\n",
       "      \"name\": \"r346_sde_rowid_uk\",\n",
       "      \"fields\": \"fid\",\n",
       "      \"isAscending\": true,\n",
       "      \"isUnique\": true,\n",
       "      \"description\": \"\"\n",
       "    },\n",
       "    {\n",
       "      \"name\": \"a331_ix1\",\n",
       "      \"fields\": \"shape\",\n",
       "      \"isAscending\": true,\n",
       "      \"isUnique\": true,\n",
       "      \"description\": \"\"\n",
       "    }\n",
       "  ],\n",
       "  \"dateFieldsTimeReference\": {\n",
       "    \"timeZone\": \"UTC\",\n",
       "    \"respectsDaylightSaving\": false\n",
       "  },\n",
       "  \"types\": [],\n",
       "  \"templates\": [\n",
       "    {\n",
       "      \"name\": \"g3bbd3\",\n",
       "      \"description\": \"\",\n",
       "      \"prototype\": {\n",
       "        \"attributes\": {\n",
       "          \"tra\": null\n",
       "        }\n",
       "      },\n",
       "      \"drawingTool\": \"esriFeatureEditToolPolygon\"\n",
       "    }\n",
       "  ],\n",
       "  \"useStandardizedQueries\": true,\n",
       "  \"standardMaxRecordCount\": 2000,\n",
       "  \"tileMaxRecordCount\": 2000,\n",
       "  \"standardMaxRecordCountNoGeometry\": 16000,\n",
       "  \"maxRecordCountFactor\": 1,\n",
       "  \"supportedQueryFormats\": \"JSON, geoJSON, PBF\",\n",
       "  \"enableZDefaults\": true,\n",
       "  \"maxRecordCount\": 2000,\n",
       "  \"allowGeometryUpdates\": true,\n",
       "  \"capabilities\": \"Query\",\n",
       "  \"allowUpdateWithoutMValues\": true,\n",
       "  \"hasGeometryProperties\": true,\n",
       "  \"geometryProperties\": {\n",
       "    \"shapeLengthFieldName\": \"SHAPE__Length\",\n",
       "    \"shapeAreaFieldName\": \"SHAPE__Area\",\n",
       "    \"units\": \"esriMeters\"\n",
       "  },\n",
       "  \"zDefault\": 0,\n",
       "  \"serviceItemId\": \"9efb16077fc7471cbee39e3fe43be481\",\n",
       "  \"hasMetadata\": true,\n",
       "  \"advancedEditingCapabilities\": {\n",
       "    \"supportedSqlFormatsInCalculate\": [\n",
       "      \"standard\"\n",
       "    ]\n",
       "  },\n",
       "  \"supportsApplyEditsWithGlobalIds\": false,\n",
       "  \"supportsAttachmentsByUploadId\": true,\n",
       "  \"supportsAsyncDelete\": true,\n",
       "  \"supportsFieldDescriptionProperty\": true,\n",
       "  \"sqlParserVersion\": \"PG_10.6.1\"\n",
       "}"
      ]
     },
     "execution_count": 90,
     "metadata": {},
     "output_type": "execute_result"
    }
   ],
   "source": [
    "trans.layers[0].properties"
   ]
  },
  {
   "cell_type": "code",
   "execution_count": null,
   "metadata": {},
   "outputs": [],
   "source": []
  }
 ],
 "metadata": {
  "kernelspec": {
   "display_name": "Python 3",
   "language": "python",
   "name": "python3"
  },
  "language_info": {
   "codemirror_mode": {
    "name": "ipython",
    "version": 3
   },
   "file_extension": ".py",
   "mimetype": "text/x-python",
   "name": "python",
   "nbconvert_exporter": "python",
   "pygments_lexer": "ipython3",
   "version": "3.7.7"
  }
 },
 "nbformat": 4,
 "nbformat_minor": 4
}
