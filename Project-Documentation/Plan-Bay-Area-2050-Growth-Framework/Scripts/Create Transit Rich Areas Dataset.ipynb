{
 "cells": [
  {
   "cell_type": "markdown",
   "metadata": {},
   "source": [
    "# Create Transit Rich Areas Dataset\n",
    "\n",
    "A Transit-Rich Area is defined as areas 1/2 mile of:\n",
    "- An existing, under construction, or fully funded rail station or ferry terminal\n",
    "- A rail station or ferry terminal included in the PBA 2050 Final Blueprint\n",
    "- A bus stop with headways of 15 minutes or less during the AM (6:00 - 10:00 AM) and PM (3:00 - 7:00 PM) peak periods in January 2020"
   ]
  },
  {
   "cell_type": "code",
   "execution_count": 73,
   "metadata": {},
   "outputs": [],
   "source": [
    "import os\n",
    "import sys\n",
    "import pandas as pd, geopandas as gp, matplotlib.pyplot as plt, numpy as np\n",
    "import json\n",
    "import fiona\n",
    "import requests\n",
    "import getpass\n",
    "from pyproj import CRS\n",
    "from arcgis.gis import GIS\n",
    "from arcgis.features import GeoAccessor, GeoSeriesAccessor\n",
    "from arcgis.features import FeatureLayerCollection\n",
    "\n",
    "user = getpass.getuser()\n",
    "sys.dont_write_bytecode = True\n",
    "\n",
    "sys.path.insert(0, '/Users/{}/Box/DataViz Projects/Utility Code'.format(user))\n",
    "\n",
    "from utils_io import *"
   ]
  },
  {
   "cell_type": "markdown",
   "metadata": {},
   "source": [
    "### Read in password from file\n",
    "\n",
    "**Important:** Do not put passwords or sensitive information into this notebook. Read in from seperate file or add to DataViz creds file. "
   ]
  },
  {
   "cell_type": "code",
   "execution_count": 17,
   "metadata": {},
   "outputs": [],
   "source": [
    "def get_file_contents(filename):\n",
    "    \"\"\" Given a filename,\n",
    "        return the contents of that file\n",
    "    \"\"\"\n",
    "    try:\n",
    "        with open(filename, 'r') as f:\n",
    "            # It's assumed our file contains a single line,\n",
    "            # with our API key\n",
    "            return f.read().strip()\n",
    "    except FileNotFoundError:\n",
    "        print(\"'%s' file not found\" % filename)"
   ]
  },
  {
   "cell_type": "code",
   "execution_count": 18,
   "metadata": {},
   "outputs": [],
   "source": [
    "pass_txt = '../../../../passwords/arcgis_enterprise_pass.txt'\n",
    "password = get_file_contents(pass_txt)"
   ]
  },
  {
   "cell_type": "code",
   "execution_count": 19,
   "metadata": {},
   "outputs": [],
   "source": [
    "gis = GIS(\"https://arcgis.ad.mtc.ca.gov/portal/\", \"jcroff\", password)"
   ]
  },
  {
   "cell_type": "markdown",
   "metadata": {},
   "source": [
    "## Pull Existing Transit Stops 2020 Data from Portal and Buffer"
   ]
  },
  {
   "cell_type": "code",
   "execution_count": 20,
   "metadata": {},
   "outputs": [],
   "source": [
    "#Pull data from arcgis portal\n",
    "transit_stops_exist = pull_geodata_from_argis('3faf8401623b48ae8d70f7a71d7365c9',client=gis)"
   ]
  },
  {
   "cell_type": "code",
   "execution_count": 21,
   "metadata": {},
   "outputs": [
    {
     "data": {
      "text/plain": [
       "<Geographic 2D CRS: +init=epsg:4326 +type=crs>\n",
       "Name: WGS 84\n",
       "Axis Info [ellipsoidal]:\n",
       "- lon[east]: Longitude (degree)\n",
       "- lat[north]: Latitude (degree)\n",
       "Area of Use:\n",
       "- name: World\n",
       "- bounds: (-180.0, -90.0, 180.0, 90.0)\n",
       "Datum: World Geodetic System 1984\n",
       "- Ellipsoid: WGS 84\n",
       "- Prime Meridian: Greenwich"
      ]
     },
     "execution_count": 21,
     "metadata": {},
     "output_type": "execute_result"
    }
   ],
   "source": [
    "transit_stops_exist.crs"
   ]
  },
  {
   "cell_type": "code",
   "execution_count": 22,
   "metadata": {},
   "outputs": [],
   "source": [
    "#project to NAD83 UTMZ10\n",
    "transit_stops_exist_nad83 = transit_stops_exist.to_crs('EPSG:26910')"
   ]
  },
  {
   "cell_type": "code",
   "execution_count": 23,
   "metadata": {},
   "outputs": [
    {
     "data": {
      "text/plain": [
       "<Projected CRS: EPSG:26910>\n",
       "Name: NAD83 / UTM zone 10N\n",
       "Axis Info [cartesian]:\n",
       "- E[east]: Easting (metre)\n",
       "- N[north]: Northing (metre)\n",
       "Area of Use:\n",
       "- name: North America - 126°W to 120°W and NAD83 by country\n",
       "- bounds: (-126.0, 30.54, -119.99, 81.8)\n",
       "Coordinate Operation:\n",
       "- name: UTM zone 10N\n",
       "- method: Transverse Mercator\n",
       "Datum: North American Datum 1983\n",
       "- Ellipsoid: GRS 1980\n",
       "- Prime Meridian: Greenwich"
      ]
     },
     "execution_count": 23,
     "metadata": {},
     "output_type": "execute_result"
    }
   ],
   "source": [
    "transit_stops_exist_nad83.crs"
   ]
  },
  {
   "cell_type": "code",
   "execution_count": 24,
   "metadata": {},
   "outputs": [
    {
     "data": {
      "text/html": [
       "<div>\n",
       "<style scoped>\n",
       "    .dataframe tbody tr th:only-of-type {\n",
       "        vertical-align: middle;\n",
       "    }\n",
       "\n",
       "    .dataframe tbody tr th {\n",
       "        vertical-align: top;\n",
       "    }\n",
       "\n",
       "    .dataframe thead th {\n",
       "        text-align: right;\n",
       "    }\n",
       "</style>\n",
       "<table border=\"1\" class=\"dataframe\">\n",
       "  <thead>\n",
       "    <tr style=\"text-align: right;\">\n",
       "      <th></th>\n",
       "      <th>agency_id</th>\n",
       "      <th>agency_nm</th>\n",
       "      <th>hdwy_15min</th>\n",
       "      <th>hdwy_30min</th>\n",
       "      <th>hdwy_class</th>\n",
       "      <th>loc_type</th>\n",
       "      <th>major_stop</th>\n",
       "      <th>objectid</th>\n",
       "      <th>route_ty_t</th>\n",
       "      <th>route_type</th>\n",
       "      <th>stop_code</th>\n",
       "      <th>stop_desc</th>\n",
       "      <th>stop_id</th>\n",
       "      <th>stop_name</th>\n",
       "      <th>geom</th>\n",
       "    </tr>\n",
       "  </thead>\n",
       "  <tbody>\n",
       "    <tr>\n",
       "      <th>0</th>\n",
       "      <td>BA</td>\n",
       "      <td>Bay Area Rapid Transit</td>\n",
       "      <td>1</td>\n",
       "      <td>1</td>\n",
       "      <td>15 mins or less</td>\n",
       "      <td>0</td>\n",
       "      <td>1</td>\n",
       "      <td>1</td>\n",
       "      <td>Rail</td>\n",
       "      <td>2.0</td>\n",
       "      <td>12TH</td>\n",
       "      <td></td>\n",
       "      <td>12TH</td>\n",
       "      <td>12th St. Oakland City Center</td>\n",
       "      <td>POINT (564135.244 4184293.205)</td>\n",
       "    </tr>\n",
       "    <tr>\n",
       "      <th>1</th>\n",
       "      <td>BA</td>\n",
       "      <td>Bay Area Rapid Transit</td>\n",
       "      <td>1</td>\n",
       "      <td>1</td>\n",
       "      <td>15 mins or less</td>\n",
       "      <td>0</td>\n",
       "      <td>1</td>\n",
       "      <td>2</td>\n",
       "      <td>Rail</td>\n",
       "      <td>2.0</td>\n",
       "      <td>16TH</td>\n",
       "      <td></td>\n",
       "      <td>16TH</td>\n",
       "      <td>16th St. Mission</td>\n",
       "      <td>POINT (551112.002 4179906.983)</td>\n",
       "    </tr>\n",
       "    <tr>\n",
       "      <th>2</th>\n",
       "      <td>BA</td>\n",
       "      <td>Bay Area Rapid Transit</td>\n",
       "      <td>1</td>\n",
       "      <td>1</td>\n",
       "      <td>15 mins or less</td>\n",
       "      <td>0</td>\n",
       "      <td>1</td>\n",
       "      <td>3</td>\n",
       "      <td>Rail</td>\n",
       "      <td>2.0</td>\n",
       "      <td>19TH</td>\n",
       "      <td></td>\n",
       "      <td>19TH</td>\n",
       "      <td>19th St. Oakland</td>\n",
       "      <td>POINT (564382.160 4184803.318)</td>\n",
       "    </tr>\n",
       "    <tr>\n",
       "      <th>3</th>\n",
       "      <td>BA</td>\n",
       "      <td>Bay Area Rapid Transit</td>\n",
       "      <td>1</td>\n",
       "      <td>1</td>\n",
       "      <td>15 mins or less</td>\n",
       "      <td>0</td>\n",
       "      <td>1</td>\n",
       "      <td>4</td>\n",
       "      <td>Rail</td>\n",
       "      <td>2.0</td>\n",
       "      <td>24TH</td>\n",
       "      <td></td>\n",
       "      <td>24TH</td>\n",
       "      <td>24th St. Mission</td>\n",
       "      <td>POINT (551257.209 4178510.984)</td>\n",
       "    </tr>\n",
       "    <tr>\n",
       "      <th>4</th>\n",
       "      <td>BA</td>\n",
       "      <td>Bay Area Rapid Transit</td>\n",
       "      <td>1</td>\n",
       "      <td>1</td>\n",
       "      <td>15 mins or less</td>\n",
       "      <td>0</td>\n",
       "      <td>1</td>\n",
       "      <td>5</td>\n",
       "      <td>Rail</td>\n",
       "      <td>2.0</td>\n",
       "      <td>ANTC</td>\n",
       "      <td></td>\n",
       "      <td>ANTC</td>\n",
       "      <td>Antioch</td>\n",
       "      <td>POINT (607084.546 4206005.178)</td>\n",
       "    </tr>\n",
       "  </tbody>\n",
       "</table>\n",
       "</div>"
      ],
      "text/plain": [
       "  agency_id               agency_nm  hdwy_15min  hdwy_30min       hdwy_class  \\\n",
       "0        BA  Bay Area Rapid Transit           1           1  15 mins or less   \n",
       "1        BA  Bay Area Rapid Transit           1           1  15 mins or less   \n",
       "2        BA  Bay Area Rapid Transit           1           1  15 mins or less   \n",
       "3        BA  Bay Area Rapid Transit           1           1  15 mins or less   \n",
       "4        BA  Bay Area Rapid Transit           1           1  15 mins or less   \n",
       "\n",
       "  loc_type  major_stop  objectid route_ty_t  route_type stop_code stop_desc  \\\n",
       "0        0           1         1       Rail         2.0      12TH             \n",
       "1        0           1         2       Rail         2.0      16TH             \n",
       "2        0           1         3       Rail         2.0      19TH             \n",
       "3        0           1         4       Rail         2.0      24TH             \n",
       "4        0           1         5       Rail         2.0      ANTC             \n",
       "\n",
       "  stop_id                     stop_name                            geom  \n",
       "0    12TH  12th St. Oakland City Center  POINT (564135.244 4184293.205)  \n",
       "1    16TH              16th St. Mission  POINT (551112.002 4179906.983)  \n",
       "2    19TH              19th St. Oakland  POINT (564382.160 4184803.318)  \n",
       "3    24TH              24th St. Mission  POINT (551257.209 4178510.984)  \n",
       "4    ANTC                       Antioch  POINT (607084.546 4206005.178)  "
      ]
     },
     "execution_count": 24,
     "metadata": {},
     "output_type": "execute_result"
    }
   ],
   "source": [
    "transit_stops_exist_nad83.head(5)"
   ]
  },
  {
   "cell_type": "code",
   "execution_count": 25,
   "metadata": {},
   "outputs": [
    {
     "name": "stdout",
     "output_type": "stream",
     "text": [
      "<class 'geopandas.geodataframe.GeoDataFrame'>\n",
      "RangeIndex: 22300 entries, 0 to 22299\n",
      "Data columns (total 15 columns):\n",
      " #   Column      Non-Null Count  Dtype   \n",
      "---  ------      --------------  -----   \n",
      " 0   agency_id   22278 non-null  object  \n",
      " 1   agency_nm   22278 non-null  object  \n",
      " 2   hdwy_15min  22300 non-null  int64   \n",
      " 3   hdwy_30min  22300 non-null  int64   \n",
      " 4   hdwy_class  22300 non-null  object  \n",
      " 5   loc_type    22300 non-null  object  \n",
      " 6   major_stop  22300 non-null  int64   \n",
      " 7   objectid    22300 non-null  int64   \n",
      " 8   route_ty_t  22278 non-null  object  \n",
      " 9   route_type  22278 non-null  float64 \n",
      " 10  stop_code   22300 non-null  object  \n",
      " 11  stop_desc   22300 non-null  object  \n",
      " 12  stop_id     22300 non-null  object  \n",
      " 13  stop_name   22300 non-null  object  \n",
      " 14  geom        22300 non-null  geometry\n",
      "dtypes: float64(1), geometry(1), int64(4), object(9)\n",
      "memory usage: 2.6+ MB\n"
     ]
    }
   ],
   "source": [
    "transit_stops_exist_nad83.info()"
   ]
  },
  {
   "cell_type": "code",
   "execution_count": 26,
   "metadata": {},
   "outputs": [
    {
     "data": {
      "text/plain": [
       "array(['Rail', 'Bus', 'Tram, Streetcar, Light Rail', 'Cable Tram', None,\n",
       "       'Ferry'], dtype=object)"
      ]
     },
     "execution_count": 26,
     "metadata": {},
     "output_type": "execute_result"
    }
   ],
   "source": [
    "transit_stops_exist_nad83['route_ty_t'].unique()"
   ]
  },
  {
   "cell_type": "code",
   "execution_count": 27,
   "metadata": {},
   "outputs": [],
   "source": [
    "#Filter stops to include stops w/ types as well as stops with routes headways of 15 mins or less\n",
    "transit_stops_exist_nad83 = transit_stops_exist_nad83[(transit_stops_exist_nad83['hdwy_15min'] == 1) & \n",
    "                                                  (transit_stops_exist_nad83['route_ty_t'].isin(['Rail', \n",
    "                                                                                              'Bus', \n",
    "                                                                                              'Tram, Streetcar, Light Rail',\n",
    "                                                                                              'Cable Tram',\n",
    "                                                                                              'Ferry']))].copy()"
   ]
  },
  {
   "cell_type": "code",
   "execution_count": 28,
   "metadata": {},
   "outputs": [
    {
     "data": {
      "text/plain": [
       "(6414, 15)"
      ]
     },
     "execution_count": 28,
     "metadata": {},
     "output_type": "execute_result"
    }
   ],
   "source": [
    "transit_stops_exist_nad83.shape"
   ]
  },
  {
   "cell_type": "code",
   "execution_count": 29,
   "metadata": {},
   "outputs": [],
   "source": [
    "#Buffer existing transit stops by 1/2 mile\n",
    "buffer_distance = .5 * 1609.344\n",
    "transit_stops_exist_nad83['geom'] = transit_stops_exist_nad83.buffer(buffer_distance)"
   ]
  },
  {
   "cell_type": "code",
   "execution_count": 30,
   "metadata": {},
   "outputs": [
    {
     "name": "stdout",
     "output_type": "stream",
     "text": [
      "<class 'geopandas.geodataframe.GeoDataFrame'>\n",
      "Int64Index: 6414 entries, 0 to 21496\n",
      "Data columns (total 15 columns):\n",
      " #   Column      Non-Null Count  Dtype   \n",
      "---  ------      --------------  -----   \n",
      " 0   agency_id   6414 non-null   object  \n",
      " 1   agency_nm   6414 non-null   object  \n",
      " 2   hdwy_15min  6414 non-null   int64   \n",
      " 3   hdwy_30min  6414 non-null   int64   \n",
      " 4   hdwy_class  6414 non-null   object  \n",
      " 5   loc_type    6414 non-null   object  \n",
      " 6   major_stop  6414 non-null   int64   \n",
      " 7   objectid    6414 non-null   int64   \n",
      " 8   route_ty_t  6414 non-null   object  \n",
      " 9   route_type  6414 non-null   float64 \n",
      " 10  stop_code   6414 non-null   object  \n",
      " 11  stop_desc   6414 non-null   object  \n",
      " 12  stop_id     6414 non-null   object  \n",
      " 13  stop_name   6414 non-null   object  \n",
      " 14  geom        6414 non-null   geometry\n",
      "dtypes: float64(1), geometry(1), int64(4), object(9)\n",
      "memory usage: 801.8+ KB\n"
     ]
    }
   ],
   "source": [
    "transit_stops_exist_nad83.info()"
   ]
  },
  {
   "cell_type": "code",
   "execution_count": 31,
   "metadata": {},
   "outputs": [
    {
     "data": {
      "image/png": "[encoded data removed]",
      "text/plain": [
       "<Figure size 720x720 with 1 Axes>"
      ]
     },
     "metadata": {
      "needs_background": "light"
     },
     "output_type": "display_data"
    }
   ],
   "source": [
    "transit_stops_exist_nad83.plot(figsize=(10,10));"
   ]
  },
  {
   "cell_type": "markdown",
   "metadata": {},
   "source": [
    "## Pull Planned and Potential Stops from Portal and Buffer"
   ]
  },
  {
   "cell_type": "code",
   "execution_count": 32,
   "metadata": {},
   "outputs": [
    {
     "name": "stderr",
     "output_type": "stream",
     "text": [
      "/Users/jcroff/anaconda3/envs/geo_env/lib/python3.7/site-packages/pyproj/crs/crs.py:53: FutureWarning: '+init=<authority>:<code>' syntax is deprecated. '<authority>:<code>' is the preferred initialization method. When making the change, be mindful of axis order changes: https://pyproj4.github.io/pyproj/stable/gotchas.html#axis-order-changes-in-proj-6\n",
      "  return _prepare_from_string(\" \".join(pjargs))\n"
     ]
    }
   ],
   "source": [
    "#Pull data from arcgis portal\n",
    "transit_stops_plan = pull_geodata_from_argis('18a6239819b048fab9c87bb4d7649560',client=gis)"
   ]
  },
  {
   "cell_type": "code",
   "execution_count": 33,
   "metadata": {},
   "outputs": [],
   "source": [
    "#Project to NAD83 UTMZ10\n",
    "transit_stops_plan_nad83 = transit_stops_plan.to_crs('EPSG:26910')"
   ]
  },
  {
   "cell_type": "code",
   "execution_count": 34,
   "metadata": {},
   "outputs": [
    {
     "data": {
      "text/plain": [
       "<Projected CRS: EPSG:26910>\n",
       "Name: NAD83 / UTM zone 10N\n",
       "Axis Info [cartesian]:\n",
       "- E[east]: Easting (metre)\n",
       "- N[north]: Northing (metre)\n",
       "Area of Use:\n",
       "- name: North America - 126°W to 120°W and NAD83 by country\n",
       "- bounds: (-126.0, 30.54, -119.99, 81.8)\n",
       "Coordinate Operation:\n",
       "- name: UTM zone 10N\n",
       "- method: Transverse Mercator\n",
       "Datum: North American Datum 1983\n",
       "- Ellipsoid: GRS 1980\n",
       "- Prime Meridian: Greenwich"
      ]
     },
     "execution_count": 34,
     "metadata": {},
     "output_type": "execute_result"
    }
   ],
   "source": [
    "transit_stops_plan_nad83.crs"
   ]
  },
  {
   "cell_type": "code",
   "execution_count": 35,
   "metadata": {},
   "outputs": [
    {
     "data": {
      "text/html": [
       "<div>\n",
       "<style scoped>\n",
       "    .dataframe tbody tr th:only-of-type {\n",
       "        vertical-align: middle;\n",
       "    }\n",
       "\n",
       "    .dataframe tbody tr th {\n",
       "        vertical-align: top;\n",
       "    }\n",
       "\n",
       "    .dataframe thead th {\n",
       "        text-align: right;\n",
       "    }\n",
       "</style>\n",
       "<table border=\"1\" class=\"dataframe\">\n",
       "  <thead>\n",
       "    <tr style=\"text-align: right;\">\n",
       "      <th></th>\n",
       "      <th>objectid</th>\n",
       "      <th>county</th>\n",
       "      <th>jurisdictn</th>\n",
       "      <th>agency_nm</th>\n",
       "      <th>stop_name</th>\n",
       "      <th>route_ty_t</th>\n",
       "      <th>ppa_id</th>\n",
       "      <th>ppa_name</th>\n",
       "      <th>committd</th>\n",
       "      <th>status</th>\n",
       "      <th>exp_open</th>\n",
       "      <th>geom</th>\n",
       "    </tr>\n",
       "  </thead>\n",
       "  <tbody>\n",
       "    <tr>\n",
       "      <th>0</th>\n",
       "      <td>1</td>\n",
       "      <td>CA013</td>\n",
       "      <td>Brentwood</td>\n",
       "      <td>TBD</td>\n",
       "      <td>Brentwood</td>\n",
       "      <td>Bus</td>\n",
       "      <td>2202</td>\n",
       "      <td>Bus Rapid Transit to Brentwood (formerly BART ...</td>\n",
       "      <td>No</td>\n",
       "      <td>Final Blueprint</td>\n",
       "      <td>2021-2035</td>\n",
       "      <td>POINT (610284.281 4201385.715)</td>\n",
       "    </tr>\n",
       "    <tr>\n",
       "      <th>1</th>\n",
       "      <td>2</td>\n",
       "      <td>CA097</td>\n",
       "      <td>Healdsburg</td>\n",
       "      <td>Sonoma-Marin Area Rail Transit</td>\n",
       "      <td>Healdsburg</td>\n",
       "      <td>Rail</td>\n",
       "      <td>2304</td>\n",
       "      <td>SMART to Cloverdale</td>\n",
       "      <td>No</td>\n",
       "      <td>Not Included</td>\n",
       "      <td>Not Included</td>\n",
       "      <td>POINT (511636.968 4273185.826)</td>\n",
       "    </tr>\n",
       "    <tr>\n",
       "      <th>2</th>\n",
       "      <td>3</td>\n",
       "      <td>CA097</td>\n",
       "      <td>Cloverdale</td>\n",
       "      <td>Sonoma-Marin Area Rail Transit</td>\n",
       "      <td>Cloverdale</td>\n",
       "      <td>Rail</td>\n",
       "      <td>2304</td>\n",
       "      <td>SMART to Cloverdale</td>\n",
       "      <td>No</td>\n",
       "      <td>Not Included</td>\n",
       "      <td>Not Included</td>\n",
       "      <td>POINT (498953.967 4294420.424)</td>\n",
       "    </tr>\n",
       "    <tr>\n",
       "      <th>3</th>\n",
       "      <td>4</td>\n",
       "      <td>CA085</td>\n",
       "      <td>San Jose</td>\n",
       "      <td>Santa Clara Valley Transportation Authority</td>\n",
       "      <td>San Jose Airport</td>\n",
       "      <td>Tram, Streetcar, Light Rail</td>\n",
       "      <td>2402</td>\n",
       "      <td>San Jose Airport People Mover</td>\n",
       "      <td>No</td>\n",
       "      <td>Not Included</td>\n",
       "      <td>Not Included</td>\n",
       "      <td>POINT (595075.482 4136054.501)</td>\n",
       "    </tr>\n",
       "    <tr>\n",
       "      <th>4</th>\n",
       "      <td>5</td>\n",
       "      <td>CA085</td>\n",
       "      <td>Cupertino</td>\n",
       "      <td>Bay Area Rapid Transit</td>\n",
       "      <td>De Anza College</td>\n",
       "      <td>Tram, Streetcar, Light Rail</td>\n",
       "      <td>2206</td>\n",
       "      <td>Stevens Creek Line (formerly BART to Cupertino)</td>\n",
       "      <td>No</td>\n",
       "      <td>Final Blueprint</td>\n",
       "      <td>2036-2050</td>\n",
       "      <td>POINT (585044.618 4131116.515)</td>\n",
       "    </tr>\n",
       "  </tbody>\n",
       "</table>\n",
       "</div>"
      ],
      "text/plain": [
       "   objectid county  jurisdictn                                    agency_nm  \\\n",
       "0         1  CA013   Brentwood                                          TBD   \n",
       "1         2  CA097  Healdsburg               Sonoma-Marin Area Rail Transit   \n",
       "2         3  CA097  Cloverdale               Sonoma-Marin Area Rail Transit   \n",
       "3         4  CA085    San Jose  Santa Clara Valley Transportation Authority   \n",
       "4         5  CA085   Cupertino                       Bay Area Rapid Transit   \n",
       "\n",
       "          stop_name                   route_ty_t  ppa_id  \\\n",
       "0         Brentwood                          Bus    2202   \n",
       "1        Healdsburg                         Rail    2304   \n",
       "2        Cloverdale                         Rail    2304   \n",
       "3  San Jose Airport  Tram, Streetcar, Light Rail    2402   \n",
       "4   De Anza College  Tram, Streetcar, Light Rail    2206   \n",
       "\n",
       "                                            ppa_name committd  \\\n",
       "0  Bus Rapid Transit to Brentwood (formerly BART ...       No   \n",
       "1                                SMART to Cloverdale       No   \n",
       "2                                SMART to Cloverdale       No   \n",
       "3                      San Jose Airport People Mover       No   \n",
       "4    Stevens Creek Line (formerly BART to Cupertino)       No   \n",
       "\n",
       "            status      exp_open                            geom  \n",
       "0  Final Blueprint     2021-2035  POINT (610284.281 4201385.715)  \n",
       "1     Not Included  Not Included  POINT (511636.968 4273185.826)  \n",
       "2     Not Included  Not Included  POINT (498953.967 4294420.424)  \n",
       "3     Not Included  Not Included  POINT (595075.482 4136054.501)  \n",
       "4  Final Blueprint     2036-2050  POINT (585044.618 4131116.515)  "
      ]
     },
     "execution_count": 35,
     "metadata": {},
     "output_type": "execute_result"
    }
   ],
   "source": [
    "transit_stops_plan_nad83.head(5)"
   ]
  },
  {
   "cell_type": "code",
   "execution_count": 36,
   "metadata": {},
   "outputs": [
    {
     "data": {
      "text/plain": [
       "array(['Final Blueprint', 'Not Included', 'Draft Blueprint',\n",
       "       'Under Construction'], dtype=object)"
      ]
     },
     "execution_count": 36,
     "metadata": {},
     "output_type": "execute_result"
    }
   ],
   "source": [
    "transit_stops_plan_nad83['status'].unique()"
   ]
  },
  {
   "cell_type": "code",
   "execution_count": 37,
   "metadata": {},
   "outputs": [],
   "source": [
    "#filter for stops in the Final Blueprint or Under Construction\n",
    "transit_stops_plan_nad83 = transit_stops_plan_nad83[transit_stops_plan_nad83['status'].isin(['Final Blueprint',\n",
    "                                                                                             'Under Construction'])].copy()"
   ]
  },
  {
   "cell_type": "code",
   "execution_count": 38,
   "metadata": {},
   "outputs": [
    {
     "name": "stdout",
     "output_type": "stream",
     "text": [
      "<class 'geopandas.geodataframe.GeoDataFrame'>\n",
      "Int64Index: 18 entries, 0 to 91\n",
      "Data columns (total 12 columns):\n",
      " #   Column      Non-Null Count  Dtype   \n",
      "---  ------      --------------  -----   \n",
      " 0   objectid    18 non-null     int64   \n",
      " 1   county      18 non-null     object  \n",
      " 2   jurisdictn  18 non-null     object  \n",
      " 3   agency_nm   18 non-null     object  \n",
      " 4   stop_name   18 non-null     object  \n",
      " 5   route_ty_t  17 non-null     object  \n",
      " 6   ppa_id      18 non-null     int64   \n",
      " 7   ppa_name    18 non-null     object  \n",
      " 8   committd    18 non-null     object  \n",
      " 9   status      18 non-null     object  \n",
      " 10  exp_open    18 non-null     object  \n",
      " 11  geom        18 non-null     geometry\n",
      "dtypes: geometry(1), int64(2), object(9)\n",
      "memory usage: 1.8+ KB\n"
     ]
    }
   ],
   "source": [
    "transit_stops_plan_nad83.info()"
   ]
  },
  {
   "cell_type": "code",
   "execution_count": 39,
   "metadata": {},
   "outputs": [],
   "source": [
    "#Buffer planned and potential stops by 1/2 mile\n",
    "buffer_distance = .5 * 1609.344\n",
    "transit_stops_plan_nad83['geom'] = transit_stops_plan_nad83.buffer(buffer_distance)"
   ]
  },
  {
   "cell_type": "code",
   "execution_count": 40,
   "metadata": {},
   "outputs": [
    {
     "data": {
      "image/png": "[encoded data removed]",
      "text/plain": [
       "<Figure size 720x720 with 1 Axes>"
      ]
     },
     "metadata": {
      "needs_background": "light"
     },
     "output_type": "display_data"
    }
   ],
   "source": [
    "transit_stops_plan_nad83.plot(figsize=(10,10));"
   ]
  },
  {
   "cell_type": "markdown",
   "metadata": {},
   "source": [
    "## Pull PBA2050 Transit Project Lines"
   ]
  },
  {
   "cell_type": "code",
   "execution_count": 41,
   "metadata": {},
   "outputs": [
    {
     "name": "stderr",
     "output_type": "stream",
     "text": [
      "/Users/jcroff/anaconda3/envs/geo_env/lib/python3.7/site-packages/pyproj/crs/crs.py:53: FutureWarning: '+init=<authority>:<code>' syntax is deprecated. '<authority>:<code>' is the preferred initialization method. When making the change, be mindful of axis order changes: https://pyproj4.github.io/pyproj/stable/gotchas.html#axis-order-changes-in-proj-6\n",
      "  return _prepare_from_string(\" \".join(pjargs))\n"
     ]
    }
   ],
   "source": [
    "#pull from portal\n",
    "transit_lines_plan = pull_geodata_from_argis('c977b5c75587445fb25ba7beea5d2348',client=gis)"
   ]
  },
  {
   "cell_type": "code",
   "execution_count": 42,
   "metadata": {},
   "outputs": [
    {
     "data": {
      "text/plain": [
       "<Geographic 2D CRS: +init=epsg:4326 +type=crs>\n",
       "Name: WGS 84\n",
       "Axis Info [ellipsoidal]:\n",
       "- lon[east]: Longitude (degree)\n",
       "- lat[north]: Latitude (degree)\n",
       "Area of Use:\n",
       "- name: World\n",
       "- bounds: (-180.0, -90.0, 180.0, 90.0)\n",
       "Datum: World Geodetic System 1984\n",
       "- Ellipsoid: WGS 84\n",
       "- Prime Meridian: Greenwich"
      ]
     },
     "execution_count": 42,
     "metadata": {},
     "output_type": "execute_result"
    }
   ],
   "source": [
    "transit_lines_plan.crs"
   ]
  },
  {
   "cell_type": "code",
   "execution_count": 43,
   "metadata": {},
   "outputs": [
    {
     "data": {
      "text/html": [
       "<div>\n",
       "<style scoped>\n",
       "    .dataframe tbody tr th:only-of-type {\n",
       "        vertical-align: middle;\n",
       "    }\n",
       "\n",
       "    .dataframe tbody tr th {\n",
       "        vertical-align: top;\n",
       "    }\n",
       "\n",
       "    .dataframe thead th {\n",
       "        text-align: right;\n",
       "    }\n",
       "</style>\n",
       "<table border=\"1\" class=\"dataframe\">\n",
       "  <thead>\n",
       "    <tr style=\"text-align: right;\">\n",
       "      <th></th>\n",
       "      <th>objectid</th>\n",
       "      <th>proj_name</th>\n",
       "      <th>proj_id</th>\n",
       "      <th>date</th>\n",
       "      <th>edited_by</th>\n",
       "      <th>type</th>\n",
       "      <th>proj_desc</th>\n",
       "      <th>trans_type</th>\n",
       "      <th>final_bp</th>\n",
       "      <th>SHAPE__Length</th>\n",
       "      <th>geom</th>\n",
       "    </tr>\n",
       "  </thead>\n",
       "  <tbody>\n",
       "    <tr>\n",
       "      <th>0</th>\n",
       "      <td>1</td>\n",
       "      <td>Crossing Concept #1</td>\n",
       "      <td>b569ce86-c447-11e9-99c0-003ee1c8de60</td>\n",
       "      <td>2019-8-21</td>\n",
       "      <td>Raleigh McCoy</td>\n",
       "      <td>Line</td>\n",
       "      <td>Crossing 1</td>\n",
       "      <td>None</td>\n",
       "      <td>0</td>\n",
       "      <td>0.226824</td>\n",
       "      <td>MULTILINESTRING ((-122.09466 37.64571, -122.09...</td>\n",
       "    </tr>\n",
       "    <tr>\n",
       "      <th>1</th>\n",
       "      <td>2</td>\n",
       "      <td>Crossing Concept #2</td>\n",
       "      <td>b56cf8fa-c447-11e9-a898-003ee1c8de60</td>\n",
       "      <td>2019-8-21</td>\n",
       "      <td>Raleigh McCoy</td>\n",
       "      <td>Line</td>\n",
       "      <td>Crossing 2</td>\n",
       "      <td>None</td>\n",
       "      <td>0</td>\n",
       "      <td>0.278014</td>\n",
       "      <td>MULTILINESTRING ((-122.40540 37.63570, -122.40...</td>\n",
       "    </tr>\n",
       "    <tr>\n",
       "      <th>2</th>\n",
       "      <td>3</td>\n",
       "      <td>Crossing Concept #3</td>\n",
       "      <td>b56cfc46-c447-11e9-b877-003ee1c8de60</td>\n",
       "      <td>2019-8-21</td>\n",
       "      <td>Raleigh McCoy</td>\n",
       "      <td>Line</td>\n",
       "      <td>Crossing 3</td>\n",
       "      <td>None</td>\n",
       "      <td>0</td>\n",
       "      <td>0.303308</td>\n",
       "      <td>MULTILINESTRING ((-122.46832 37.70637, -122.46...</td>\n",
       "    </tr>\n",
       "    <tr>\n",
       "      <th>3</th>\n",
       "      <td>4</td>\n",
       "      <td>Crossing Concept #4</td>\n",
       "      <td>b56cfc9e-c447-11e9-a5e3-003ee1c8de60</td>\n",
       "      <td>2019-8-21</td>\n",
       "      <td>Raleigh McCoy</td>\n",
       "      <td>Line</td>\n",
       "      <td>Crossing 4</td>\n",
       "      <td>None</td>\n",
       "      <td>0</td>\n",
       "      <td>0.326996</td>\n",
       "      <td>MULTILINESTRING ((-122.46859 37.70637, -122.46...</td>\n",
       "    </tr>\n",
       "    <tr>\n",
       "      <th>4</th>\n",
       "      <td>5</td>\n",
       "      <td>Crossing Concept #5</td>\n",
       "      <td>b56cfcf8-c447-11e9-8e22-003ee1c8de60</td>\n",
       "      <td>2019-8-21</td>\n",
       "      <td>Raleigh McCoy</td>\n",
       "      <td>Line</td>\n",
       "      <td>Crossing 5</td>\n",
       "      <td>None</td>\n",
       "      <td>0</td>\n",
       "      <td>0.139503</td>\n",
       "      <td>MULTILINESTRING ((-122.39553 37.78951, -122.39...</td>\n",
       "    </tr>\n",
       "  </tbody>\n",
       "</table>\n",
       "</div>"
      ],
      "text/plain": [
       "   objectid            proj_name                               proj_id  \\\n",
       "0         1  Crossing Concept #1  b569ce86-c447-11e9-99c0-003ee1c8de60   \n",
       "1         2  Crossing Concept #2  b56cf8fa-c447-11e9-a898-003ee1c8de60   \n",
       "2         3  Crossing Concept #3  b56cfc46-c447-11e9-b877-003ee1c8de60   \n",
       "3         4  Crossing Concept #4  b56cfc9e-c447-11e9-a5e3-003ee1c8de60   \n",
       "4         5  Crossing Concept #5  b56cfcf8-c447-11e9-8e22-003ee1c8de60   \n",
       "\n",
       "        date      edited_by  type   proj_desc trans_type  final_bp  \\\n",
       "0  2019-8-21  Raleigh McCoy  Line  Crossing 1       None         0   \n",
       "1  2019-8-21  Raleigh McCoy  Line  Crossing 2       None         0   \n",
       "2  2019-8-21  Raleigh McCoy  Line  Crossing 3       None         0   \n",
       "3  2019-8-21  Raleigh McCoy  Line  Crossing 4       None         0   \n",
       "4  2019-8-21  Raleigh McCoy  Line  Crossing 5       None         0   \n",
       "\n",
       "   SHAPE__Length                                               geom  \n",
       "0       0.226824  MULTILINESTRING ((-122.09466 37.64571, -122.09...  \n",
       "1       0.278014  MULTILINESTRING ((-122.40540 37.63570, -122.40...  \n",
       "2       0.303308  MULTILINESTRING ((-122.46832 37.70637, -122.46...  \n",
       "3       0.326996  MULTILINESTRING ((-122.46859 37.70637, -122.46...  \n",
       "4       0.139503  MULTILINESTRING ((-122.39553 37.78951, -122.39...  "
      ]
     },
     "execution_count": 43,
     "metadata": {},
     "output_type": "execute_result"
    }
   ],
   "source": [
    "transit_lines_plan.head(5)"
   ]
  },
  {
   "cell_type": "code",
   "execution_count": 44,
   "metadata": {},
   "outputs": [],
   "source": [
    "#project to UTMZ10\n",
    "transit_lines_plan_nad83 = transit_lines_plan.to_crs('EPSG:26910')"
   ]
  },
  {
   "cell_type": "code",
   "execution_count": 45,
   "metadata": {},
   "outputs": [
    {
     "data": {
      "text/plain": [
       "array([None, 'Local Bus', 'Group Rapid Transit', 'Commuter Rail',\n",
       "       'Local Rapid Bus', 'Regional Express Bus', 'Bus Rapid Transit',\n",
       "       'Light Rail', 'Ferry', 'Bicycle', 'Road',\n",
       "       'Automated Vehicle Shuttle', 'Maglev Rail'], dtype=object)"
      ]
     },
     "execution_count": 45,
     "metadata": {},
     "output_type": "execute_result"
    }
   ],
   "source": [
    "transit_lines_plan_nad83['trans_type'].unique()"
   ]
  },
  {
   "cell_type": "code",
   "execution_count": 46,
   "metadata": {},
   "outputs": [],
   "source": [
    "#filter for BRT projects\n",
    "transit_lines_plan_nad83 = transit_lines_plan_nad83[(transit_lines_plan_nad83['final_bp'] == 1) &\n",
    "                                                    (transit_lines_plan_nad83['trans_type'] == 'Bus Rapid Transit')].copy()"
   ]
  },
  {
   "cell_type": "code",
   "execution_count": 47,
   "metadata": {},
   "outputs": [
    {
     "name": "stdout",
     "output_type": "stream",
     "text": [
      "<class 'geopandas.geodataframe.GeoDataFrame'>\n",
      "Int64Index: 4 entries, 66 to 162\n",
      "Data columns (total 11 columns):\n",
      " #   Column         Non-Null Count  Dtype   \n",
      "---  ------         --------------  -----   \n",
      " 0   objectid       4 non-null      int64   \n",
      " 1   proj_name      4 non-null      object  \n",
      " 2   proj_id        4 non-null      object  \n",
      " 3   date           4 non-null      object  \n",
      " 4   edited_by      4 non-null      object  \n",
      " 5   type           4 non-null      object  \n",
      " 6   proj_desc      4 non-null      object  \n",
      " 7   trans_type     4 non-null      object  \n",
      " 8   final_bp       4 non-null      int64   \n",
      " 9   SHAPE__Length  4 non-null      float64 \n",
      " 10  geom           4 non-null      geometry\n",
      "dtypes: float64(1), geometry(1), int64(2), object(7)\n",
      "memory usage: 384.0+ bytes\n"
     ]
    }
   ],
   "source": [
    "transit_lines_plan_nad83.info()"
   ]
  },
  {
   "cell_type": "code",
   "execution_count": 48,
   "metadata": {},
   "outputs": [
    {
     "data": {
      "image/png": "[encoded data removed]",
      "text/plain": [
       "<Figure size 720x720 with 1 Axes>"
      ]
     },
     "metadata": {
      "needs_background": "light"
     },
     "output_type": "display_data"
    }
   ],
   "source": [
    "transit_lines_plan_nad83.plot(figsize=(10,10));"
   ]
  },
  {
   "cell_type": "code",
   "execution_count": 49,
   "metadata": {},
   "outputs": [],
   "source": [
    "#Buffer BRT transit lines by 1/2 mile\n",
    "buffer_distance = .5 * 1609.344\n",
    "transit_lines_plan_nad83['geom'] = transit_lines_plan_nad83.buffer(buffer_distance)"
   ]
  },
  {
   "cell_type": "code",
   "execution_count": 50,
   "metadata": {},
   "outputs": [
    {
     "name": "stdout",
     "output_type": "stream",
     "text": [
      "<class 'geopandas.geodataframe.GeoDataFrame'>\n",
      "Int64Index: 4 entries, 66 to 162\n",
      "Data columns (total 11 columns):\n",
      " #   Column         Non-Null Count  Dtype   \n",
      "---  ------         --------------  -----   \n",
      " 0   objectid       4 non-null      int64   \n",
      " 1   proj_name      4 non-null      object  \n",
      " 2   proj_id        4 non-null      object  \n",
      " 3   date           4 non-null      object  \n",
      " 4   edited_by      4 non-null      object  \n",
      " 5   type           4 non-null      object  \n",
      " 6   proj_desc      4 non-null      object  \n",
      " 7   trans_type     4 non-null      object  \n",
      " 8   final_bp       4 non-null      int64   \n",
      " 9   SHAPE__Length  4 non-null      float64 \n",
      " 10  geom           4 non-null      geometry\n",
      "dtypes: float64(1), geometry(1), int64(2), object(7)\n",
      "memory usage: 384.0+ bytes\n"
     ]
    }
   ],
   "source": [
    "transit_lines_plan_nad83.info()"
   ]
  },
  {
   "cell_type": "code",
   "execution_count": 51,
   "metadata": {},
   "outputs": [
    {
     "data": {
      "image/png": "[encoded data removed]",
      "text/plain": [
       "<Figure size 720x720 with 1 Axes>"
      ]
     },
     "metadata": {
      "needs_background": "light"
     },
     "output_type": "display_data"
    }
   ],
   "source": [
    "transit_lines_plan_nad83.plot(figsize=(10,10));"
   ]
  },
  {
   "cell_type": "markdown",
   "metadata": {},
   "source": [
    "## Append Point Datasets"
   ]
  },
  {
   "cell_type": "code",
   "execution_count": 52,
   "metadata": {},
   "outputs": [],
   "source": [
    "stops_append = transit_stops_exist_nad83[['agency_nm',\n",
    "                                          'route_ty_t',\n",
    "                                          'stop_name',\n",
    "                                          'geom']].append(transit_stops_plan_nad83[['agency_nm',\n",
    "                                                                                    'route_ty_t',\n",
    "                                                                                    'stop_name',\n",
    "                                                                                    'geom']])"
   ]
  },
  {
   "cell_type": "code",
   "execution_count": 53,
   "metadata": {},
   "outputs": [
    {
     "name": "stdout",
     "output_type": "stream",
     "text": [
      "<class 'geopandas.geodataframe.GeoDataFrame'>\n",
      "Int64Index: 6432 entries, 0 to 91\n",
      "Data columns (total 4 columns):\n",
      " #   Column      Non-Null Count  Dtype   \n",
      "---  ------      --------------  -----   \n",
      " 0   agency_nm   6432 non-null   object  \n",
      " 1   route_ty_t  6431 non-null   object  \n",
      " 2   stop_name   6432 non-null   object  \n",
      " 3   geom        6432 non-null   geometry\n",
      "dtypes: geometry(1), object(3)\n",
      "memory usage: 251.2+ KB\n"
     ]
    }
   ],
   "source": [
    "stops_append.info()"
   ]
  },
  {
   "cell_type": "markdown",
   "metadata": {},
   "source": [
    "## Append Point and Line Datasets"
   ]
  },
  {
   "cell_type": "code",
   "execution_count": 54,
   "metadata": {},
   "outputs": [
    {
     "name": "stdout",
     "output_type": "stream",
     "text": [
      "<class 'geopandas.geodataframe.GeoDataFrame'>\n",
      "Int64Index: 4 entries, 66 to 162\n",
      "Data columns (total 11 columns):\n",
      " #   Column         Non-Null Count  Dtype   \n",
      "---  ------         --------------  -----   \n",
      " 0   objectid       4 non-null      int64   \n",
      " 1   proj_name      4 non-null      object  \n",
      " 2   proj_id        4 non-null      object  \n",
      " 3   date           4 non-null      object  \n",
      " 4   edited_by      4 non-null      object  \n",
      " 5   type           4 non-null      object  \n",
      " 6   proj_desc      4 non-null      object  \n",
      " 7   trans_type     4 non-null      object  \n",
      " 8   final_bp       4 non-null      int64   \n",
      " 9   SHAPE__Length  4 non-null      float64 \n",
      " 10  geom           4 non-null      geometry\n",
      "dtypes: float64(1), geometry(1), int64(2), object(7)\n",
      "memory usage: 384.0+ bytes\n"
     ]
    }
   ],
   "source": [
    "transit_lines_plan_nad83.info()"
   ]
  },
  {
   "cell_type": "code",
   "execution_count": 55,
   "metadata": {},
   "outputs": [],
   "source": [
    "transit_lines_plan_nad83.rename(columns={'trans_type':'route_ty_t'},inplace=True)"
   ]
  },
  {
   "cell_type": "code",
   "execution_count": 56,
   "metadata": {},
   "outputs": [],
   "source": [
    "stops_lines_append = stops_append.append(transit_lines_plan_nad83[['proj_name',\n",
    "                                                                   'final_bp',\n",
    "                                                                   'route_ty_t',\n",
    "                                                                   'geom']])"
   ]
  },
  {
   "cell_type": "code",
   "execution_count": 57,
   "metadata": {},
   "outputs": [
    {
     "data": {
      "text/html": [
       "<div>\n",
       "<style scoped>\n",
       "    .dataframe tbody tr th:only-of-type {\n",
       "        vertical-align: middle;\n",
       "    }\n",
       "\n",
       "    .dataframe tbody tr th {\n",
       "        vertical-align: top;\n",
       "    }\n",
       "\n",
       "    .dataframe thead th {\n",
       "        text-align: right;\n",
       "    }\n",
       "</style>\n",
       "<table border=\"1\" class=\"dataframe\">\n",
       "  <thead>\n",
       "    <tr style=\"text-align: right;\">\n",
       "      <th></th>\n",
       "      <th>agency_nm</th>\n",
       "      <th>route_ty_t</th>\n",
       "      <th>stop_name</th>\n",
       "      <th>geom</th>\n",
       "      <th>proj_name</th>\n",
       "      <th>final_bp</th>\n",
       "    </tr>\n",
       "  </thead>\n",
       "  <tbody>\n",
       "    <tr>\n",
       "      <th>0</th>\n",
       "      <td>Bay Area Rapid Transit</td>\n",
       "      <td>Rail</td>\n",
       "      <td>12th St. Oakland City Center</td>\n",
       "      <td>POLYGON ((564939.916 4184293.205, 564936.041 4...</td>\n",
       "      <td>NaN</td>\n",
       "      <td>NaN</td>\n",
       "    </tr>\n",
       "    <tr>\n",
       "      <th>1</th>\n",
       "      <td>Bay Area Rapid Transit</td>\n",
       "      <td>Rail</td>\n",
       "      <td>16th St. Mission</td>\n",
       "      <td>POLYGON ((551916.674 4179906.983, 551912.799 4...</td>\n",
       "      <td>NaN</td>\n",
       "      <td>NaN</td>\n",
       "    </tr>\n",
       "    <tr>\n",
       "      <th>2</th>\n",
       "      <td>Bay Area Rapid Transit</td>\n",
       "      <td>Rail</td>\n",
       "      <td>19th St. Oakland</td>\n",
       "      <td>POLYGON ((565186.832 4184803.318, 565182.957 4...</td>\n",
       "      <td>NaN</td>\n",
       "      <td>NaN</td>\n",
       "    </tr>\n",
       "    <tr>\n",
       "      <th>3</th>\n",
       "      <td>Bay Area Rapid Transit</td>\n",
       "      <td>Rail</td>\n",
       "      <td>24th St. Mission</td>\n",
       "      <td>POLYGON ((552061.881 4178510.984, 552058.007 4...</td>\n",
       "      <td>NaN</td>\n",
       "      <td>NaN</td>\n",
       "    </tr>\n",
       "    <tr>\n",
       "      <th>4</th>\n",
       "      <td>Bay Area Rapid Transit</td>\n",
       "      <td>Rail</td>\n",
       "      <td>Antioch</td>\n",
       "      <td>POLYGON ((607889.218 4206005.178, 607885.343 4...</td>\n",
       "      <td>NaN</td>\n",
       "      <td>NaN</td>\n",
       "    </tr>\n",
       "  </tbody>\n",
       "</table>\n",
       "</div>"
      ],
      "text/plain": [
       "                agency_nm route_ty_t                     stop_name  \\\n",
       "0  Bay Area Rapid Transit       Rail  12th St. Oakland City Center   \n",
       "1  Bay Area Rapid Transit       Rail              16th St. Mission   \n",
       "2  Bay Area Rapid Transit       Rail              19th St. Oakland   \n",
       "3  Bay Area Rapid Transit       Rail              24th St. Mission   \n",
       "4  Bay Area Rapid Transit       Rail                       Antioch   \n",
       "\n",
       "                                                geom proj_name  final_bp  \n",
       "0  POLYGON ((564939.916 4184293.205, 564936.041 4...       NaN       NaN  \n",
       "1  POLYGON ((551916.674 4179906.983, 551912.799 4...       NaN       NaN  \n",
       "2  POLYGON ((565186.832 4184803.318, 565182.957 4...       NaN       NaN  \n",
       "3  POLYGON ((552061.881 4178510.984, 552058.007 4...       NaN       NaN  \n",
       "4  POLYGON ((607889.218 4206005.178, 607885.343 4...       NaN       NaN  "
      ]
     },
     "execution_count": 57,
     "metadata": {},
     "output_type": "execute_result"
    }
   ],
   "source": [
    "stops_lines_append.head(5)"
   ]
  },
  {
   "cell_type": "code",
   "execution_count": 58,
   "metadata": {},
   "outputs": [
    {
     "data": {
      "image/png": "[encoded data removed]",
      "text/plain": [
       "<Figure size 720x720 with 1 Axes>"
      ]
     },
     "metadata": {
      "needs_background": "light"
     },
     "output_type": "display_data"
    }
   ],
   "source": [
    "stops_lines_append.plot(figsize=(10,10));"
   ]
  },
  {
   "cell_type": "code",
   "execution_count": null,
   "metadata": {},
   "outputs": [],
   "source": [
    "stops_lines_append.to_crs()"
   ]
  },
  {
   "cell_type": "code",
   "execution_count": 59,
   "metadata": {},
   "outputs": [],
   "source": [
    "#Unproject \n",
    "stops_lines_append_wgs84 = stops_lines_append.to_crs('EPSG:4326')"
   ]
  },
  {
   "cell_type": "code",
   "execution_count": 60,
   "metadata": {},
   "outputs": [
    {
     "data": {
      "text/plain": [
       "<Geographic 2D CRS: EPSG:4326>\n",
       "Name: WGS 84\n",
       "Axis Info [ellipsoidal]:\n",
       "- Lat[north]: Geodetic latitude (degree)\n",
       "- Lon[east]: Geodetic longitude (degree)\n",
       "Area of Use:\n",
       "- name: World\n",
       "- bounds: (-180.0, -90.0, 180.0, 90.0)\n",
       "Datum: World Geodetic System 1984\n",
       "- Ellipsoid: WGS 84\n",
       "- Prime Meridian: Greenwich"
      ]
     },
     "execution_count": 60,
     "metadata": {},
     "output_type": "execute_result"
    }
   ],
   "source": [
    "stops_lines_append_wgs84.crs"
   ]
  },
  {
   "cell_type": "code",
   "execution_count": 61,
   "metadata": {},
   "outputs": [],
   "source": [
    "stops_lines_append_wgs84['diss'] = 1\n",
    "stops_lines_append_wgs84_diss = stops_lines_append_wgs84[['diss','geom']].dissolve(by='diss',as_index=False)"
   ]
  },
  {
   "cell_type": "code",
   "execution_count": 62,
   "metadata": {},
   "outputs": [],
   "source": [
    "stops_lines_append_wgs84_diss['f_name'] = 'Transit Rich Areas'"
   ]
  },
  {
   "cell_type": "code",
   "execution_count": 63,
   "metadata": {},
   "outputs": [],
   "source": [
    "#Output to geojson for inspection\n",
    "stops_lines_append_wgs84_diss.to_file('../transit_rich_areas.geojson',driver='GeoJSON')"
   ]
  },
  {
   "cell_type": "markdown",
   "metadata": {},
   "source": [
    "## Convert to ESRI spatial data frame"
   ]
  },
  {
   "cell_type": "code",
   "execution_count": 64,
   "metadata": {},
   "outputs": [],
   "source": [
    "stops_lines_append_wgs84_sdf = pd.DataFrame.spatial.from_geodataframe(stops_lines_append_wgs84_diss,\n",
    "                                                                      column_name='geom')"
   ]
  },
  {
   "cell_type": "code",
   "execution_count": 65,
   "metadata": {},
   "outputs": [
    {
     "data": {
      "text/plain": [
       "(1, 3)"
      ]
     },
     "execution_count": 65,
     "metadata": {},
     "output_type": "execute_result"
    }
   ],
   "source": [
    "stops_lines_append_wgs84_sdf.shape"
   ]
  },
  {
   "cell_type": "code",
   "execution_count": 66,
   "metadata": {},
   "outputs": [
    {
     "data": {
      "text/plain": [
       "{'wkid': 4326}"
      ]
     },
     "execution_count": 66,
     "metadata": {},
     "output_type": "execute_result"
    }
   ],
   "source": [
    "stops_lines_append_wgs84_sdf.spatial.sr"
   ]
  },
  {
   "cell_type": "code",
   "execution_count": 67,
   "metadata": {},
   "outputs": [
    {
     "data": {
      "text/html": [
       "<div>\n",
       "<style scoped>\n",
       "    .dataframe tbody tr th:only-of-type {\n",
       "        vertical-align: middle;\n",
       "    }\n",
       "\n",
       "    .dataframe tbody tr th {\n",
       "        vertical-align: top;\n",
       "    }\n",
       "\n",
       "    .dataframe thead th {\n",
       "        text-align: right;\n",
       "    }\n",
       "</style>\n",
       "<table border=\"1\" class=\"dataframe\">\n",
       "  <thead>\n",
       "    <tr style=\"text-align: right;\">\n",
       "      <th></th>\n",
       "      <th>diss</th>\n",
       "      <th>f_name</th>\n",
       "      <th>geom</th>\n",
       "    </tr>\n",
       "  </thead>\n",
       "  <tbody>\n",
       "    <tr>\n",
       "      <th>0</th>\n",
       "      <td>1</td>\n",
       "      <td>Transit Rich Areas</td>\n",
       "      <td>{\"rings\": [[[-121.55756870995748, 37.003790447...</td>\n",
       "    </tr>\n",
       "  </tbody>\n",
       "</table>\n",
       "</div>"
      ],
      "text/plain": [
       "   diss              f_name                                               geom\n",
       "0     1  Transit Rich Areas  {\"rings\": [[[-121.55756870995748, 37.003790447..."
      ]
     },
     "execution_count": 67,
     "metadata": {},
     "output_type": "execute_result"
    }
   ],
   "source": [
    "stops_lines_append_wgs84_sdf.head(5)"
   ]
  },
  {
   "cell_type": "code",
   "execution_count": 68,
   "metadata": {},
   "outputs": [
    {
     "data": {
      "text/html": [
       "<div class=\"item_container\" style=\"height: auto; overflow: hidden; border: 1px solid #cfcfcf; border-radius: 2px; background: #f6fafa; line-height: 1.21429em; padding: 10px;\">\n",
       "                    <div class=\"item_left\" style=\"width: 210px; float: left;\">\n",
       "                       <a href='https://arcgis.ad.mtc.ca.gov/portal//home/item.html?id=e778def232f1478eafe2bb404fb8c7cd' target='_blank'>\n",
       "                        <img src='https://arcgis.ad.mtc.ca.gov/portal//portalimages/desktopapp.png' class=\"itemThumbnail\">\n",
       "                       </a>\n",
       "                    </div>\n",
       "\n",
       "                    <div class=\"item_right\"     style=\"float: none; width: auto; overflow: hidden;\">\n",
       "                        <a href='https://arcgis.ad.mtc.ca.gov/portal//home/item.html?id=e778def232f1478eafe2bb404fb8c7cd' target='_blank'><b>Transit Rich Areas 2020 v2</b>\n",
       "                        </a>\n",
       "                        <br/><img src='https://arcgis.ad.mtc.ca.gov/portal//home/js/jsapi/esri/css/images/item_type_icons/featureshosted16.png' style=\"vertical-align:middle;\">Feature Layer Collection by jcroff\n",
       "                        <br/>Last Modified: August 12, 2020\n",
       "                        <br/>0 comments, 0 views\n",
       "                    </div>\n",
       "                </div>\n",
       "                "
      ],
      "text/plain": [
       "<Item title:\"Transit Rich Areas 2020 v2\" type:Feature Layer Collection owner:jcroff>"
      ]
     },
     "execution_count": 68,
     "metadata": {},
     "output_type": "execute_result"
    }
   ],
   "source": [
    "title = 'Transit Rich Areas 2020 v2'\n",
    "folder = 'Plan Bay Area 2050'\n",
    "stops_lines_append_wgs84_sdf.spatial.to_featurelayer(title,folder=folder)"
   ]
  },
  {
   "cell_type": "code",
   "execution_count": 74,
   "metadata": {},
   "outputs": [
    {
     "ename": "CRSError",
     "evalue": "Invalid projection: +init=epsg:102100 +type=crs: (Internal Proj Error: proj_create: crs not found)",
     "output_type": "error",
     "traceback": [
      "\u001b[0;31m---------------------------------------------------------------------------\u001b[0m",
      "\u001b[0;31mCRSError\u001b[0m                                  Traceback (most recent call last)",
      "\u001b[0;32m<ipython-input-74-dcbd67eac6a9>\u001b[0m in \u001b[0;36m<module>\u001b[0;34m\u001b[0m\n\u001b[0;32m----> 1\u001b[0;31m \u001b[0mtran\u001b[0m \u001b[0;34m=\u001b[0m \u001b[0mpull_geodata_from_argis\u001b[0m\u001b[0;34m(\u001b[0m\u001b[0;34m'e778def232f1478eafe2bb404fb8c7cd'\u001b[0m\u001b[0;34m,\u001b[0m\u001b[0mclient\u001b[0m\u001b[0;34m=\u001b[0m\u001b[0mgis\u001b[0m\u001b[0;34m)\u001b[0m\u001b[0;34m\u001b[0m\u001b[0;34m\u001b[0m\u001b[0m\n\u001b[0m",
      "\u001b[0;32m~/Box/DataViz Projects/Utility Code/utils_io.py\u001b[0m in \u001b[0;36mpull_geodata_from_argis\u001b[0;34m(arcgis_data_id, geo_colname, client)\u001b[0m\n\u001b[1;32m   2294\u001b[0m     \u001b[0msdf\u001b[0m\u001b[0;34m[\u001b[0m\u001b[0;34m'geom'\u001b[0m\u001b[0;34m]\u001b[0m \u001b[0;34m=\u001b[0m \u001b[0msdf\u001b[0m\u001b[0;34m[\u001b[0m\u001b[0;34m'wkt'\u001b[0m\u001b[0;34m]\u001b[0m\u001b[0;34m.\u001b[0m\u001b[0mmap\u001b[0m\u001b[0;34m(\u001b[0m\u001b[0mto_shapely\u001b[0m\u001b[0;34m)\u001b[0m\u001b[0;34m\u001b[0m\u001b[0;34m\u001b[0m\u001b[0m\n\u001b[1;32m   2295\u001b[0m     \u001b[0mgdf\u001b[0m \u001b[0;34m=\u001b[0m \u001b[0mgpd\u001b[0m\u001b[0;34m.\u001b[0m\u001b[0mGeoDataFrame\u001b[0m\u001b[0;34m(\u001b[0m\u001b[0msdf\u001b[0m\u001b[0;34m[\u001b[0m\u001b[0msdf_cols\u001b[0m \u001b[0;34m+\u001b[0m \u001b[0;34m[\u001b[0m\u001b[0;34m'geom'\u001b[0m\u001b[0;34m]\u001b[0m\u001b[0;34m]\u001b[0m\u001b[0;34m,\u001b[0m \u001b[0mgeometry\u001b[0m\u001b[0;34m=\u001b[0m\u001b[0;34m'geom'\u001b[0m\u001b[0;34m)\u001b[0m\u001b[0;34m\u001b[0m\u001b[0;34m\u001b[0m\u001b[0m\n\u001b[0;32m-> 2296\u001b[0;31m     \u001b[0mgdf\u001b[0m\u001b[0;34m.\u001b[0m\u001b[0mcrs\u001b[0m \u001b[0;34m=\u001b[0m \u001b[0;34m{\u001b[0m\u001b[0;34m'init'\u001b[0m\u001b[0;34m:\u001b[0m \u001b[0;34m'epsg:{}'\u001b[0m\u001b[0;34m.\u001b[0m\u001b[0mformat\u001b[0m\u001b[0;34m(\u001b[0m\u001b[0mepsg\u001b[0m\u001b[0;34m)\u001b[0m\u001b[0;34m}\u001b[0m\u001b[0;34m\u001b[0m\u001b[0;34m\u001b[0m\u001b[0m\n\u001b[0m\u001b[1;32m   2297\u001b[0m     \u001b[0;32mreturn\u001b[0m \u001b[0mgdf\u001b[0m\u001b[0;34m\u001b[0m\u001b[0;34m\u001b[0m\u001b[0m\n\u001b[1;32m   2298\u001b[0m \u001b[0;34m\u001b[0m\u001b[0m\n",
      "\u001b[0;32m~/anaconda3/envs/geo_env/lib/python3.7/site-packages/geopandas/geodataframe.py\u001b[0m in \u001b[0;36m__setattr__\u001b[0;34m(self, attr, val)\u001b[0m\n\u001b[1;32m    165\u001b[0m             \u001b[0mobject\u001b[0m\u001b[0;34m.\u001b[0m\u001b[0m__setattr__\u001b[0m\u001b[0;34m(\u001b[0m\u001b[0mself\u001b[0m\u001b[0;34m,\u001b[0m \u001b[0mattr\u001b[0m\u001b[0;34m,\u001b[0m \u001b[0mval\u001b[0m\u001b[0;34m)\u001b[0m\u001b[0;34m\u001b[0m\u001b[0;34m\u001b[0m\u001b[0m\n\u001b[1;32m    166\u001b[0m         \u001b[0;32melse\u001b[0m\u001b[0;34m:\u001b[0m\u001b[0;34m\u001b[0m\u001b[0;34m\u001b[0m\u001b[0m\n\u001b[0;32m--> 167\u001b[0;31m             \u001b[0msuper\u001b[0m\u001b[0;34m(\u001b[0m\u001b[0mGeoDataFrame\u001b[0m\u001b[0;34m,\u001b[0m \u001b[0mself\u001b[0m\u001b[0;34m)\u001b[0m\u001b[0;34m.\u001b[0m\u001b[0m__setattr__\u001b[0m\u001b[0;34m(\u001b[0m\u001b[0mattr\u001b[0m\u001b[0;34m,\u001b[0m \u001b[0mval\u001b[0m\u001b[0;34m)\u001b[0m\u001b[0;34m\u001b[0m\u001b[0;34m\u001b[0m\u001b[0m\n\u001b[0m\u001b[1;32m    168\u001b[0m \u001b[0;34m\u001b[0m\u001b[0m\n\u001b[1;32m    169\u001b[0m     \u001b[0;32mdef\u001b[0m \u001b[0m_get_geometry\u001b[0m\u001b[0;34m(\u001b[0m\u001b[0mself\u001b[0m\u001b[0;34m)\u001b[0m\u001b[0;34m:\u001b[0m\u001b[0;34m\u001b[0m\u001b[0;34m\u001b[0m\u001b[0m\n",
      "\u001b[0;32m~/anaconda3/envs/geo_env/lib/python3.7/site-packages/pandas/core/generic.py\u001b[0m in \u001b[0;36m__setattr__\u001b[0;34m(self, name, value)\u001b[0m\n\u001b[1;32m   5285\u001b[0m         \u001b[0;32mtry\u001b[0m\u001b[0;34m:\u001b[0m\u001b[0;34m\u001b[0m\u001b[0;34m\u001b[0m\u001b[0m\n\u001b[1;32m   5286\u001b[0m             \u001b[0mobject\u001b[0m\u001b[0;34m.\u001b[0m\u001b[0m__getattribute__\u001b[0m\u001b[0;34m(\u001b[0m\u001b[0mself\u001b[0m\u001b[0;34m,\u001b[0m \u001b[0mname\u001b[0m\u001b[0;34m)\u001b[0m\u001b[0;34m\u001b[0m\u001b[0;34m\u001b[0m\u001b[0m\n\u001b[0;32m-> 5287\u001b[0;31m             \u001b[0;32mreturn\u001b[0m \u001b[0mobject\u001b[0m\u001b[0;34m.\u001b[0m\u001b[0m__setattr__\u001b[0m\u001b[0;34m(\u001b[0m\u001b[0mself\u001b[0m\u001b[0;34m,\u001b[0m \u001b[0mname\u001b[0m\u001b[0;34m,\u001b[0m \u001b[0mvalue\u001b[0m\u001b[0;34m)\u001b[0m\u001b[0;34m\u001b[0m\u001b[0;34m\u001b[0m\u001b[0m\n\u001b[0m\u001b[1;32m   5288\u001b[0m         \u001b[0;32mexcept\u001b[0m \u001b[0mAttributeError\u001b[0m\u001b[0;34m:\u001b[0m\u001b[0;34m\u001b[0m\u001b[0;34m\u001b[0m\u001b[0m\n\u001b[1;32m   5289\u001b[0m             \u001b[0;32mpass\u001b[0m\u001b[0;34m\u001b[0m\u001b[0;34m\u001b[0m\u001b[0m\n",
      "\u001b[0;32m~/anaconda3/envs/geo_env/lib/python3.7/site-packages/geopandas/geodataframe.py\u001b[0m in \u001b[0;36mcrs\u001b[0;34m(self, value)\u001b[0m\n\u001b[1;32m    324\u001b[0m         \u001b[0;32melse\u001b[0m\u001b[0;34m:\u001b[0m\u001b[0;34m\u001b[0m\u001b[0;34m\u001b[0m\u001b[0m\n\u001b[1;32m    325\u001b[0m             \u001b[0;32mif\u001b[0m \u001b[0mhasattr\u001b[0m\u001b[0;34m(\u001b[0m\u001b[0mself\u001b[0m\u001b[0;34m.\u001b[0m\u001b[0mgeometry\u001b[0m\u001b[0;34m.\u001b[0m\u001b[0mvalues\u001b[0m\u001b[0;34m,\u001b[0m \u001b[0;34m\"crs\"\u001b[0m\u001b[0;34m)\u001b[0m\u001b[0;34m:\u001b[0m\u001b[0;34m\u001b[0m\u001b[0;34m\u001b[0m\u001b[0m\n\u001b[0;32m--> 326\u001b[0;31m                 \u001b[0mself\u001b[0m\u001b[0;34m.\u001b[0m\u001b[0mgeometry\u001b[0m\u001b[0;34m.\u001b[0m\u001b[0mvalues\u001b[0m\u001b[0;34m.\u001b[0m\u001b[0mcrs\u001b[0m \u001b[0;34m=\u001b[0m \u001b[0mvalue\u001b[0m\u001b[0;34m\u001b[0m\u001b[0;34m\u001b[0m\u001b[0m\n\u001b[0m\u001b[1;32m    327\u001b[0m                 \u001b[0mself\u001b[0m\u001b[0;34m.\u001b[0m\u001b[0m_crs\u001b[0m \u001b[0;34m=\u001b[0m \u001b[0mself\u001b[0m\u001b[0;34m.\u001b[0m\u001b[0mgeometry\u001b[0m\u001b[0;34m.\u001b[0m\u001b[0mvalues\u001b[0m\u001b[0;34m.\u001b[0m\u001b[0mcrs\u001b[0m\u001b[0;34m\u001b[0m\u001b[0;34m\u001b[0m\u001b[0m\n\u001b[1;32m    328\u001b[0m             \u001b[0;32melse\u001b[0m\u001b[0;34m:\u001b[0m\u001b[0;34m\u001b[0m\u001b[0;34m\u001b[0m\u001b[0m\n",
      "\u001b[0;32m~/anaconda3/envs/geo_env/lib/python3.7/site-packages/geopandas/array.py\u001b[0m in \u001b[0;36mcrs\u001b[0;34m(self, value)\u001b[0m\n\u001b[1;32m    298\u001b[0m     \u001b[0;32mdef\u001b[0m \u001b[0mcrs\u001b[0m\u001b[0;34m(\u001b[0m\u001b[0mself\u001b[0m\u001b[0;34m,\u001b[0m \u001b[0mvalue\u001b[0m\u001b[0;34m)\u001b[0m\u001b[0;34m:\u001b[0m\u001b[0;34m\u001b[0m\u001b[0;34m\u001b[0m\u001b[0m\n\u001b[1;32m    299\u001b[0m         \u001b[0;34m\"\"\"Sets the value of the crs\"\"\"\u001b[0m\u001b[0;34m\u001b[0m\u001b[0;34m\u001b[0m\u001b[0m\n\u001b[0;32m--> 300\u001b[0;31m         \u001b[0mself\u001b[0m\u001b[0;34m.\u001b[0m\u001b[0m_crs\u001b[0m \u001b[0;34m=\u001b[0m \u001b[0;32mNone\u001b[0m \u001b[0;32mif\u001b[0m \u001b[0;32mnot\u001b[0m \u001b[0mvalue\u001b[0m \u001b[0;32melse\u001b[0m \u001b[0mCRS\u001b[0m\u001b[0;34m.\u001b[0m\u001b[0mfrom_user_input\u001b[0m\u001b[0;34m(\u001b[0m\u001b[0mvalue\u001b[0m\u001b[0;34m)\u001b[0m\u001b[0;34m\u001b[0m\u001b[0;34m\u001b[0m\u001b[0m\n\u001b[0m\u001b[1;32m    301\u001b[0m \u001b[0;34m\u001b[0m\u001b[0m\n\u001b[1;32m    302\u001b[0m     \u001b[0;32mdef\u001b[0m \u001b[0mcheck_geographic_crs\u001b[0m\u001b[0;34m(\u001b[0m\u001b[0mself\u001b[0m\u001b[0;34m,\u001b[0m \u001b[0mstacklevel\u001b[0m\u001b[0;34m)\u001b[0m\u001b[0;34m:\u001b[0m\u001b[0;34m\u001b[0m\u001b[0;34m\u001b[0m\u001b[0m\n",
      "\u001b[0;32m~/anaconda3/envs/geo_env/lib/python3.7/site-packages/pyproj/crs/crs.py\u001b[0m in \u001b[0;36mfrom_user_input\u001b[0;34m(value, **kwargs)\u001b[0m\n\u001b[1;32m    438\u001b[0m         \u001b[0;32mif\u001b[0m \u001b[0misinstance\u001b[0m\u001b[0;34m(\u001b[0m\u001b[0mvalue\u001b[0m\u001b[0;34m,\u001b[0m \u001b[0mCRS\u001b[0m\u001b[0;34m)\u001b[0m\u001b[0;34m:\u001b[0m\u001b[0;34m\u001b[0m\u001b[0;34m\u001b[0m\u001b[0m\n\u001b[1;32m    439\u001b[0m             \u001b[0;32mreturn\u001b[0m \u001b[0mvalue\u001b[0m\u001b[0;34m\u001b[0m\u001b[0;34m\u001b[0m\u001b[0m\n\u001b[0;32m--> 440\u001b[0;31m         \u001b[0;32mreturn\u001b[0m \u001b[0mCRS\u001b[0m\u001b[0;34m(\u001b[0m\u001b[0mvalue\u001b[0m\u001b[0;34m,\u001b[0m \u001b[0;34m**\u001b[0m\u001b[0mkwargs\u001b[0m\u001b[0;34m)\u001b[0m\u001b[0;34m\u001b[0m\u001b[0;34m\u001b[0m\u001b[0m\n\u001b[0m\u001b[1;32m    441\u001b[0m \u001b[0;34m\u001b[0m\u001b[0m\n\u001b[1;32m    442\u001b[0m     \u001b[0;32mdef\u001b[0m \u001b[0mget_geod\u001b[0m\u001b[0;34m(\u001b[0m\u001b[0mself\u001b[0m\u001b[0;34m)\u001b[0m \u001b[0;34m->\u001b[0m \u001b[0mOptional\u001b[0m\u001b[0;34m[\u001b[0m\u001b[0mGeod\u001b[0m\u001b[0;34m]\u001b[0m\u001b[0;34m:\u001b[0m\u001b[0;34m\u001b[0m\u001b[0;34m\u001b[0m\u001b[0m\n",
      "\u001b[0;32m~/anaconda3/envs/geo_env/lib/python3.7/site-packages/pyproj/crs/crs.py\u001b[0m in \u001b[0;36m__init__\u001b[0;34m(self, projparams, **kwargs)\u001b[0m\n\u001b[1;32m    294\u001b[0m             \u001b[0mprojstring\u001b[0m \u001b[0;34m=\u001b[0m \u001b[0m_prepare_from_string\u001b[0m\u001b[0;34m(\u001b[0m\u001b[0;34m\" \"\u001b[0m\u001b[0;34m.\u001b[0m\u001b[0mjoin\u001b[0m\u001b[0;34m(\u001b[0m\u001b[0;34m(\u001b[0m\u001b[0mprojstring\u001b[0m\u001b[0;34m,\u001b[0m \u001b[0mprojkwargs\u001b[0m\u001b[0;34m)\u001b[0m\u001b[0;34m)\u001b[0m\u001b[0;34m)\u001b[0m\u001b[0;34m\u001b[0m\u001b[0;34m\u001b[0m\u001b[0m\n\u001b[1;32m    295\u001b[0m \u001b[0;34m\u001b[0m\u001b[0m\n\u001b[0;32m--> 296\u001b[0;31m         \u001b[0msuper\u001b[0m\u001b[0;34m(\u001b[0m\u001b[0;34m)\u001b[0m\u001b[0;34m.\u001b[0m\u001b[0m__init__\u001b[0m\u001b[0;34m(\u001b[0m\u001b[0mprojstring\u001b[0m\u001b[0;34m)\u001b[0m\u001b[0;34m\u001b[0m\u001b[0;34m\u001b[0m\u001b[0m\n\u001b[0m\u001b[1;32m    297\u001b[0m \u001b[0;34m\u001b[0m\u001b[0m\n\u001b[1;32m    298\u001b[0m     \u001b[0;34m@\u001b[0m\u001b[0mstaticmethod\u001b[0m\u001b[0;34m\u001b[0m\u001b[0;34m\u001b[0m\u001b[0m\n",
      "\u001b[0;32mpyproj/_crs.pyx\u001b[0m in \u001b[0;36mpyproj._crs._CRS.__init__\u001b[0;34m()\u001b[0m\n",
      "\u001b[0;31mCRSError\u001b[0m: Invalid projection: +init=epsg:102100 +type=crs: (Internal Proj Error: proj_create: crs not found)"
     ]
    }
   ],
   "source": [
    "tran = pull_geodata_from_argis('e778def232f1478eafe2bb404fb8c7cd',client=gis)"
   ]
  },
  {
   "cell_type": "code",
   "execution_count": 75,
   "metadata": {},
   "outputs": [],
   "source": [
    "tra_portal = gis.content.get('e778def232f1478eafe2bb404fb8c7cd')"
   ]
  },
  {
   "cell_type": "code",
   "execution_count": 76,
   "metadata": {},
   "outputs": [
    {
     "data": {
      "text/html": [
       "<div class=\"item_container\" style=\"height: auto; overflow: hidden; border: 1px solid #cfcfcf; border-radius: 2px; background: #f6fafa; line-height: 1.21429em; padding: 10px;\">\n",
       "                    <div class=\"item_left\" style=\"width: 210px; float: left;\">\n",
       "                       <a href='https://arcgis.ad.mtc.ca.gov/portal//home/item.html?id=e778def232f1478eafe2bb404fb8c7cd' target='_blank'>\n",
       "                        <img src='https://arcgis.ad.mtc.ca.gov/portal//portalimages/desktopapp.png' class=\"itemThumbnail\">\n",
       "                       </a>\n",
       "                    </div>\n",
       "\n",
       "                    <div class=\"item_right\"     style=\"float: none; width: auto; overflow: hidden;\">\n",
       "                        <a href='https://arcgis.ad.mtc.ca.gov/portal//home/item.html?id=e778def232f1478eafe2bb404fb8c7cd' target='_blank'><b>Transit Rich Areas 2020 v2</b>\n",
       "                        </a>\n",
       "                        <br/><img src='https://arcgis.ad.mtc.ca.gov/portal//home/js/jsapi/esri/css/images/item_type_icons/featureshosted16.png' style=\"vertical-align:middle;\">Feature Layer Collection by jcroff\n",
       "                        <br/>Last Modified: August 12, 2020\n",
       "                        <br/>0 comments, 2 views\n",
       "                    </div>\n",
       "                </div>\n",
       "                "
      ],
      "text/plain": [
       "<Item title:\"Transit Rich Areas 2020 v2\" type:Feature Layer Collection owner:jcroff>"
      ]
     },
     "execution_count": 76,
     "metadata": {},
     "output_type": "execute_result"
    }
   ],
   "source": [
    "tra_portal"
   ]
  },
  {
   "cell_type": "code",
   "execution_count": 77,
   "metadata": {},
   "outputs": [
    {
     "data": {
      "text/plain": [
       "[<FeatureLayer url:\"https://arcgis.ad.mtc.ca.gov/server/rest/services/Hosted/a3f462/FeatureServer/0\">]"
      ]
     },
     "execution_count": 77,
     "metadata": {},
     "output_type": "execute_result"
    }
   ],
   "source": [
    "tra_portal.layers"
   ]
  },
  {
   "cell_type": "code",
   "execution_count": 78,
   "metadata": {},
   "outputs": [
    {
     "data": {
      "text/plain": [
       "{\n",
       "  \"currentVersion\": 10.8,\n",
       "  \"cimVersion\": \"2.5.0\",\n",
       "  \"id\": 0,\n",
       "  \"name\": \"se15fd\",\n",
       "  \"type\": \"Feature Layer\",\n",
       "  \"parentLayer\": null,\n",
       "  \"defaultVisibility\": true,\n",
       "  \"minScale\": 0,\n",
       "  \"maxScale\": 577790,\n",
       "  \"canScaleSymbols\": false,\n",
       "  \"geometryType\": \"esriGeometryPolygon\",\n",
       "  \"description\": \"\",\n",
       "  \"copyrightText\": \"\",\n",
       "  \"editFieldsInfo\": null,\n",
       "  \"syncCanReturnChanges\": true,\n",
       "  \"relationships\": [],\n",
       "  \"isDataVersioned\": false,\n",
       "  \"isDataArchived\": false,\n",
       "  \"isDataBranchVersioned\": false,\n",
       "  \"isCoGoEnabled\": false,\n",
       "  \"supportsRollbackOnFailureParameter\": true,\n",
       "  \"supportsStatistics\": true,\n",
       "  \"supportsAdvancedQueries\": true,\n",
       "  \"supportsValidateSQL\": true,\n",
       "  \"supportsCoordinatesQuantization\": true,\n",
       "  \"supportsCalculate\": true,\n",
       "  \"supportsASyncCalculate\": true,\n",
       "  \"advancedQueryCapabilities\": {\n",
       "    \"supportsReturningQueryExtent\": true,\n",
       "    \"supportsStatistics\": true,\n",
       "    \"supportsDistinct\": true,\n",
       "    \"supportsPagination\": true,\n",
       "    \"supportsOrderBy\": true,\n",
       "    \"supportsQueryWithDistance\": true,\n",
       "    \"supportsLod\": false,\n",
       "    \"supportsPaginationOnAggregatedQueries\": true,\n",
       "    \"supportsQueryWithResultType\": true,\n",
       "    \"supportsCountDistinct\": true,\n",
       "    \"supportsReturningGeometryCentroid\": true,\n",
       "    \"supportsHavingClause\": true,\n",
       "    \"supportsQueryWithLodSR\": false,\n",
       "    \"supportsTopFeaturesQuery\": false,\n",
       "    \"supportsOrderByOnlyOnLayerFields\": false,\n",
       "    \"supportsPercentileStatistics\": true,\n",
       "    \"supportsQueryAttachments\": true,\n",
       "    \"supportsQueryAttachmentsWithReturnUrl\": true,\n",
       "    \"supportsQueryWithDatumTransformation\": true\n",
       "  },\n",
       "  \"extent\": {\n",
       "    \"xmin\": -13672973.979720214,\n",
       "    \"ymin\": 4438639.657966502,\n",
       "    \"xmax\": -13531726.65090204,\n",
       "    \"ymax\": 4658114.76966285,\n",
       "    \"spatialReference\": {\n",
       "      \"wkid\": 102100,\n",
       "      \"latestWkid\": 3857,\n",
       "      \"xyTolerance\": 0.001,\n",
       "      \"zTolerance\": 0.001,\n",
       "      \"mTolerance\": 0.001,\n",
       "      \"falseX\": -20037700,\n",
       "      \"falseY\": -30241100,\n",
       "      \"xyUnits\": 148923141.92838538,\n",
       "      \"falseZ\": -100000,\n",
       "      \"zUnits\": 10000,\n",
       "      \"falseM\": -100000,\n",
       "      \"mUnits\": 10000\n",
       "    }\n",
       "  },\n",
       "  \"drawingInfo\": {\n",
       "    \"renderer\": {\n",
       "      \"type\": \"simple\",\n",
       "      \"symbol\": {\n",
       "        \"type\": \"esriSFS\",\n",
       "        \"style\": \"esriSFSSolid\",\n",
       "        \"color\": [\n",
       "          239,\n",
       "          202,\n",
       "          252,\n",
       "          255\n",
       "        ],\n",
       "        \"outline\": {\n",
       "          \"type\": \"esriSLS\",\n",
       "          \"style\": \"esriSLSSolid\",\n",
       "          \"color\": [\n",
       "            110,\n",
       "            110,\n",
       "            110,\n",
       "            255\n",
       "          ],\n",
       "          \"width\": 0.4\n",
       "        }\n",
       "      }\n",
       "    },\n",
       "    \"scaleSymbols\": true,\n",
       "    \"transparency\": 0,\n",
       "    \"labelingInfo\": null\n",
       "  },\n",
       "  \"hasM\": false,\n",
       "  \"hasZ\": false,\n",
       "  \"allowTrueCurvesUpdates\": false,\n",
       "  \"onlyAllowTrueCurveUpdatesByTrueCurveClients\": true,\n",
       "  \"hasAttachments\": false,\n",
       "  \"htmlPopupType\": \"esriServerHTMLPopupTypeAsHTMLText\",\n",
       "  \"objectIdField\": \"fid\",\n",
       "  \"globalIdField\": null,\n",
       "  \"displayField\": \"f_name\",\n",
       "  \"typeIdField\": \"\",\n",
       "  \"fields\": [\n",
       "    {\n",
       "      \"name\": \"fid\",\n",
       "      \"type\": \"esriFieldTypeOID\",\n",
       "      \"alias\": \"db_8sv8z.hsu_nf50i.a3f462_se15fd.fid\",\n",
       "      \"domain\": null,\n",
       "      \"nullable\": false,\n",
       "      \"defaultValue\": null,\n",
       "      \"modelName\": \"db_8sv8z.hsu_nf50i.a3f462_se15fd.fid\",\n",
       "      \"editable\": false\n",
       "    },\n",
       "    {\n",
       "      \"name\": \"diss\",\n",
       "      \"type\": \"esriFieldTypeInteger\",\n",
       "      \"alias\": \"diss\",\n",
       "      \"domain\": null,\n",
       "      \"editable\": true,\n",
       "      \"nullable\": true,\n",
       "      \"defaultValue\": null,\n",
       "      \"modelName\": \"diss\"\n",
       "    },\n",
       "    {\n",
       "      \"name\": \"f_name\",\n",
       "      \"type\": \"esriFieldTypeString\",\n",
       "      \"alias\": \"f_name\",\n",
       "      \"domain\": null,\n",
       "      \"editable\": true,\n",
       "      \"nullable\": true,\n",
       "      \"length\": 255,\n",
       "      \"defaultValue\": null,\n",
       "      \"modelName\": \"f_name\"\n",
       "    },\n",
       "    {\n",
       "      \"type\": \"esriFieldTypeDouble\",\n",
       "      \"nullable\": true,\n",
       "      \"editable\": false,\n",
       "      \"domain\": null,\n",
       "      \"defaultValue\": null,\n",
       "      \"virtual\": true,\n",
       "      \"name\": \"SHAPE__Length\",\n",
       "      \"alias\": \"SHAPE__Length\"\n",
       "    },\n",
       "    {\n",
       "      \"type\": \"esriFieldTypeDouble\",\n",
       "      \"nullable\": true,\n",
       "      \"editable\": false,\n",
       "      \"domain\": null,\n",
       "      \"defaultValue\": null,\n",
       "      \"virtual\": true,\n",
       "      \"name\": \"SHAPE__Area\",\n",
       "      \"alias\": \"SHAPE__Area\"\n",
       "    }\n",
       "  ],\n",
       "  \"geometryField\": {\n",
       "    \"name\": \"shape\",\n",
       "    \"type\": \"esriFieldTypeGeometry\",\n",
       "    \"alias\": \"Shape\",\n",
       "    \"domain\": null,\n",
       "    \"editable\": true,\n",
       "    \"nullable\": true,\n",
       "    \"defaultValue\": null,\n",
       "    \"modelName\": \"Shape\"\n",
       "  },\n",
       "  \"indexes\": [\n",
       "    {\n",
       "      \"name\": \"r297_sde_rowid_uk\",\n",
       "      \"fields\": \"fid\",\n",
       "      \"isAscending\": true,\n",
       "      \"isUnique\": true,\n",
       "      \"description\": \"\"\n",
       "    },\n",
       "    {\n",
       "      \"name\": \"a282_ix1\",\n",
       "      \"fields\": \"shape\",\n",
       "      \"isAscending\": true,\n",
       "      \"isUnique\": true,\n",
       "      \"description\": \"\"\n",
       "    }\n",
       "  ],\n",
       "  \"dateFieldsTimeReference\": {\n",
       "    \"timeZone\": \"UTC\",\n",
       "    \"respectsDaylightSaving\": false\n",
       "  },\n",
       "  \"types\": [],\n",
       "  \"templates\": [\n",
       "    {\n",
       "      \"name\": \"se15fd\",\n",
       "      \"description\": \"\",\n",
       "      \"prototype\": {\n",
       "        \"attributes\": {\n",
       "          \"f_name\": null,\n",
       "          \"diss\": null\n",
       "        }\n",
       "      },\n",
       "      \"drawingTool\": \"esriFeatureEditToolPolygon\"\n",
       "    }\n",
       "  ],\n",
       "  \"useStandardizedQueries\": true,\n",
       "  \"standardMaxRecordCount\": 2000,\n",
       "  \"tileMaxRecordCount\": 2000,\n",
       "  \"standardMaxRecordCountNoGeometry\": 16000,\n",
       "  \"maxRecordCountFactor\": 1,\n",
       "  \"supportedQueryFormats\": \"JSON, geoJSON, PBF\",\n",
       "  \"enableZDefaults\": true,\n",
       "  \"maxRecordCount\": 2000,\n",
       "  \"allowGeometryUpdates\": true,\n",
       "  \"capabilities\": \"Query\",\n",
       "  \"allowUpdateWithoutMValues\": true,\n",
       "  \"hasGeometryProperties\": true,\n",
       "  \"geometryProperties\": {\n",
       "    \"shapeLengthFieldName\": \"SHAPE__Length\",\n",
       "    \"shapeAreaFieldName\": \"SHAPE__Area\",\n",
       "    \"units\": \"esriMeters\"\n",
       "  },\n",
       "  \"zDefault\": 0,\n",
       "  \"serviceItemId\": \"e778def232f1478eafe2bb404fb8c7cd\",\n",
       "  \"hasMetadata\": true,\n",
       "  \"advancedEditingCapabilities\": {\n",
       "    \"supportedSqlFormatsInCalculate\": [\n",
       "      \"standard\"\n",
       "    ]\n",
       "  },\n",
       "  \"supportsApplyEditsWithGlobalIds\": false,\n",
       "  \"supportsAttachmentsByUploadId\": true,\n",
       "  \"supportsAsyncDelete\": true,\n",
       "  \"supportsFieldDescriptionProperty\": true,\n",
       "  \"sqlParserVersion\": \"PG_10.6.1\"\n",
       "}"
      ]
     },
     "execution_count": 78,
     "metadata": {},
     "output_type": "execute_result"
    }
   ],
   "source": [
    "tra_portal.layers[0].properties"
   ]
  }
 ],
 "metadata": {
  "kernelspec": {
   "display_name": "Python 3",
   "language": "python",
   "name": "python3"
  },
  "language_info": {
   "codemirror_mode": {
    "name": "ipython",
    "version": 3
   },
   "file_extension": ".py",
   "mimetype": "text/x-python",
   "name": "python",
   "nbconvert_exporter": "python",
   "pygments_lexer": "ipython3",
   "version": "3.7.7"
  }
 },
 "nbformat": 4,
 "nbformat_minor": 4
}
