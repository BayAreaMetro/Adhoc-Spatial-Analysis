{
 "cells": [
  {
   "cell_type": "markdown",
   "metadata": {},
   "source": [
    "# Create Transit Rich Areas Dataset"
   ]
  },
  {
   "cell_type": "code",
   "execution_count": 1,
   "metadata": {},
   "outputs": [],
   "source": [
    "import os\n",
    "import sys\n",
    "import pandas as pd, geopandas as gp, matplotlib.pyplot as plt, numpy as np\n",
    "import json\n",
    "import fiona\n",
    "import requests\n",
    "import getpass\n",
    "from arcgis.gis import GIS\n",
    "from arcgis.features import GeoAccessor, GeoSeriesAccessor\n",
    "from arcgis.features import FeatureLayerCollection\n",
    "\n",
    "user = getpass.getuser()\n",
    "sys.dont_write_bytecode = True\n",
    "\n",
    "sys.path.insert(0, '/Users/{}/Box/DataViz Projects/Utility Code'.format(user))\n",
    "\n",
    "from utils_io import *"
   ]
  },
  {
   "cell_type": "markdown",
   "metadata": {},
   "source": [
    "### Read in password from file\n",
    "\n",
    "**Important:** Do not put passwords or sensitive information into this notebook. Read in from seperate file or add to DataViz creds file. "
   ]
  },
  {
   "cell_type": "code",
   "execution_count": 2,
   "metadata": {},
   "outputs": [],
   "source": [
    "def get_file_contents(filename):\n",
    "    \"\"\" Given a filename,\n",
    "        return the contents of that file\n",
    "    \"\"\"\n",
    "    try:\n",
    "        with open(filename, 'r') as f:\n",
    "            # It's assumed our file contains a single line,\n",
    "            # with our API key\n",
    "            return f.read().strip()\n",
    "    except FileNotFoundError:\n",
    "        print(\"'%s' file not found\" % filename)"
   ]
  },
  {
   "cell_type": "code",
   "execution_count": 3,
   "metadata": {},
   "outputs": [],
   "source": [
    "pass_txt = '../../../../passwords/arcgis_enterprise_pass.txt'\n",
    "password = get_file_contents(pass_txt)"
   ]
  },
  {
   "cell_type": "code",
   "execution_count": 4,
   "metadata": {},
   "outputs": [],
   "source": [
    "gis = GIS(\"https://arcgis.ad.mtc.ca.gov/portal/\", \"jcroff\", password)"
   ]
  },
  {
   "cell_type": "markdown",
   "metadata": {},
   "source": [
    "## Pull Existing Transit Stops 2020 Data from Portal"
   ]
  },
  {
   "cell_type": "code",
   "execution_count": 5,
   "metadata": {},
   "outputs": [],
   "source": [
    "#Pull data from arcgis portal\n",
    "transit_stops_exist = pull_geodata_from_argis('3faf8401623b48ae8d70f7a71d7365c9',client=gis)"
   ]
  },
  {
   "cell_type": "code",
   "execution_count": 6,
   "metadata": {},
   "outputs": [
    {
     "name": "stderr",
     "output_type": "stream",
     "text": [
      "/Users/jcroff/anaconda3/envs/geo_env/lib/python3.7/site-packages/pyproj/crs/crs.py:53: FutureWarning: '+init=<authority>:<code>' syntax is deprecated. '<authority>:<code>' is the preferred initialization method. When making the change, be mindful of axis order changes: https://pyproj4.github.io/pyproj/stable/gotchas.html#axis-order-changes-in-proj-6\n",
      "  return _prepare_from_string(\" \".join(pjargs))\n"
     ]
    }
   ],
   "source": [
    "#project to NAD83 UTMZ10\n",
    "transit_stops_exist_nad83 = transit_stops_exist.to_crs('EPSG:26910')"
   ]
  },
  {
   "cell_type": "code",
   "execution_count": 7,
   "metadata": {},
   "outputs": [
    {
     "data": {
      "text/plain": [
       "'EPSG:26910'"
      ]
     },
     "execution_count": 7,
     "metadata": {},
     "output_type": "execute_result"
    }
   ],
   "source": [
    "transit_stops_exist_nad83.crs"
   ]
  },
  {
   "cell_type": "code",
   "execution_count": 15,
   "metadata": {},
   "outputs": [
    {
     "data": {
      "text/html": [
       "<div>\n",
       "<style scoped>\n",
       "    .dataframe tbody tr th:only-of-type {\n",
       "        vertical-align: middle;\n",
       "    }\n",
       "\n",
       "    .dataframe tbody tr th {\n",
       "        vertical-align: top;\n",
       "    }\n",
       "\n",
       "    .dataframe thead th {\n",
       "        text-align: right;\n",
       "    }\n",
       "</style>\n",
       "<table border=\"1\" class=\"dataframe\">\n",
       "  <thead>\n",
       "    <tr style=\"text-align: right;\">\n",
       "      <th></th>\n",
       "      <th>agency_id</th>\n",
       "      <th>agency_nm</th>\n",
       "      <th>hdwy_15min</th>\n",
       "      <th>hdwy_30min</th>\n",
       "      <th>hdwy_class</th>\n",
       "      <th>loc_type</th>\n",
       "      <th>major_stop</th>\n",
       "      <th>objectid</th>\n",
       "      <th>route_ty_t</th>\n",
       "      <th>route_type</th>\n",
       "      <th>stop_code</th>\n",
       "      <th>stop_desc</th>\n",
       "      <th>stop_id</th>\n",
       "      <th>stop_name</th>\n",
       "      <th>geom</th>\n",
       "    </tr>\n",
       "  </thead>\n",
       "  <tbody>\n",
       "    <tr>\n",
       "      <th>0</th>\n",
       "      <td>BA</td>\n",
       "      <td>Bay Area Rapid Transit</td>\n",
       "      <td>1</td>\n",
       "      <td>1</td>\n",
       "      <td>15 mins or less</td>\n",
       "      <td>0</td>\n",
       "      <td>1</td>\n",
       "      <td>1</td>\n",
       "      <td>Rail</td>\n",
       "      <td>2.0</td>\n",
       "      <td>12TH</td>\n",
       "      <td></td>\n",
       "      <td>12TH</td>\n",
       "      <td>12th St. Oakland City Center</td>\n",
       "      <td>POINT (564135.244 4184293.205)</td>\n",
       "    </tr>\n",
       "    <tr>\n",
       "      <th>1</th>\n",
       "      <td>BA</td>\n",
       "      <td>Bay Area Rapid Transit</td>\n",
       "      <td>1</td>\n",
       "      <td>1</td>\n",
       "      <td>15 mins or less</td>\n",
       "      <td>0</td>\n",
       "      <td>1</td>\n",
       "      <td>2</td>\n",
       "      <td>Rail</td>\n",
       "      <td>2.0</td>\n",
       "      <td>16TH</td>\n",
       "      <td></td>\n",
       "      <td>16TH</td>\n",
       "      <td>16th St. Mission</td>\n",
       "      <td>POINT (551112.002 4179906.983)</td>\n",
       "    </tr>\n",
       "    <tr>\n",
       "      <th>2</th>\n",
       "      <td>BA</td>\n",
       "      <td>Bay Area Rapid Transit</td>\n",
       "      <td>1</td>\n",
       "      <td>1</td>\n",
       "      <td>15 mins or less</td>\n",
       "      <td>0</td>\n",
       "      <td>1</td>\n",
       "      <td>3</td>\n",
       "      <td>Rail</td>\n",
       "      <td>2.0</td>\n",
       "      <td>19TH</td>\n",
       "      <td></td>\n",
       "      <td>19TH</td>\n",
       "      <td>19th St. Oakland</td>\n",
       "      <td>POINT (564382.160 4184803.318)</td>\n",
       "    </tr>\n",
       "    <tr>\n",
       "      <th>3</th>\n",
       "      <td>BA</td>\n",
       "      <td>Bay Area Rapid Transit</td>\n",
       "      <td>1</td>\n",
       "      <td>1</td>\n",
       "      <td>15 mins or less</td>\n",
       "      <td>0</td>\n",
       "      <td>1</td>\n",
       "      <td>4</td>\n",
       "      <td>Rail</td>\n",
       "      <td>2.0</td>\n",
       "      <td>24TH</td>\n",
       "      <td></td>\n",
       "      <td>24TH</td>\n",
       "      <td>24th St. Mission</td>\n",
       "      <td>POINT (551257.209 4178510.984)</td>\n",
       "    </tr>\n",
       "    <tr>\n",
       "      <th>4</th>\n",
       "      <td>BA</td>\n",
       "      <td>Bay Area Rapid Transit</td>\n",
       "      <td>1</td>\n",
       "      <td>1</td>\n",
       "      <td>15 mins or less</td>\n",
       "      <td>0</td>\n",
       "      <td>1</td>\n",
       "      <td>5</td>\n",
       "      <td>Rail</td>\n",
       "      <td>2.0</td>\n",
       "      <td>ANTC</td>\n",
       "      <td></td>\n",
       "      <td>ANTC</td>\n",
       "      <td>Antioch</td>\n",
       "      <td>POINT (607084.546 4206005.178)</td>\n",
       "    </tr>\n",
       "  </tbody>\n",
       "</table>\n",
       "</div>"
      ],
      "text/plain": [
       "  agency_id               agency_nm  hdwy_15min  hdwy_30min       hdwy_class  \\\n",
       "0        BA  Bay Area Rapid Transit           1           1  15 mins or less   \n",
       "1        BA  Bay Area Rapid Transit           1           1  15 mins or less   \n",
       "2        BA  Bay Area Rapid Transit           1           1  15 mins or less   \n",
       "3        BA  Bay Area Rapid Transit           1           1  15 mins or less   \n",
       "4        BA  Bay Area Rapid Transit           1           1  15 mins or less   \n",
       "\n",
       "  loc_type  major_stop  objectid route_ty_t  route_type stop_code stop_desc  \\\n",
       "0        0           1         1       Rail         2.0      12TH             \n",
       "1        0           1         2       Rail         2.0      16TH             \n",
       "2        0           1         3       Rail         2.0      19TH             \n",
       "3        0           1         4       Rail         2.0      24TH             \n",
       "4        0           1         5       Rail         2.0      ANTC             \n",
       "\n",
       "  stop_id                     stop_name                            geom  \n",
       "0    12TH  12th St. Oakland City Center  POINT (564135.244 4184293.205)  \n",
       "1    16TH              16th St. Mission  POINT (551112.002 4179906.983)  \n",
       "2    19TH              19th St. Oakland  POINT (564382.160 4184803.318)  \n",
       "3    24TH              24th St. Mission  POINT (551257.209 4178510.984)  \n",
       "4    ANTC                       Antioch  POINT (607084.546 4206005.178)  "
      ]
     },
     "execution_count": 15,
     "metadata": {},
     "output_type": "execute_result"
    }
   ],
   "source": [
    "transit_stops_exist_nad83.head(5)"
   ]
  },
  {
   "cell_type": "code",
   "execution_count": 8,
   "metadata": {},
   "outputs": [
    {
     "data": {
      "text/plain": [
       "array(['Rail', 'Bus', 'Tram, Streetcar, Light Rail', 'Cable Tram', None,\n",
       "       'Ferry'], dtype=object)"
      ]
     },
     "execution_count": 8,
     "metadata": {},
     "output_type": "execute_result"
    }
   ],
   "source": [
    "transit_stops_exist_nad83['route_ty_t'].unique()"
   ]
  },
  {
   "cell_type": "code",
   "execution_count": 9,
   "metadata": {},
   "outputs": [],
   "source": [
    "#Filter stops to include stops w/ types as well as stops with routes headways of 15 mins or less\n",
    "transit_stops_exist_nad83 = transit_stops_exist_nad83[(transit_stops_exist_nad83['hdwy_15min'] == 1) & \n",
    "                                                  (transit_stops_exist_nad83['route_ty_t'].isin(['Rail', \n",
    "                                                                                              'Bus', \n",
    "                                                                                              'Tram, Streetcar, Light Rail',\n",
    "                                                                                              'Cable Tram',\n",
    "                                                                                              'Ferry']))]"
   ]
  },
  {
   "cell_type": "code",
   "execution_count": 10,
   "metadata": {},
   "outputs": [
    {
     "data": {
      "text/plain": [
       "(6414, 15)"
      ]
     },
     "execution_count": 10,
     "metadata": {},
     "output_type": "execute_result"
    }
   ],
   "source": [
    "transit_stops_exist_nad83.shape"
   ]
  },
  {
   "cell_type": "markdown",
   "metadata": {},
   "source": [
    "# Pull planned and potential stops from portal"
   ]
  },
  {
   "cell_type": "code",
   "execution_count": 12,
   "metadata": {},
   "outputs": [],
   "source": [
    "#Pull data from arcgis portal\n",
    "transit_stops_plan = pull_geodata_from_argis('18a6239819b048fab9c87bb4d7649560',client=gis)"
   ]
  },
  {
   "cell_type": "code",
   "execution_count": 13,
   "metadata": {},
   "outputs": [
    {
     "name": "stderr",
     "output_type": "stream",
     "text": [
      "/Users/jcroff/anaconda3/envs/geo_env/lib/python3.7/site-packages/pyproj/crs/crs.py:53: FutureWarning: '+init=<authority>:<code>' syntax is deprecated. '<authority>:<code>' is the preferred initialization method. When making the change, be mindful of axis order changes: https://pyproj4.github.io/pyproj/stable/gotchas.html#axis-order-changes-in-proj-6\n",
      "  return _prepare_from_string(\" \".join(pjargs))\n"
     ]
    }
   ],
   "source": [
    "#Project to NAD83 UTMZ10\n",
    "transit_stops_plan_nad83 = transit_stops_plan.to_crs('EPSG:26910')"
   ]
  },
  {
   "cell_type": "code",
   "execution_count": 14,
   "metadata": {},
   "outputs": [
    {
     "data": {
      "text/plain": [
       "'EPSG:26910'"
      ]
     },
     "execution_count": 14,
     "metadata": {},
     "output_type": "execute_result"
    }
   ],
   "source": [
    "transit_stops_plan_nad83.crs"
   ]
  },
  {
   "cell_type": "code",
   "execution_count": 16,
   "metadata": {},
   "outputs": [
    {
     "data": {
      "text/html": [
       "<div>\n",
       "<style scoped>\n",
       "    .dataframe tbody tr th:only-of-type {\n",
       "        vertical-align: middle;\n",
       "    }\n",
       "\n",
       "    .dataframe tbody tr th {\n",
       "        vertical-align: top;\n",
       "    }\n",
       "\n",
       "    .dataframe thead th {\n",
       "        text-align: right;\n",
       "    }\n",
       "</style>\n",
       "<table border=\"1\" class=\"dataframe\">\n",
       "  <thead>\n",
       "    <tr style=\"text-align: right;\">\n",
       "      <th></th>\n",
       "      <th>objectid</th>\n",
       "      <th>county</th>\n",
       "      <th>jurisdictn</th>\n",
       "      <th>agency_nm</th>\n",
       "      <th>stop_name</th>\n",
       "      <th>route_ty_t</th>\n",
       "      <th>ppa_id</th>\n",
       "      <th>ppa_name</th>\n",
       "      <th>committd</th>\n",
       "      <th>status</th>\n",
       "      <th>exp_open</th>\n",
       "      <th>geom</th>\n",
       "    </tr>\n",
       "  </thead>\n",
       "  <tbody>\n",
       "    <tr>\n",
       "      <th>0</th>\n",
       "      <td>1</td>\n",
       "      <td>CA013</td>\n",
       "      <td>Brentwood</td>\n",
       "      <td>TBD</td>\n",
       "      <td>Brentwood</td>\n",
       "      <td>Bus</td>\n",
       "      <td>2202</td>\n",
       "      <td>Bus Rapid Transit to Brentwood (formerly BART ...</td>\n",
       "      <td>No</td>\n",
       "      <td>Final Blueprint</td>\n",
       "      <td>2021-2035</td>\n",
       "      <td>POINT (610284.281 4201385.715)</td>\n",
       "    </tr>\n",
       "    <tr>\n",
       "      <th>1</th>\n",
       "      <td>2</td>\n",
       "      <td>CA097</td>\n",
       "      <td>Healdsburg</td>\n",
       "      <td>Sonoma-Marin Area Rail Transit</td>\n",
       "      <td>Healdsburg</td>\n",
       "      <td>Rail</td>\n",
       "      <td>2304</td>\n",
       "      <td>SMART to Cloverdale</td>\n",
       "      <td>No</td>\n",
       "      <td>Not Included</td>\n",
       "      <td>Not Included</td>\n",
       "      <td>POINT (511636.968 4273185.826)</td>\n",
       "    </tr>\n",
       "    <tr>\n",
       "      <th>2</th>\n",
       "      <td>3</td>\n",
       "      <td>CA097</td>\n",
       "      <td>Cloverdale</td>\n",
       "      <td>Sonoma-Marin Area Rail Transit</td>\n",
       "      <td>Cloverdale</td>\n",
       "      <td>Rail</td>\n",
       "      <td>2304</td>\n",
       "      <td>SMART to Cloverdale</td>\n",
       "      <td>No</td>\n",
       "      <td>Not Included</td>\n",
       "      <td>Not Included</td>\n",
       "      <td>POINT (498953.967 4294420.424)</td>\n",
       "    </tr>\n",
       "    <tr>\n",
       "      <th>3</th>\n",
       "      <td>4</td>\n",
       "      <td>CA085</td>\n",
       "      <td>San Jose</td>\n",
       "      <td>Santa Clara Valley Transportation Authority</td>\n",
       "      <td>San Jose Airport</td>\n",
       "      <td>Tram, Streetcar, Light Rail</td>\n",
       "      <td>2402</td>\n",
       "      <td>San Jose Airport People Mover</td>\n",
       "      <td>No</td>\n",
       "      <td>Not Included</td>\n",
       "      <td>Not Included</td>\n",
       "      <td>POINT (595075.482 4136054.501)</td>\n",
       "    </tr>\n",
       "    <tr>\n",
       "      <th>4</th>\n",
       "      <td>5</td>\n",
       "      <td>CA085</td>\n",
       "      <td>Cupertino</td>\n",
       "      <td>Bay Area Rapid Transit</td>\n",
       "      <td>De Anza College</td>\n",
       "      <td>Tram, Streetcar, Light Rail</td>\n",
       "      <td>2206</td>\n",
       "      <td>Stevens Creek Line (formerly BART to Cupertino)</td>\n",
       "      <td>No</td>\n",
       "      <td>Final Blueprint</td>\n",
       "      <td>2036-2050</td>\n",
       "      <td>POINT (585044.618 4131116.515)</td>\n",
       "    </tr>\n",
       "  </tbody>\n",
       "</table>\n",
       "</div>"
      ],
      "text/plain": [
       "   objectid county  jurisdictn                                    agency_nm  \\\n",
       "0         1  CA013   Brentwood                                          TBD   \n",
       "1         2  CA097  Healdsburg               Sonoma-Marin Area Rail Transit   \n",
       "2         3  CA097  Cloverdale               Sonoma-Marin Area Rail Transit   \n",
       "3         4  CA085    San Jose  Santa Clara Valley Transportation Authority   \n",
       "4         5  CA085   Cupertino                       Bay Area Rapid Transit   \n",
       "\n",
       "          stop_name                   route_ty_t  ppa_id  \\\n",
       "0         Brentwood                          Bus    2202   \n",
       "1        Healdsburg                         Rail    2304   \n",
       "2        Cloverdale                         Rail    2304   \n",
       "3  San Jose Airport  Tram, Streetcar, Light Rail    2402   \n",
       "4   De Anza College  Tram, Streetcar, Light Rail    2206   \n",
       "\n",
       "                                            ppa_name committd  \\\n",
       "0  Bus Rapid Transit to Brentwood (formerly BART ...       No   \n",
       "1                                SMART to Cloverdale       No   \n",
       "2                                SMART to Cloverdale       No   \n",
       "3                      San Jose Airport People Mover       No   \n",
       "4    Stevens Creek Line (formerly BART to Cupertino)       No   \n",
       "\n",
       "            status      exp_open                            geom  \n",
       "0  Final Blueprint     2021-2035  POINT (610284.281 4201385.715)  \n",
       "1     Not Included  Not Included  POINT (511636.968 4273185.826)  \n",
       "2     Not Included  Not Included  POINT (498953.967 4294420.424)  \n",
       "3     Not Included  Not Included  POINT (595075.482 4136054.501)  \n",
       "4  Final Blueprint     2036-2050  POINT (585044.618 4131116.515)  "
      ]
     },
     "execution_count": 16,
     "metadata": {},
     "output_type": "execute_result"
    }
   ],
   "source": [
    "transit_stops_plan_nad83.head(5)"
   ]
  },
  {
   "cell_type": "code",
   "execution_count": 19,
   "metadata": {},
   "outputs": [
    {
     "data": {
      "text/plain": [
       "array(['Final Blueprint', 'Not Included', 'Draft Blueprint',\n",
       "       'Under Construction'], dtype=object)"
      ]
     },
     "execution_count": 19,
     "metadata": {},
     "output_type": "execute_result"
    }
   ],
   "source": [
    "transit_stops_plan_nad83['status'].unique()"
   ]
  },
  {
   "cell_type": "code",
   "execution_count": 20,
   "metadata": {},
   "outputs": [],
   "source": [
    "#filter for stops in the Final Blueprint or Under Construction\n",
    "transit_stops_plan_nad83 = transit_stops_plan_nad83[transit_stops_plan_nad83['status'].isin(['Final Blueprint',\n",
    "                                                                                             'Under Construction'])]"
   ]
  },
  {
   "cell_type": "code",
   "execution_count": null,
   "metadata": {},
   "outputs": [],
   "source": [
    "#Pull PBA2050 transit projects "
   ]
  }
 ],
 "metadata": {
  "kernelspec": {
   "display_name": "Python 3",
   "language": "python",
   "name": "python3"
  },
  "language_info": {
   "codemirror_mode": {
    "name": "ipython",
    "version": 3
   },
   "file_extension": ".py",
   "mimetype": "text/x-python",
   "name": "python",
   "nbconvert_exporter": "python",
   "pygments_lexer": "ipython3",
   "version": "3.7.7"
  }
 },
 "nbformat": 4,
 "nbformat_minor": 4
}
