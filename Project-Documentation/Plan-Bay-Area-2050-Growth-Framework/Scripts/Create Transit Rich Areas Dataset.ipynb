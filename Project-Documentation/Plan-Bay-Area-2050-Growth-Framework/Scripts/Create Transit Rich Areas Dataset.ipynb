{
 "cells": [
  {
   "cell_type": "markdown",
   "metadata": {},
   "source": [
    "# Create Transit Rich Areas Dataset"
   ]
  },
  {
   "cell_type": "code",
   "execution_count": 1,
   "metadata": {},
   "outputs": [],
   "source": [
    "import os\n",
    "import sys\n",
    "import pandas as pd, geopandas as gp, matplotlib.pyplot as plt, numpy as np\n",
    "import json\n",
    "import fiona\n",
    "import requests\n",
    "from arcgis.gis import GIS\n",
    "from arcgis.features import GeoAccessor, GeoSeriesAccessor\n",
    "from arcgis.features import FeatureLayerCollection"
   ]
  },
  {
   "cell_type": "markdown",
   "metadata": {},
   "source": [
    "### Read in password from file\n",
    "\n",
    "**Important:** Do not put passwords or sensitive information into this notebook. Read in from seperate file or add to DataViz creds file. "
   ]
  },
  {
   "cell_type": "code",
   "execution_count": 4,
   "metadata": {},
   "outputs": [],
   "source": [
    "def get_file_contents(filename):\n",
    "    \"\"\" Given a filename,\n",
    "        return the contents of that file\n",
    "    \"\"\"\n",
    "    try:\n",
    "        with open(filename, 'r') as f:\n",
    "            # It's assumed our file contains a single line,\n",
    "            # with our API key\n",
    "            return f.read().strip()\n",
    "    except FileNotFoundError:\n",
    "        print(\"'%s' file not found\" % filename)"
   ]
  },
  {
   "cell_type": "code",
   "execution_count": 5,
   "metadata": {},
   "outputs": [],
   "source": [
    "pass_txt = '../../../../passwords/arcgis_enterprise_pass.txt'\n",
    "password = get_file_contents(pass_txt)"
   ]
  },
  {
   "cell_type": "code",
   "execution_count": 6,
   "metadata": {},
   "outputs": [],
   "source": [
    "gis = GIS(\"https://arcgis.ad.mtc.ca.gov/portal/\", \"jcroff\", password)"
   ]
  },
  {
   "cell_type": "markdown",
   "metadata": {},
   "source": [
    "## Pull Existing Transit Stops 2020 Data from Portal"
   ]
  },
  {
   "cell_type": "code",
   "execution_count": 12,
   "metadata": {},
   "outputs": [
    {
     "data": {
      "text/plain": [
       "[<Item title:\"Transit Priority Areas with Plan Bay Area 2040 Connected Neighborhoods Scenario Overlay\" type:Feature Layer Collection owner:msmith>,\n",
       " <Item title:\"Transit Priority Areas with Plan Bay Area 2040 Main Streets Scenario Overlay\" type:Feature Layer Collection owner:msmith>,\n",
       " <Item title:\"Transit Priority Areas with Plan Bay Area 2040 No Project Scenario Overlay\" type:Feature Layer Collection owner:msmith>,\n",
       " <Item title:\"Priority Development Area-Transit Priority Area Overlay (2017)\" type:Feature Layer Collection owner:msmith>,\n",
       " <Item title:\"Transit Stops - Existing (2020)\" type:Feature Layer Collection owner:msmith>,\n",
       " <Item title:\"Transit Priority Areas with Plan Bay Area 2040 Big Cities Scenario Overlay\" type:Feature Layer Collection owner:msmith>,\n",
       " <Item title:\"Transit Priority areas with Plan Bay Area 2040 Environment, Equity, and Jobs Scenario Overlay\" type:Feature Layer Collection owner:msmith>,\n",
       " <Item title:\"Transit Priority Areas (2014)\" type:Feature Layer Collection owner:msmith>,\n",
       " <Item title:\"Transit Priority Areas (2017)\" type:Feature Layer Collection owner:msmith>,\n",
       " <Item title:\"Transit Priority Project Eligible Areas (2017)\" type:Feature Layer Collection owner:msmith>]"
      ]
     },
     "execution_count": 12,
     "metadata": {},
     "output_type": "execute_result"
    }
   ],
   "source": [
    "#Search for existing transit stops\n",
    "search_results = gis.content.search('title: Transit Stops',\n",
    "                  'Feature Layer')\n",
    "search_results"
   ]
  },
  {
   "cell_type": "code",
   "execution_count": 13,
   "metadata": {},
   "outputs": [
    {
     "data": {
      "text/html": [
       "<div class=\"item_container\" style=\"height: auto; overflow: hidden; border: 1px solid #cfcfcf; border-radius: 2px; background: #f6fafa; line-height: 1.21429em; padding: 10px;\">\n",
       "                    <div class=\"item_left\" style=\"width: 210px; float: left;\">\n",
       "                       <a href='https://arcgis.ad.mtc.ca.gov/portal//home/item.html?id=3faf8401623b48ae8d70f7a71d7365c9' target='_blank'>\n",
       "                        <img src='data:image/png;base64,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' width='200' height='133' class=\"itemThumbnail\">\n",
       "                       </a>\n",
       "                    </div>\n",
       "\n",
       "                    <div class=\"item_right\"     style=\"float: none; width: auto; overflow: hidden;\">\n",
       "                        <a href='https://arcgis.ad.mtc.ca.gov/portal//home/item.html?id=3faf8401623b48ae8d70f7a71d7365c9' target='_blank'><b>Transit Stops - Existing (2020)</b>\n",
       "                        </a>\n",
       "                        <br/>This layer contains all transit stops for the San Francisco Bay Region, and include route headway classifications for transit routes served by the stops. Source data was downloaded in January 2020.<img src='https://arcgis.ad.mtc.ca.gov/portal//home/js/jsapi/esri/css/images/item_type_icons/featureshosted16.png' style=\"vertical-align:middle;\">Feature Layer Collection by msmith\n",
       "                        <br/>Last Modified: June 17, 2020\n",
       "                        <br/>0 comments, 20 views\n",
       "                    </div>\n",
       "                </div>\n",
       "                "
      ],
      "text/plain": [
       "<Item title:\"Transit Stops - Existing (2020)\" type:Feature Layer Collection owner:msmith>"
      ]
     },
     "execution_count": 13,
     "metadata": {},
     "output_type": "execute_result"
    }
   ],
   "source": [
    "#Get item\n",
    "transit_stops_exist_item = search_results[4]\n",
    "transit_stops_exist_item"
   ]
  },
  {
   "cell_type": "code",
   "execution_count": 19,
   "metadata": {},
   "outputs": [
    {
     "data": {
      "text/plain": [
       "<FeatureLayer url:\"https://arcgis.ad.mtc.ca.gov/server/rest/services/Hosted/Existing_Transit_Stops_2020/FeatureServer/0\">"
      ]
     },
     "execution_count": 19,
     "metadata": {},
     "output_type": "execute_result"
    }
   ],
   "source": [
    "#Get layer and create spatial DF\n",
    "transit_stops_exist_lyr = transit_stops_exist_item.layers[0]\n",
    "transit_stops_exist_lyr"
   ]
  },
  {
   "cell_type": "code",
   "execution_count": 39,
   "metadata": {},
   "outputs": [],
   "source": [
    "#Query entire layer and output spatial reference as NAD83 UTM Z 10N\n",
    "tranit_stops_exist_nad83_lyr = transit_stops_exist_lyr.query(out_sr='26910')"
   ]
  },
  {
   "cell_type": "code",
   "execution_count": 40,
   "metadata": {},
   "outputs": [
    {
     "data": {
      "text/plain": [
       "{'wkid': 26910, 'latestWkid': 26910}"
      ]
     },
     "execution_count": 40,
     "metadata": {},
     "output_type": "execute_result"
    }
   ],
   "source": [
    "tranit_stops_exist_nad83_lyr.spatial_reference"
   ]
  },
  {
   "cell_type": "code",
   "execution_count": 55,
   "metadata": {},
   "outputs": [
    {
     "data": {
      "text/plain": [
       "'Query'"
      ]
     },
     "execution_count": 55,
     "metadata": {},
     "output_type": "execute_result"
    }
   ],
   "source": [
    "transit_stops_exist_lyr.properties.capabilities"
   ]
  },
  {
   "cell_type": "code",
   "execution_count": 41,
   "metadata": {},
   "outputs": [
    {
     "data": {
      "text/html": [
       "<div>\n",
       "<style scoped>\n",
       "    .dataframe tbody tr th:only-of-type {\n",
       "        vertical-align: middle;\n",
       "    }\n",
       "\n",
       "    .dataframe tbody tr th {\n",
       "        vertical-align: top;\n",
       "    }\n",
       "\n",
       "    .dataframe thead th {\n",
       "        text-align: right;\n",
       "    }\n",
       "</style>\n",
       "<table border=\"1\" class=\"dataframe\">\n",
       "  <thead>\n",
       "    <tr style=\"text-align: right;\">\n",
       "      <th></th>\n",
       "      <th>objectid</th>\n",
       "      <th>stop_id</th>\n",
       "      <th>stop_code</th>\n",
       "      <th>stop_name</th>\n",
       "      <th>stop_desc</th>\n",
       "      <th>loc_type</th>\n",
       "      <th>hdwy_30min</th>\n",
       "      <th>hdwy_15min</th>\n",
       "      <th>major_stop</th>\n",
       "      <th>hdwy_class</th>\n",
       "      <th>agency_id</th>\n",
       "      <th>agency_nm</th>\n",
       "      <th>route_type</th>\n",
       "      <th>route_ty_t</th>\n",
       "      <th>SHAPE</th>\n",
       "    </tr>\n",
       "  </thead>\n",
       "  <tbody>\n",
       "    <tr>\n",
       "      <th>0</th>\n",
       "      <td>1</td>\n",
       "      <td>12TH</td>\n",
       "      <td>12TH</td>\n",
       "      <td>12th St. Oakland City Center</td>\n",
       "      <td></td>\n",
       "      <td>0</td>\n",
       "      <td>1</td>\n",
       "      <td>1</td>\n",
       "      <td>1</td>\n",
       "      <td>15 mins or less</td>\n",
       "      <td>BA</td>\n",
       "      <td>Bay Area Rapid Transit</td>\n",
       "      <td>2.0</td>\n",
       "      <td>Rail</td>\n",
       "      <td>{\"x\": 564136.4098433314, \"y\": 4184292.66372085...</td>\n",
       "    </tr>\n",
       "    <tr>\n",
       "      <th>1</th>\n",
       "      <td>2</td>\n",
       "      <td>16TH</td>\n",
       "      <td>16TH</td>\n",
       "      <td>16th St. Mission</td>\n",
       "      <td></td>\n",
       "      <td>0</td>\n",
       "      <td>1</td>\n",
       "      <td>1</td>\n",
       "      <td>1</td>\n",
       "      <td>15 mins or less</td>\n",
       "      <td>BA</td>\n",
       "      <td>Bay Area Rapid Transit</td>\n",
       "      <td>2.0</td>\n",
       "      <td>Rail</td>\n",
       "      <td>{\"x\": 551113.1694361205, \"y\": 4179906.44184228...</td>\n",
       "    </tr>\n",
       "    <tr>\n",
       "      <th>2</th>\n",
       "      <td>3</td>\n",
       "      <td>19TH</td>\n",
       "      <td>19TH</td>\n",
       "      <td>19th St. Oakland</td>\n",
       "      <td></td>\n",
       "      <td>0</td>\n",
       "      <td>1</td>\n",
       "      <td>1</td>\n",
       "      <td>1</td>\n",
       "      <td>15 mins or less</td>\n",
       "      <td>BA</td>\n",
       "      <td>Bay Area Rapid Transit</td>\n",
       "      <td>2.0</td>\n",
       "      <td>Rail</td>\n",
       "      <td>{\"x\": 564383.3260366825, \"y\": 4184802.77724181...</td>\n",
       "    </tr>\n",
       "    <tr>\n",
       "      <th>3</th>\n",
       "      <td>4</td>\n",
       "      <td>24TH</td>\n",
       "      <td>24TH</td>\n",
       "      <td>24th St. Mission</td>\n",
       "      <td></td>\n",
       "      <td>0</td>\n",
       "      <td>1</td>\n",
       "      <td>1</td>\n",
       "      <td>1</td>\n",
       "      <td>15 mins or less</td>\n",
       "      <td>BA</td>\n",
       "      <td>Bay Area Rapid Transit</td>\n",
       "      <td>2.0</td>\n",
       "      <td>Rail</td>\n",
       "      <td>{\"x\": 551258.3767569633, \"y\": 4178510.44246167...</td>\n",
       "    </tr>\n",
       "    <tr>\n",
       "      <th>4</th>\n",
       "      <td>5</td>\n",
       "      <td>ANTC</td>\n",
       "      <td>ANTC</td>\n",
       "      <td>Antioch</td>\n",
       "      <td></td>\n",
       "      <td>0</td>\n",
       "      <td>1</td>\n",
       "      <td>1</td>\n",
       "      <td>1</td>\n",
       "      <td>15 mins or less</td>\n",
       "      <td>BA</td>\n",
       "      <td>Bay Area Rapid Transit</td>\n",
       "      <td>2.0</td>\n",
       "      <td>Rail</td>\n",
       "      <td>{\"x\": 607085.7075095321, \"y\": 4206004.63742061...</td>\n",
       "    </tr>\n",
       "    <tr>\n",
       "      <th>5</th>\n",
       "      <td>6</td>\n",
       "      <td>ASHB</td>\n",
       "      <td>ASHB</td>\n",
       "      <td>Ashby</td>\n",
       "      <td></td>\n",
       "      <td>0</td>\n",
       "      <td>1</td>\n",
       "      <td>1</td>\n",
       "      <td>1</td>\n",
       "      <td>15 mins or less</td>\n",
       "      <td>BA</td>\n",
       "      <td>Bay Area Rapid Transit</td>\n",
       "      <td>2.0</td>\n",
       "      <td>Rail</td>\n",
       "      <td>{\"x\": 564216.2685953442, \"y\": 4189733.54973746...</td>\n",
       "    </tr>\n",
       "    <tr>\n",
       "      <th>6</th>\n",
       "      <td>7</td>\n",
       "      <td>BALB</td>\n",
       "      <td>BALB</td>\n",
       "      <td>Balboa Park</td>\n",
       "      <td></td>\n",
       "      <td>0</td>\n",
       "      <td>1</td>\n",
       "      <td>1</td>\n",
       "      <td>1</td>\n",
       "      <td>15 mins or less</td>\n",
       "      <td>BA</td>\n",
       "      <td>Bay Area Rapid Transit</td>\n",
       "      <td>2.0</td>\n",
       "      <td>Rail</td>\n",
       "      <td>{\"x\": 548691.321425793, \"y\": 4175067.564707218...</td>\n",
       "    </tr>\n",
       "    <tr>\n",
       "      <th>7</th>\n",
       "      <td>8</td>\n",
       "      <td>BAYF</td>\n",
       "      <td>BAYF</td>\n",
       "      <td>Bay Fair</td>\n",
       "      <td></td>\n",
       "      <td>0</td>\n",
       "      <td>1</td>\n",
       "      <td>1</td>\n",
       "      <td>1</td>\n",
       "      <td>15 mins or less</td>\n",
       "      <td>BA</td>\n",
       "      <td>Bay Area Rapid Transit</td>\n",
       "      <td>2.0</td>\n",
       "      <td>Rail</td>\n",
       "      <td>{\"x\": 577006.5595316953, \"y\": 4172546.94017915...</td>\n",
       "    </tr>\n",
       "    <tr>\n",
       "      <th>8</th>\n",
       "      <td>9</td>\n",
       "      <td>CAST</td>\n",
       "      <td>CAST</td>\n",
       "      <td>Castro Valley</td>\n",
       "      <td></td>\n",
       "      <td>0</td>\n",
       "      <td>1</td>\n",
       "      <td>1</td>\n",
       "      <td>1</td>\n",
       "      <td>15 mins or less</td>\n",
       "      <td>BA</td>\n",
       "      <td>Bay Area Rapid Transit</td>\n",
       "      <td>2.0</td>\n",
       "      <td>Rail</td>\n",
       "      <td>{\"x\": 581501.5484727961, \"y\": 4171905.44242524...</td>\n",
       "    </tr>\n",
       "    <tr>\n",
       "      <th>9</th>\n",
       "      <td>10</td>\n",
       "      <td>CIVC</td>\n",
       "      <td>CIVC</td>\n",
       "      <td>Civic Center/UN Plaza</td>\n",
       "      <td></td>\n",
       "      <td>0</td>\n",
       "      <td>1</td>\n",
       "      <td>1</td>\n",
       "      <td>1</td>\n",
       "      <td>15 mins or less</td>\n",
       "      <td>BA</td>\n",
       "      <td>Bay Area Rapid Transit</td>\n",
       "      <td>2.0</td>\n",
       "      <td>Rail</td>\n",
       "      <td>{\"x\": 551593.5680305319, \"y\": 4181537.12486972...</td>\n",
       "    </tr>\n",
       "  </tbody>\n",
       "</table>\n",
       "</div>"
      ],
      "text/plain": [
       "   objectid stop_id stop_code                     stop_name stop_desc  \\\n",
       "0         1    12TH      12TH  12th St. Oakland City Center             \n",
       "1         2    16TH      16TH              16th St. Mission             \n",
       "2         3    19TH      19TH              19th St. Oakland             \n",
       "3         4    24TH      24TH              24th St. Mission             \n",
       "4         5    ANTC      ANTC                       Antioch             \n",
       "5         6    ASHB      ASHB                         Ashby             \n",
       "6         7    BALB      BALB                   Balboa Park             \n",
       "7         8    BAYF      BAYF                      Bay Fair             \n",
       "8         9    CAST      CAST                 Castro Valley             \n",
       "9        10    CIVC      CIVC         Civic Center/UN Plaza             \n",
       "\n",
       "  loc_type  hdwy_30min  hdwy_15min  major_stop       hdwy_class agency_id  \\\n",
       "0        0           1           1           1  15 mins or less        BA   \n",
       "1        0           1           1           1  15 mins or less        BA   \n",
       "2        0           1           1           1  15 mins or less        BA   \n",
       "3        0           1           1           1  15 mins or less        BA   \n",
       "4        0           1           1           1  15 mins or less        BA   \n",
       "5        0           1           1           1  15 mins or less        BA   \n",
       "6        0           1           1           1  15 mins or less        BA   \n",
       "7        0           1           1           1  15 mins or less        BA   \n",
       "8        0           1           1           1  15 mins or less        BA   \n",
       "9        0           1           1           1  15 mins or less        BA   \n",
       "\n",
       "                agency_nm  route_type route_ty_t  \\\n",
       "0  Bay Area Rapid Transit         2.0       Rail   \n",
       "1  Bay Area Rapid Transit         2.0       Rail   \n",
       "2  Bay Area Rapid Transit         2.0       Rail   \n",
       "3  Bay Area Rapid Transit         2.0       Rail   \n",
       "4  Bay Area Rapid Transit         2.0       Rail   \n",
       "5  Bay Area Rapid Transit         2.0       Rail   \n",
       "6  Bay Area Rapid Transit         2.0       Rail   \n",
       "7  Bay Area Rapid Transit         2.0       Rail   \n",
       "8  Bay Area Rapid Transit         2.0       Rail   \n",
       "9  Bay Area Rapid Transit         2.0       Rail   \n",
       "\n",
       "                                               SHAPE  \n",
       "0  {\"x\": 564136.4098433314, \"y\": 4184292.66372085...  \n",
       "1  {\"x\": 551113.1694361205, \"y\": 4179906.44184228...  \n",
       "2  {\"x\": 564383.3260366825, \"y\": 4184802.77724181...  \n",
       "3  {\"x\": 551258.3767569633, \"y\": 4178510.44246167...  \n",
       "4  {\"x\": 607085.7075095321, \"y\": 4206004.63742061...  \n",
       "5  {\"x\": 564216.2685953442, \"y\": 4189733.54973746...  \n",
       "6  {\"x\": 548691.321425793, \"y\": 4175067.564707218...  \n",
       "7  {\"x\": 577006.5595316953, \"y\": 4172546.94017915...  \n",
       "8  {\"x\": 581501.5484727961, \"y\": 4171905.44242524...  \n",
       "9  {\"x\": 551593.5680305319, \"y\": 4181537.12486972...  "
      ]
     },
     "execution_count": 41,
     "metadata": {},
     "output_type": "execute_result"
    }
   ],
   "source": [
    "#Convert layer to dataframe\n",
    "transit_stops_exist_nad83_sdf = tranit_stops_exist_nad83_lyr.sdf\n",
    "transit_stops_exist_nad83_sdf.head(10)"
   ]
  },
  {
   "cell_type": "code",
   "execution_count": 42,
   "metadata": {},
   "outputs": [
    {
     "data": {
      "text/plain": [
       "{'wkid': 26910, 'latestWkid': 26910}"
      ]
     },
     "execution_count": 42,
     "metadata": {},
     "output_type": "execute_result"
    }
   ],
   "source": [
    "transit_stops_exist_nad83_sdf.spatial.sr"
   ]
  },
  {
   "cell_type": "code",
   "execution_count": 43,
   "metadata": {},
   "outputs": [
    {
     "data": {
      "text/plain": [
       "array(['Rail', 'Bus', 'Tram, Streetcar, Light Rail', 'Cable Tram'],\n",
       "      dtype=object)"
      ]
     },
     "execution_count": 43,
     "metadata": {},
     "output_type": "execute_result"
    }
   ],
   "source": [
    "transit_stops_exist_sdf['route_ty_t'].unique()"
   ]
  },
  {
   "cell_type": "code",
   "execution_count": 44,
   "metadata": {},
   "outputs": [
    {
     "data": {
      "text/html": [
       "<div>\n",
       "<style scoped>\n",
       "    .dataframe tbody tr th:only-of-type {\n",
       "        vertical-align: middle;\n",
       "    }\n",
       "\n",
       "    .dataframe tbody tr th {\n",
       "        vertical-align: top;\n",
       "    }\n",
       "\n",
       "    .dataframe thead th {\n",
       "        text-align: right;\n",
       "    }\n",
       "</style>\n",
       "<table border=\"1\" class=\"dataframe\">\n",
       "  <thead>\n",
       "    <tr style=\"text-align: right;\">\n",
       "      <th></th>\n",
       "      <th>SHAPE</th>\n",
       "      <th>agency_id</th>\n",
       "      <th>agency_nm</th>\n",
       "      <th>hdwy_15min</th>\n",
       "      <th>hdwy_30min</th>\n",
       "      <th>hdwy_class</th>\n",
       "      <th>loc_type</th>\n",
       "      <th>major_stop</th>\n",
       "      <th>objectid</th>\n",
       "      <th>route_ty_t</th>\n",
       "      <th>route_type</th>\n",
       "      <th>stop_code</th>\n",
       "      <th>stop_desc</th>\n",
       "      <th>stop_id</th>\n",
       "      <th>stop_name</th>\n",
       "    </tr>\n",
       "  </thead>\n",
       "  <tbody>\n",
       "    <tr>\n",
       "      <th>902</th>\n",
       "      <td>{\"x\": -122.39980999999995, \"y\": 37.79330000000...</td>\n",
       "      <td>SF</td>\n",
       "      <td>San Francisco Municipal Transportation Agency</td>\n",
       "      <td>1</td>\n",
       "      <td>1</td>\n",
       "      <td>15 mins or less</td>\n",
       "      <td>0</td>\n",
       "      <td>0</td>\n",
       "      <td>903</td>\n",
       "      <td>Cable Tram</td>\n",
       "      <td>5.0</td>\n",
       "      <td>13849</td>\n",
       "      <td></td>\n",
       "      <td>13849</td>\n",
       "      <td>California St &amp; Battery St</td>\n",
       "    </tr>\n",
       "    <tr>\n",
       "      <th>904</th>\n",
       "      <td>{\"x\": -122.40009999999995, \"y\": 37.79313000000...</td>\n",
       "      <td>SF</td>\n",
       "      <td>San Francisco Municipal Transportation Agency</td>\n",
       "      <td>1</td>\n",
       "      <td>1</td>\n",
       "      <td>15 mins or less</td>\n",
       "      <td>0</td>\n",
       "      <td>0</td>\n",
       "      <td>905</td>\n",
       "      <td>Cable Tram</td>\n",
       "      <td>5.0</td>\n",
       "      <td>17444</td>\n",
       "      <td></td>\n",
       "      <td>17444</td>\n",
       "      <td>California St &amp; Battery St</td>\n",
       "    </tr>\n",
       "    <tr>\n",
       "      <th>907</th>\n",
       "      <td>{\"x\": -122.39679999999998, \"y\": 37.79353000000...</td>\n",
       "      <td>SF</td>\n",
       "      <td>San Francisco Municipal Transportation Agency</td>\n",
       "      <td>1</td>\n",
       "      <td>1</td>\n",
       "      <td>15 mins or less</td>\n",
       "      <td>0</td>\n",
       "      <td>0</td>\n",
       "      <td>908</td>\n",
       "      <td>Cable Tram</td>\n",
       "      <td>5.0</td>\n",
       "      <td>17294</td>\n",
       "      <td></td>\n",
       "      <td>17294</td>\n",
       "      <td>California St &amp; Davis St</td>\n",
       "    </tr>\n",
       "    <tr>\n",
       "      <th>908</th>\n",
       "      <td>{\"x\": -122.39745999999997, \"y\": 37.79359000000...</td>\n",
       "      <td>SF</td>\n",
       "      <td>San Francisco Municipal Transportation Agency</td>\n",
       "      <td>1</td>\n",
       "      <td>1</td>\n",
       "      <td>15 mins or less</td>\n",
       "      <td>0</td>\n",
       "      <td>0</td>\n",
       "      <td>909</td>\n",
       "      <td>Cable Tram</td>\n",
       "      <td>5.0</td>\n",
       "      <td>13855</td>\n",
       "      <td></td>\n",
       "      <td>13855</td>\n",
       "      <td>California St &amp; Davis St</td>\n",
       "    </tr>\n",
       "    <tr>\n",
       "      <th>909</th>\n",
       "      <td>{\"x\": -122.39774999999997, \"y\": 37.79342000000...</td>\n",
       "      <td>SF</td>\n",
       "      <td>San Francisco Municipal Transportation Agency</td>\n",
       "      <td>1</td>\n",
       "      <td>1</td>\n",
       "      <td>15 mins or less</td>\n",
       "      <td>0</td>\n",
       "      <td>0</td>\n",
       "      <td>910</td>\n",
       "      <td>Cable Tram</td>\n",
       "      <td>5.0</td>\n",
       "      <td>13857</td>\n",
       "      <td></td>\n",
       "      <td>13857</td>\n",
       "      <td>California St &amp; Davis St</td>\n",
       "    </tr>\n",
       "    <tr>\n",
       "      <th>...</th>\n",
       "      <td>...</td>\n",
       "      <td>...</td>\n",
       "      <td>...</td>\n",
       "      <td>...</td>\n",
       "      <td>...</td>\n",
       "      <td>...</td>\n",
       "      <td>...</td>\n",
       "      <td>...</td>\n",
       "      <td>...</td>\n",
       "      <td>...</td>\n",
       "      <td>...</td>\n",
       "      <td>...</td>\n",
       "      <td>...</td>\n",
       "      <td>...</td>\n",
       "      <td>...</td>\n",
       "    </tr>\n",
       "    <tr>\n",
       "      <th>3668</th>\n",
       "      <td>{\"x\": -122.41628999999995, \"y\": 37.79383000000...</td>\n",
       "      <td>SF</td>\n",
       "      <td>San Francisco Municipal Transportation Agency</td>\n",
       "      <td>1</td>\n",
       "      <td>1</td>\n",
       "      <td>15 mins or less</td>\n",
       "      <td>0</td>\n",
       "      <td>0</td>\n",
       "      <td>3669</td>\n",
       "      <td>Cable Tram</td>\n",
       "      <td>5.0</td>\n",
       "      <td>16922</td>\n",
       "      <td></td>\n",
       "      <td>16922</td>\n",
       "      <td>Washington St &amp; Leavenworth St</td>\n",
       "    </tr>\n",
       "    <tr>\n",
       "      <th>3669</th>\n",
       "      <td>{\"x\": -122.41135999999995, \"y\": 37.79453000000...</td>\n",
       "      <td>SF</td>\n",
       "      <td>San Francisco Municipal Transportation Agency</td>\n",
       "      <td>1</td>\n",
       "      <td>1</td>\n",
       "      <td>15 mins or less</td>\n",
       "      <td>0</td>\n",
       "      <td>1</td>\n",
       "      <td>3670</td>\n",
       "      <td>Cable Tram</td>\n",
       "      <td>5.0</td>\n",
       "      <td>16924</td>\n",
       "      <td></td>\n",
       "      <td>16924</td>\n",
       "      <td>Washington St &amp; Mason St</td>\n",
       "    </tr>\n",
       "    <tr>\n",
       "      <th>3670</th>\n",
       "      <td>{\"x\": -122.41152999999997, \"y\": 37.79444000000...</td>\n",
       "      <td>SF</td>\n",
       "      <td>San Francisco Municipal Transportation Agency</td>\n",
       "      <td>1</td>\n",
       "      <td>1</td>\n",
       "      <td>15 mins or less</td>\n",
       "      <td>0</td>\n",
       "      <td>0</td>\n",
       "      <td>3671</td>\n",
       "      <td>Cable Tram</td>\n",
       "      <td>5.0</td>\n",
       "      <td>16925</td>\n",
       "      <td></td>\n",
       "      <td>16925</td>\n",
       "      <td>Washington St &amp; Mason St</td>\n",
       "    </tr>\n",
       "    <tr>\n",
       "      <th>3672</th>\n",
       "      <td>{\"x\": -122.41003999999998, \"y\": 37.79463000000...</td>\n",
       "      <td>SF</td>\n",
       "      <td>San Francisco Municipal Transportation Agency</td>\n",
       "      <td>1</td>\n",
       "      <td>1</td>\n",
       "      <td>15 mins or less</td>\n",
       "      <td>0</td>\n",
       "      <td>1</td>\n",
       "      <td>3673</td>\n",
       "      <td>Cable Tram</td>\n",
       "      <td>5.0</td>\n",
       "      <td>16927</td>\n",
       "      <td></td>\n",
       "      <td>16927</td>\n",
       "      <td>Washington St &amp; Powell St</td>\n",
       "    </tr>\n",
       "    <tr>\n",
       "      <th>3674</th>\n",
       "      <td>{\"x\": -122.41300999999999, \"y\": 37.79425000000...</td>\n",
       "      <td>SF</td>\n",
       "      <td>San Francisco Municipal Transportation Agency</td>\n",
       "      <td>1</td>\n",
       "      <td>1</td>\n",
       "      <td>15 mins or less</td>\n",
       "      <td>0</td>\n",
       "      <td>0</td>\n",
       "      <td>3675</td>\n",
       "      <td>Cable Tram</td>\n",
       "      <td>5.0</td>\n",
       "      <td>16929</td>\n",
       "      <td></td>\n",
       "      <td>16929</td>\n",
       "      <td>Washington St &amp; Taylor St</td>\n",
       "    </tr>\n",
       "  </tbody>\n",
       "</table>\n",
       "<p>116 rows × 15 columns</p>\n",
       "</div>"
      ],
      "text/plain": [
       "                                                  SHAPE agency_id  \\\n",
       "902   {\"x\": -122.39980999999995, \"y\": 37.79330000000...        SF   \n",
       "904   {\"x\": -122.40009999999995, \"y\": 37.79313000000...        SF   \n",
       "907   {\"x\": -122.39679999999998, \"y\": 37.79353000000...        SF   \n",
       "908   {\"x\": -122.39745999999997, \"y\": 37.79359000000...        SF   \n",
       "909   {\"x\": -122.39774999999997, \"y\": 37.79342000000...        SF   \n",
       "...                                                 ...       ...   \n",
       "3668  {\"x\": -122.41628999999995, \"y\": 37.79383000000...        SF   \n",
       "3669  {\"x\": -122.41135999999995, \"y\": 37.79453000000...        SF   \n",
       "3670  {\"x\": -122.41152999999997, \"y\": 37.79444000000...        SF   \n",
       "3672  {\"x\": -122.41003999999998, \"y\": 37.79463000000...        SF   \n",
       "3674  {\"x\": -122.41300999999999, \"y\": 37.79425000000...        SF   \n",
       "\n",
       "                                          agency_nm  hdwy_15min  hdwy_30min  \\\n",
       "902   San Francisco Municipal Transportation Agency           1           1   \n",
       "904   San Francisco Municipal Transportation Agency           1           1   \n",
       "907   San Francisco Municipal Transportation Agency           1           1   \n",
       "908   San Francisco Municipal Transportation Agency           1           1   \n",
       "909   San Francisco Municipal Transportation Agency           1           1   \n",
       "...                                             ...         ...         ...   \n",
       "3668  San Francisco Municipal Transportation Agency           1           1   \n",
       "3669  San Francisco Municipal Transportation Agency           1           1   \n",
       "3670  San Francisco Municipal Transportation Agency           1           1   \n",
       "3672  San Francisco Municipal Transportation Agency           1           1   \n",
       "3674  San Francisco Municipal Transportation Agency           1           1   \n",
       "\n",
       "           hdwy_class loc_type  major_stop  objectid  route_ty_t  route_type  \\\n",
       "902   15 mins or less        0           0       903  Cable Tram         5.0   \n",
       "904   15 mins or less        0           0       905  Cable Tram         5.0   \n",
       "907   15 mins or less        0           0       908  Cable Tram         5.0   \n",
       "908   15 mins or less        0           0       909  Cable Tram         5.0   \n",
       "909   15 mins or less        0           0       910  Cable Tram         5.0   \n",
       "...               ...      ...         ...       ...         ...         ...   \n",
       "3668  15 mins or less        0           0      3669  Cable Tram         5.0   \n",
       "3669  15 mins or less        0           1      3670  Cable Tram         5.0   \n",
       "3670  15 mins or less        0           0      3671  Cable Tram         5.0   \n",
       "3672  15 mins or less        0           1      3673  Cable Tram         5.0   \n",
       "3674  15 mins or less        0           0      3675  Cable Tram         5.0   \n",
       "\n",
       "     stop_code stop_desc stop_id                       stop_name  \n",
       "902      13849             13849      California St & Battery St  \n",
       "904      17444             17444      California St & Battery St  \n",
       "907      17294             17294        California St & Davis St  \n",
       "908      13855             13855        California St & Davis St  \n",
       "909      13857             13857        California St & Davis St  \n",
       "...        ...       ...     ...                             ...  \n",
       "3668     16922             16922  Washington St & Leavenworth St  \n",
       "3669     16924             16924        Washington St & Mason St  \n",
       "3670     16925             16925        Washington St & Mason St  \n",
       "3672     16927             16927       Washington St & Powell St  \n",
       "3674     16929             16929       Washington St & Taylor St  \n",
       "\n",
       "[116 rows x 15 columns]"
      ]
     },
     "execution_count": 44,
     "metadata": {},
     "output_type": "execute_result"
    }
   ],
   "source": [
    "transit_stops_exist_sdf[transit_stops_exist_sdf['route_ty_t'] == 'Cable Tram']"
   ]
  },
  {
   "cell_type": "code",
   "execution_count": 45,
   "metadata": {},
   "outputs": [],
   "source": [
    "#Filter stops to include stops w/ types as well as stops with routes headways of 15 mins or less\n",
    "transit_stops_exist_sdf = transit_stops_exist_sdf[(transit_stops_exist_sdf['hdwy_15min'] == 1) & \n",
    "                                                  (transit_stops_exist_sdf['route_ty_t'].isin(['Rail', \n",
    "                                                                                              'Bus', \n",
    "                                                                                              'Tram, Streetcar, Light Rail',\n",
    "                                                                                              'Cable Tram',\n",
    "                                                                                              'Ferry']))]"
   ]
  },
  {
   "cell_type": "markdown",
   "metadata": {},
   "source": [
    "# Pull planned and potential stops from portal"
   ]
  },
  {
   "cell_type": "code",
   "execution_count": 57,
   "metadata": {},
   "outputs": [
    {
     "data": {
      "text/plain": [
       "[<Item title:\"Planned and Proposed Transit Stops (2020)\" type:Feature Layer Collection owner:msmith>,\n",
       " <Item title:\"Transit Stops - Planned and Potential (2020)\" type:Feature Layer Collection owner:msmith>]"
      ]
     },
     "execution_count": 57,
     "metadata": {},
     "output_type": "execute_result"
    }
   ],
   "source": [
    "#Search for planned transit stops\n",
    "search_results = gis.content.search('title: Planned and Potential',\n",
    "                  'Feature Layer')\n",
    "search_results"
   ]
  },
  {
   "cell_type": "code",
   "execution_count": 58,
   "metadata": {},
   "outputs": [
    {
     "data": {
      "text/html": [
       "<div class=\"item_container\" style=\"height: auto; overflow: hidden; border: 1px solid #cfcfcf; border-radius: 2px; background: #f6fafa; line-height: 1.21429em; padding: 10px;\">\n",
       "                    <div class=\"item_left\" style=\"width: 210px; float: left;\">\n",
       "                       <a href='https://arcgis.ad.mtc.ca.gov/portal//home/item.html?id=a03c696775fe4484b640a4dc237a7194' target='_blank'>\n",
       "                        <img src='data:image/png;base64,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' width='200' height='133' class=\"itemThumbnail\">\n",
       "                       </a>\n",
       "                    </div>\n",
       "\n",
       "                    <div class=\"item_right\"     style=\"float: none; width: auto; overflow: hidden;\">\n",
       "                        <a href='https://arcgis.ad.mtc.ca.gov/portal//home/item.html?id=a03c696775fe4484b640a4dc237a7194' target='_blank'><b>Planned and Proposed Transit Stops (2020)</b>\n",
       "                        </a>\n",
       "                        <br/>This layer contains planned or proposed transit stops for the San Francisco Bay Region.<img src='https://arcgis.ad.mtc.ca.gov/portal//home/js/jsapi/esri/css/images/item_type_icons/featureshosted16.png' style=\"vertical-align:middle;\">Feature Layer Collection by msmith\n",
       "                        <br/>Last Modified: June 19, 2020\n",
       "                        <br/>0 comments, 41 views\n",
       "                    </div>\n",
       "                </div>\n",
       "                "
      ],
      "text/plain": [
       "<Item title:\"Planned and Proposed Transit Stops (2020)\" type:Feature Layer Collection owner:msmith>"
      ]
     },
     "execution_count": 58,
     "metadata": {},
     "output_type": "execute_result"
    }
   ],
   "source": [
    "#Get item\n",
    "transit_stops_plan_item = search_results[0]\n",
    "transit_stops_plan_item"
   ]
  },
  {
   "cell_type": "code",
   "execution_count": 59,
   "metadata": {},
   "outputs": [
    {
     "data": {
      "text/plain": [
       "<FeatureLayer url:\"https://arcgis.ad.mtc.ca.gov/server/rest/services/Hosted/Planned_and_Proposed_Transit_Stops_2020/FeatureServer/0\">"
      ]
     },
     "execution_count": 59,
     "metadata": {},
     "output_type": "execute_result"
    }
   ],
   "source": [
    "#Get layer and create spatial DF\n",
    "transit_stops_plan_lyr = transit_stops_plan_item.layers[0]\n",
    "transit_stops_plan_lyr"
   ]
  },
  {
   "cell_type": "code",
   "execution_count": 63,
   "metadata": {},
   "outputs": [
    {
     "data": {
      "text/plain": [
       "{\n",
       "  \"supportsReturningQueryExtent\": true,\n",
       "  \"supportsStatistics\": true,\n",
       "  \"supportsDistinct\": true,\n",
       "  \"supportsPagination\": true,\n",
       "  \"supportsOrderBy\": true,\n",
       "  \"supportsQueryWithDistance\": true,\n",
       "  \"supportsLod\": false,\n",
       "  \"supportsPaginationOnAggregatedQueries\": true,\n",
       "  \"supportsQueryWithResultType\": true,\n",
       "  \"supportsCountDistinct\": true,\n",
       "  \"supportsReturningGeometryCentroid\": false,\n",
       "  \"supportsHavingClause\": true,\n",
       "  \"supportsQueryWithLodSR\": false,\n",
       "  \"supportsTopFeaturesQuery\": false,\n",
       "  \"supportsOrderByOnlyOnLayerFields\": false,\n",
       "  \"supportsPercentileStatistics\": true,\n",
       "  \"supportsQueryAttachments\": true,\n",
       "  \"supportsQueryAttachmentsWithReturnUrl\": true,\n",
       "  \"supportsQueryWithDatumTransformation\": true\n",
       "}"
      ]
     },
     "execution_count": 63,
     "metadata": {},
     "output_type": "execute_result"
    }
   ],
   "source": [
    "transit_stops_exist_lyr.properties.advancedQueryCapabilities"
   ]
  },
  {
   "cell_type": "code",
   "execution_count": 62,
   "metadata": {},
   "outputs": [
    {
     "data": {
      "text/plain": [
       "{\n",
       "  \"supportsReturningQueryExtent\": true,\n",
       "  \"supportsStatistics\": true,\n",
       "  \"supportsDistinct\": true,\n",
       "  \"supportsPagination\": true,\n",
       "  \"supportsOrderBy\": true,\n",
       "  \"supportsQueryWithDistance\": true,\n",
       "  \"supportsLod\": false,\n",
       "  \"supportsPaginationOnAggregatedQueries\": true,\n",
       "  \"supportsQueryWithResultType\": true,\n",
       "  \"supportsCountDistinct\": true,\n",
       "  \"supportsReturningGeometryCentroid\": false,\n",
       "  \"supportsHavingClause\": true,\n",
       "  \"supportsQueryWithLodSR\": false,\n",
       "  \"supportsTopFeaturesQuery\": false,\n",
       "  \"supportsOrderByOnlyOnLayerFields\": false,\n",
       "  \"supportsPercentileStatistics\": true,\n",
       "  \"supportsQueryAttachments\": true,\n",
       "  \"supportsQueryAttachmentsWithReturnUrl\": true,\n",
       "  \"supportsQueryWithDatumTransformation\": true\n",
       "}"
      ]
     },
     "execution_count": 62,
     "metadata": {},
     "output_type": "execute_result"
    }
   ],
   "source": [
    "transit_stops_plan_lyr.properties.advancedQueryCapabilities"
   ]
  },
  {
   "cell_type": "code",
   "execution_count": 61,
   "metadata": {},
   "outputs": [
    {
     "ename": "TypeError",
     "evalue": "unsupported operand type(s) for +: 'NoneType' and 'str'",
     "output_type": "error",
     "traceback": [
      "\u001b[0;31m---------------------------------------------------------------------------\u001b[0m",
      "\u001b[0;31mTypeError\u001b[0m                                 Traceback (most recent call last)",
      "\u001b[0;32m<ipython-input-61-fb07c62b00f4>\u001b[0m in \u001b[0;36m<module>\u001b[0;34m\u001b[0m\n\u001b[1;32m      1\u001b[0m \u001b[0;31m#Query entire layer and output spatial reference as NAD83 UTM Z 10N\u001b[0m\u001b[0;34m\u001b[0m\u001b[0;34m\u001b[0m\u001b[0;34m\u001b[0m\u001b[0m\n\u001b[0;32m----> 2\u001b[0;31m \u001b[0mtransit_stops_plan_lyr\u001b[0m\u001b[0;34m.\u001b[0m\u001b[0mquery\u001b[0m\u001b[0;34m(\u001b[0m\u001b[0mout_sr\u001b[0m\u001b[0;34m=\u001b[0m\u001b[0;34m'26910'\u001b[0m\u001b[0;34m)\u001b[0m\u001b[0;34m\u001b[0m\u001b[0;34m\u001b[0m\u001b[0m\n\u001b[0m",
      "\u001b[0;32m~/anaconda3/envs/geo_env/lib/python3.7/site-packages/arcgis/features/layer.py\u001b[0m in \u001b[0;36mquery\u001b[0;34m(self, where, out_fields, time_filter, geometry_filter, return_geometry, return_count_only, return_ids_only, return_distinct_values, return_extent_only, group_by_fields_for_statistics, statistic_filter, result_offset, result_record_count, object_ids, distance, units, max_allowable_offset, out_sr, geometry_precision, gdb_version, order_by_fields, out_statistics, return_z, return_m, multipatch_option, quantization_parameters, return_centroid, return_all_records, result_type, historic_moment, sql_format, return_true_curves, return_exceeded_limit_features, as_df, datum_transformation, **kwargs)\u001b[0m\n\u001b[1;32m   1115\u001b[0m                 \u001b[0;32mreturn\u001b[0m \u001b[0mdf\u001b[0m\u001b[0;34m\u001b[0m\u001b[0;34m\u001b[0m\u001b[0m\n\u001b[1;32m   1116\u001b[0m \u001b[0;34m\u001b[0m\u001b[0m\n\u001b[0;32m-> 1117\u001b[0;31m             \u001b[0;32mreturn\u001b[0m \u001b[0mself\u001b[0m\u001b[0;34m.\u001b[0m\u001b[0m_query\u001b[0m\u001b[0;34m(\u001b[0m\u001b[0murl\u001b[0m\u001b[0;34m,\u001b[0m \u001b[0mparams\u001b[0m\u001b[0;34m,\u001b[0m \u001b[0mraw\u001b[0m\u001b[0;34m=\u001b[0m\u001b[0mas_raw\u001b[0m\u001b[0;34m)\u001b[0m\u001b[0;34m\u001b[0m\u001b[0;34m\u001b[0m\u001b[0m\n\u001b[0m\u001b[1;32m   1118\u001b[0m \u001b[0;34m\u001b[0m\u001b[0m\n\u001b[1;32m   1119\u001b[0m         \u001b[0mresult\u001b[0m \u001b[0;34m=\u001b[0m \u001b[0;32mNone\u001b[0m\u001b[0;34m\u001b[0m\u001b[0;34m\u001b[0m\u001b[0m\n",
      "\u001b[0;32m~/anaconda3/envs/geo_env/lib/python3.7/site-packages/arcgis/features/layer.py\u001b[0m in \u001b[0;36m_query\u001b[0;34m(self, url, params, raw)\u001b[0m\n\u001b[1;32m   2046\u001b[0m \u001b[0;34m\u001b[0m\u001b[0m\n\u001b[1;32m   2047\u001b[0m             \u001b[0;32melse\u001b[0m\u001b[0;34m:\u001b[0m\u001b[0;34m\u001b[0m\u001b[0;34m\u001b[0m\u001b[0m\n\u001b[0;32m-> 2048\u001b[0;31m                 \u001b[0;32mraise\u001b[0m \u001b[0mqueryException\u001b[0m\u001b[0;34m\u001b[0m\u001b[0;34m\u001b[0m\u001b[0m\n\u001b[0m\u001b[1;32m   2049\u001b[0m \u001b[0;34m\u001b[0m\u001b[0m\n\u001b[1;32m   2050\u001b[0m         \u001b[0;32mdef\u001b[0m \u001b[0mis_true\u001b[0m\u001b[0;34m(\u001b[0m\u001b[0mx\u001b[0m\u001b[0;34m)\u001b[0m\u001b[0;34m:\u001b[0m\u001b[0;34m\u001b[0m\u001b[0;34m\u001b[0m\u001b[0m\n",
      "\u001b[0;32m~/anaconda3/envs/geo_env/lib/python3.7/site-packages/arcgis/features/layer.py\u001b[0m in \u001b[0;36m_query\u001b[0;34m(self, url, params, raw)\u001b[0m\n\u001b[1;32m   2016\u001b[0m         \u001b[0;32mtry\u001b[0m\u001b[0;34m:\u001b[0m\u001b[0;34m\u001b[0m\u001b[0;34m\u001b[0m\u001b[0m\n\u001b[1;32m   2017\u001b[0m             result = self._con.post(path=url,\n\u001b[0;32m-> 2018\u001b[0;31m                                     postdata=params, token=self._token)\n\u001b[0m\u001b[1;32m   2019\u001b[0m         \u001b[0;32mexcept\u001b[0m \u001b[0mException\u001b[0m \u001b[0;32mas\u001b[0m \u001b[0mqueryException\u001b[0m\u001b[0;34m:\u001b[0m\u001b[0;34m\u001b[0m\u001b[0;34m\u001b[0m\u001b[0m\n\u001b[1;32m   2020\u001b[0m             \u001b[0merror_list\u001b[0m \u001b[0;34m=\u001b[0m \u001b[0;34m[\u001b[0m\u001b[0;34m\"Error performing query operation\"\u001b[0m\u001b[0;34m,\u001b[0m \u001b[0;34m\"HTTP Error 504: GATEWAY_TIMEOUT\"\u001b[0m\u001b[0;34m]\u001b[0m\u001b[0;34m\u001b[0m\u001b[0;34m\u001b[0m\u001b[0m\n",
      "\u001b[0;32m~/anaconda3/envs/geo_env/lib/python3.7/site-packages/arcgis/gis/_impl/_con/_connection.py\u001b[0m in \u001b[0;36mpost\u001b[0;34m(self, path, params, files, **kwargs)\u001b[0m\n\u001b[1;32m    708\u001b[0m                                      \u001b[0mfile_name\u001b[0m\u001b[0;34m=\u001b[0m\u001b[0mfile_name\u001b[0m\u001b[0;34m,\u001b[0m\u001b[0;34m\u001b[0m\u001b[0;34m\u001b[0m\u001b[0m\n\u001b[1;32m    709\u001b[0m                                      \u001b[0mtry_json\u001b[0m\u001b[0;34m=\u001b[0m\u001b[0mtry_json\u001b[0m\u001b[0;34m,\u001b[0m\u001b[0;34m\u001b[0m\u001b[0;34m\u001b[0m\u001b[0m\n\u001b[0;32m--> 710\u001b[0;31m                                      force_bytes=kwargs.pop('force_bytes', False))\n\u001b[0m\u001b[1;32m    711\u001b[0m     \u001b[0;31m#----------------------------------------------------------------------\u001b[0m\u001b[0;34m\u001b[0m\u001b[0;34m\u001b[0m\u001b[0;34m\u001b[0m\u001b[0m\n\u001b[1;32m    712\u001b[0m     \u001b[0;32mdef\u001b[0m \u001b[0mput\u001b[0m\u001b[0;34m(\u001b[0m\u001b[0mself\u001b[0m\u001b[0;34m,\u001b[0m \u001b[0murl\u001b[0m\u001b[0;34m,\u001b[0m \u001b[0mparams\u001b[0m\u001b[0;34m=\u001b[0m\u001b[0;32mNone\u001b[0m\u001b[0;34m,\u001b[0m \u001b[0mfiles\u001b[0m\u001b[0;34m=\u001b[0m\u001b[0;32mNone\u001b[0m\u001b[0;34m,\u001b[0m \u001b[0;34m**\u001b[0m\u001b[0mkwargs\u001b[0m\u001b[0;34m)\u001b[0m\u001b[0;34m:\u001b[0m\u001b[0;34m\u001b[0m\u001b[0;34m\u001b[0m\u001b[0m\n",
      "\u001b[0;32m~/anaconda3/envs/geo_env/lib/python3.7/site-packages/arcgis/gis/_impl/_con/_connection.py\u001b[0m in \u001b[0;36m_handle_response\u001b[0;34m(self, resp, file_name, out_path, try_json, force_bytes)\u001b[0m\n\u001b[1;32m    503\u001b[0m             \u001b[0;32mif\u001b[0m \u001b[0;34m'error'\u001b[0m \u001b[0;32min\u001b[0m \u001b[0mdata\u001b[0m\u001b[0;34m:\u001b[0m\u001b[0;34m\u001b[0m\u001b[0;34m\u001b[0m\u001b[0m\n\u001b[1;32m    504\u001b[0m                 \u001b[0merrorcode\u001b[0m \u001b[0;34m=\u001b[0m \u001b[0mdata\u001b[0m\u001b[0;34m[\u001b[0m\u001b[0;34m'error'\u001b[0m\u001b[0;34m]\u001b[0m\u001b[0;34m[\u001b[0m\u001b[0;34m'code'\u001b[0m\u001b[0;34m]\u001b[0m \u001b[0;32mif\u001b[0m \u001b[0;34m'code'\u001b[0m \u001b[0;32min\u001b[0m \u001b[0mdata\u001b[0m\u001b[0;34m[\u001b[0m\u001b[0;34m'error'\u001b[0m\u001b[0;34m]\u001b[0m \u001b[0;32melse\u001b[0m \u001b[0;36m0\u001b[0m\u001b[0;34m\u001b[0m\u001b[0;34m\u001b[0m\u001b[0m\n\u001b[0;32m--> 505\u001b[0;31m                 \u001b[0mself\u001b[0m\u001b[0;34m.\u001b[0m\u001b[0m_handle_json_error\u001b[0m\u001b[0;34m(\u001b[0m\u001b[0mdata\u001b[0m\u001b[0;34m[\u001b[0m\u001b[0;34m'error'\u001b[0m\u001b[0;34m]\u001b[0m\u001b[0;34m,\u001b[0m \u001b[0merrorcode\u001b[0m\u001b[0;34m)\u001b[0m\u001b[0;34m\u001b[0m\u001b[0;34m\u001b[0m\u001b[0m\n\u001b[0m\u001b[1;32m    506\u001b[0m             \u001b[0;32mreturn\u001b[0m \u001b[0mdata\u001b[0m\u001b[0;34m\u001b[0m\u001b[0;34m\u001b[0m\u001b[0m\n\u001b[1;32m    507\u001b[0m         \u001b[0;32melse\u001b[0m\u001b[0;34m:\u001b[0m\u001b[0;34m\u001b[0m\u001b[0;34m\u001b[0m\u001b[0m\n",
      "\u001b[0;32m~/anaconda3/envs/geo_env/lib/python3.7/site-packages/arcgis/gis/_impl/_con/_connection.py\u001b[0m in \u001b[0;36m_handle_json_error\u001b[0;34m(self, error, errorcode)\u001b[0m\n\u001b[1;32m    520\u001b[0m                     \u001b[0;31m#_log.error(errordetail)\u001b[0m\u001b[0;34m\u001b[0m\u001b[0;34m\u001b[0m\u001b[0;34m\u001b[0m\u001b[0m\n\u001b[1;32m    521\u001b[0m \u001b[0;34m\u001b[0m\u001b[0m\n\u001b[0;32m--> 522\u001b[0;31m         \u001b[0merrormessage\u001b[0m \u001b[0;34m=\u001b[0m \u001b[0merrormessage\u001b[0m \u001b[0;34m+\u001b[0m \u001b[0;34m\"\\n(Error Code: \"\u001b[0m \u001b[0;34m+\u001b[0m \u001b[0mstr\u001b[0m\u001b[0;34m(\u001b[0m\u001b[0merrorcode\u001b[0m\u001b[0;34m)\u001b[0m \u001b[0;34m+\u001b[0m\u001b[0;34m\")\"\u001b[0m\u001b[0;34m\u001b[0m\u001b[0;34m\u001b[0m\u001b[0m\n\u001b[0m\u001b[1;32m    523\u001b[0m         \u001b[0;32mraise\u001b[0m \u001b[0mException\u001b[0m\u001b[0;34m(\u001b[0m\u001b[0merrormessage\u001b[0m\u001b[0;34m)\u001b[0m\u001b[0;34m\u001b[0m\u001b[0;34m\u001b[0m\u001b[0m\n\u001b[1;32m    524\u001b[0m     \u001b[0;31m#----------------------------------------------------------------------\u001b[0m\u001b[0;34m\u001b[0m\u001b[0;34m\u001b[0m\u001b[0;34m\u001b[0m\u001b[0m\n",
      "\u001b[0;31mTypeError\u001b[0m: unsupported operand type(s) for +: 'NoneType' and 'str'"
     ]
    }
   ],
   "source": [
    "#Query entire layer and output spatial reference as NAD83 UTM Z 10N\n",
    "transit_stops_plan_lyr.query(out_sr='26910')"
   ]
  },
  {
   "cell_type": "code",
   "execution_count": null,
   "metadata": {},
   "outputs": [],
   "source": []
  }
 ],
 "metadata": {
  "kernelspec": {
   "display_name": "Python 3",
   "language": "python",
   "name": "python3"
  },
  "language_info": {
   "codemirror_mode": {
    "name": "ipython",
    "version": 3
   },
   "file_extension": ".py",
   "mimetype": "text/x-python",
   "name": "python",
   "nbconvert_exporter": "python",
   "pygments_lexer": "ipython3",
   "version": "3.7.7"
  }
 },
 "nbformat": 4,
 "nbformat_minor": 4
}
