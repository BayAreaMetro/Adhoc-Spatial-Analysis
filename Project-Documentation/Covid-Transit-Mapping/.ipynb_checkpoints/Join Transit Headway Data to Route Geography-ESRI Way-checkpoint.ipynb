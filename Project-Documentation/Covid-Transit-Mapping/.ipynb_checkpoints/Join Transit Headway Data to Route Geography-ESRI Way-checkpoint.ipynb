{
 "cells": [
  {
   "cell_type": "code",
   "execution_count": 1,
   "metadata": {},
   "outputs": [],
   "source": [
    "import os\n",
    "import sys\n",
    "import pandas as pd, geopandas as gp, matplotlib.pyplot as plt, numpy as np\n",
    "import json\n",
    "import fiona\n",
    "from arcgis.gis import GIS\n",
    "from arcgis.features import GeoAccessor, GeoSeriesAccessor"
   ]
  },
  {
   "cell_type": "markdown",
   "metadata": {},
   "source": [
    "### Path to project directory\n",
    "\n",
    "[COVID-19 Transit Mapping for Blue Ribbon Task For Box Directory](https://mtcdrive.box.com/s/1xsylbgcyad7i5pmpe6vqzt0vfnvue5h)"
   ]
  },
  {
   "cell_type": "code",
   "execution_count": 2,
   "metadata": {},
   "outputs": [],
   "source": [
    "box_data_dir = '../../../../../Box/DataViz Projects/Spatial Analysis and Mapping/COVID-19 Transit Mapping for Blue Ribbon Task Force/Data/Databases'"
   ]
  },
  {
   "cell_type": "markdown",
   "metadata": {},
   "source": [
    "### Read ArcGIS Online password from txt file"
   ]
  },
  {
   "cell_type": "code",
   "execution_count": 3,
   "metadata": {},
   "outputs": [],
   "source": [
    "def get_file_contents(filename):\n",
    "    \"\"\" Given a filename,\n",
    "        return the contents of that file\n",
    "    \"\"\"\n",
    "    try:\n",
    "        with open(filename, 'r') as f:\n",
    "            # It's assumed our file contains a single line,\n",
    "            # with our API key\n",
    "            return f.read().strip()\n",
    "    except FileNotFoundError:\n",
    "        print(\"'%s' file not found\" % filename)"
   ]
  },
  {
   "cell_type": "code",
   "execution_count": 4,
   "metadata": {},
   "outputs": [
    {
     "name": "stdout",
     "output_type": "stream",
     "text": [
      "\u001b[34mData\u001b[m\u001b[m\r\n",
      "Join Transit Headway Data to Route Geography-ESRI Way.ipynb\r\n",
      "Join Transit Headway Data to Route Geography.ipynb\r\n",
      "README.md\r\n",
      "\u001b[34mScripts\u001b[m\u001b[m\r\n",
      "Write RTD to CSV.ipynb\r\n",
      "agolpassword.txt\r\n"
     ]
    }
   ],
   "source": [
    "!ls"
   ]
  },
  {
   "cell_type": "code",
   "execution_count": 5,
   "metadata": {},
   "outputs": [],
   "source": [
    "pass_txt = 'agolpassword.txt'\n",
    "password = get_file_contents(pass_txt)"
   ]
  },
  {
   "cell_type": "markdown",
   "metadata": {},
   "source": [
    "### Conect to ArcGIS Online"
   ]
  },
  {
   "cell_type": "code",
   "execution_count": 6,
   "metadata": {},
   "outputs": [],
   "source": [
    "gis = GIS(\"https://www.arcgis.com\", \"content_MTC\", password)"
   ]
  },
  {
   "cell_type": "markdown",
   "metadata": {},
   "source": [
    "### Test connection by returning user content"
   ]
  },
  {
   "cell_type": "code",
   "execution_count": 7,
   "metadata": {},
   "outputs": [
    {
     "data": {
      "text/plain": [
       "[<Item title:\"Major Rail Stations\" type:Feature Layer Collection owner:content_MTC>,\n",
       " <Item title:\"emp_chg_per_acre_1_8_mile_10_cart\" type:Feature Layer Collection owner:content_MTC>,\n",
       " <Item title:\"Sonoma County Opportunity Sites (2018)\" type:Feature Layer Collection owner:content_MTC>,\n",
       " <Item title:\"Bay Area Ethnic Minority Concentration Tracts 2016 ACS 5 Year Estimates (May 2018)\" type:Feature Layer Collection owner:content_MTC>,\n",
       " <Item title:\"CalEPA CalEnviroScreen 3.0 (2017)\" type:Feature Layer Collection owner:content_MTC>,\n",
       " <Item title:\"Change_in_Jobs_per_Acre_2010_2040___1_4_Milre\" type:Feature Layer Collection owner:content_MTC>,\n",
       " <Item title:\"RTD_SF_SC_AC_Source_Geoms_Draft1\" type:Feature Layer Collection owner:content_MTC>,\n",
       " <Item title:\"CTCAC HCD Opportunity Areas (2017) - FMMP Built-Up Land\" type:Feature Layer Collection owner:content_MTC>,\n",
       " <Item title:\"Public_Lands_Suitable_For_Housing_Development_2018_WFL1\" type:Feature Layer Collection owner:content_MTC>,\n",
       " <Item title:\"Draft_High_Frequency_Bus_Rtoues_RTD2017\" type:Feature Layer Collection owner:content_MTC>,\n",
       " <Item title:\"pda_2015_businesses_employment_2016\" type:Feature Layer Collection owner:content_MTC>,\n",
       " <Item title:\"2019 TIP Investment Analysis Polygons\" type:Feature Layer Collection owner:content_MTC>,\n",
       " <Item title:\"D_Fire_Hazards (Draft)\" type:Feature Layer Collection owner:content_MTC>,\n",
       " <Item title:\"BCDC ART Indicators (2017)\" type:Feature Layer Collection owner:content_MTC>,\n",
       " <Item title:\"CAL FIRE - Historic Wildfire Perimeters (1950-2014)\" type:Feature Layer Collection owner:content_MTC>]"
      ]
     },
     "execution_count": 7,
     "metadata": {},
     "output_type": "execute_result"
    }
   ],
   "source": [
    "my_content = gis.content.search(query=\"owner:\" + gis.users.me.username, \n",
    "                                item_type=\"Feature Layer\", \n",
    "                                max_items=15)\n",
    "\n",
    "my_content"
   ]
  },
  {
   "cell_type": "markdown",
   "metadata": {},
   "source": [
    "### List ESRI transit analysis geodatabase contents"
   ]
  },
  {
   "cell_type": "code",
   "execution_count": 8,
   "metadata": {},
   "outputs": [
    {
     "data": {
      "text/plain": [
       "'../../../../../Box/DataViz Projects/Spatial Analysis and Mapping/COVID-19 Transit Mapping for Blue Ribbon Task Force/Data/Databases'"
      ]
     },
     "execution_count": 8,
     "metadata": {},
     "output_type": "execute_result"
    }
   ],
   "source": [
    "box_data_dir"
   ]
  },
  {
   "cell_type": "code",
   "execution_count": 9,
   "metadata": {},
   "outputs": [
    {
     "name": "stdout",
     "output_type": "stream",
     "text": [
      "\u001b[34mCSV_results\u001b[m\u001b[m                   \u001b[34mRegional Transit Database.gdb\u001b[m\u001b[m\r\n",
      "\u001b[34mKearey_June2020_CSV_Results\u001b[m\u001b[m\r\n"
     ]
    }
   ],
   "source": [
    "!ls '../../../../../Box/DataViz Projects/Spatial Analysis and Mapping/COVID-19 Transit Mapping for Blue Ribbon Task Force/Data/Databases'"
   ]
  },
  {
   "cell_type": "code",
   "execution_count": 10,
   "metadata": {},
   "outputs": [
    {
     "data": {
      "text/plain": [
       "['mn_nw',\n",
       " 'mn_jc',\n",
       " 'RG_Stops',\n",
       " 'RG_Routes',\n",
       " 'RV_Routes',\n",
       " 'RV_Stops',\n",
       " 'SA_Routes',\n",
       " 'SA_Stops',\n",
       " 'SB_Routes',\n",
       " 'SB_Stops',\n",
       " 'SC_Routes',\n",
       " 'SC_Stops',\n",
       " 'SF_Routes',\n",
       " 'SF_Stops',\n",
       " 'SI_Routes',\n",
       " 'SI_Stops',\n",
       " 'SM_Routes',\n",
       " 'SM_Stops',\n",
       " 'SO_Routes',\n",
       " 'SO_Stops',\n",
       " 'SR_Routes',\n",
       " 'SR_Stops',\n",
       " 'SS_Routes',\n",
       " 'SS_Stops',\n",
       " 'ST_Routes',\n",
       " 'ST_Stops',\n",
       " 'TD_Routes',\n",
       " 'TD_Stops',\n",
       " 'TriDelta_Routes',\n",
       " 'TriDelta_Stops',\n",
       " 'UC_Routes',\n",
       " 'UC_Stops',\n",
       " 'VC_Routes',\n",
       " 'VC_Stops',\n",
       " 'VN_Routes',\n",
       " 'VN_Stops',\n",
       " 'WC_Routes',\n",
       " 'WC_Stops',\n",
       " 'WH_Routes',\n",
       " 'WH_Stops',\n",
       " 'PE_Stops',\n",
       " 'AC_Routes',\n",
       " 'AC_Stops',\n",
       " 'AM_Routes',\n",
       " 'AM_Stops',\n",
       " 'BA_Routes',\n",
       " 'BA_Stops',\n",
       " 'CC_Routes',\n",
       " 'CC_Stops',\n",
       " 'CE_Routes',\n",
       " 'CE_Stops',\n",
       " 'CM_Routes',\n",
       " 'CM_Stops',\n",
       " 'CT_Routes',\n",
       " 'CT_Stops',\n",
       " 'DE_Routes',\n",
       " 'DE_Stops',\n",
       " 'EM_Routes',\n",
       " 'EM_Stops',\n",
       " 'FS_Routes',\n",
       " 'FS_Stops',\n",
       " 'GF_Routes',\n",
       " 'GF_Stops',\n",
       " 'GG_Routes',\n",
       " 'GG_Stops',\n",
       " 'MA_Routes',\n",
       " 'MA_Stops',\n",
       " 'PE_Routes',\n",
       " 'route_shape_repaired_6_22_20',\n",
       " 'weekday_all_day_route_frequency_6_30_20',\n",
       " 'weekday_am_route_frequency_6_30_20',\n",
       " 'weekday_pm_route_frequency_6_30_20']"
      ]
     },
     "execution_count": 10,
     "metadata": {},
     "output_type": "execute_result"
    }
   ],
   "source": [
    "fiona.listlayers(os.path.join(box_data_dir,'Regional Transit Database.gdb'))"
   ]
  },
  {
   "cell_type": "markdown",
   "metadata": {},
   "source": [
    "### Read pretty transit route data from ESRI geodatabase\n",
    "\n",
    "ACE train route was replaced with correct shape which was provided in the historical feed from January. Route shapes were generated previously using ESRI GTFS tools."
   ]
  },
  {
   "cell_type": "code",
   "execution_count": 12,
   "metadata": {},
   "outputs": [
    {
     "data": {
      "text/plain": [
       "'../../../../../Box/DataViz Projects/Spatial Analysis and Mapping/COVID-19 Transit Mapping for Blue Ribbon Task Force/Data/Databases'"
      ]
     },
     "execution_count": 12,
     "metadata": {},
     "output_type": "execute_result"
    }
   ],
   "source": [
    "box_data_dir"
   ]
  },
  {
   "cell_type": "code",
   "execution_count": 13,
   "metadata": {},
   "outputs": [],
   "source": [
    "pretty_routes = pd.DataFrame.spatial.from_featureclass(os.path.join(box_data_dir,'Regional Transit Database.gdb/route_shape_repaired_6_22_20'))"
   ]
  },
  {
   "cell_type": "code",
   "execution_count": 15,
   "metadata": {},
   "outputs": [
    {
     "data": {
      "application/vnd.jupyter.widget-view+json": {
       "model_id": "91c18609af06454aa30bca96182d0bac",
       "version_major": 2,
       "version_minor": 0
      },
      "text/plain": [
       "MapView(layout=Layout(height='400px', width='100%'))"
      ]
     },
     "metadata": {},
     "output_type": "display_data"
    },
    {
     "data": {
      "text/html": [
       "<div class=\"map-static-img-preview-98030416-7ef3-4c1c-a2ae-3cb789f039bc\"><img src=\"\"></img></div>"
      ],
      "text/plain": [
       "<IPython.core.display.HTML object>"
      ]
     },
     "metadata": {},
     "output_type": "display_data"
    }
   ],
   "source": [
    "pretty_routes.spatial.plot()"
   ]
  },
  {
   "cell_type": "code",
   "execution_count": 24,
   "metadata": {},
   "outputs": [
    {
     "data": {
      "text/plain": [
       "{'init': 'epsg:4326'}"
      ]
     },
     "execution_count": 24,
     "metadata": {},
     "output_type": "execute_result"
    }
   ],
   "source": [
    "pretty_routes.crs"
   ]
  },
  {
   "cell_type": "code",
   "execution_count": 25,
   "metadata": {},
   "outputs": [
    {
     "name": "stdout",
     "output_type": "stream",
     "text": [
      "<class 'geopandas.geodataframe.GeoDataFrame'>\n",
      "RangeIndex: 3069 entries, 0 to 3068\n",
      "Data columns (total 15 columns):\n",
      " #   Column            Non-Null Count  Dtype   \n",
      "---  ------            --------------  -----   \n",
      " 0   shape_id          3068 non-null   object  \n",
      " 1   route_id          1500 non-null   object  \n",
      " 2   agency_id         1500 non-null   object  \n",
      " 3   route_short_name  1499 non-null   object  \n",
      " 4   route_long_name   1486 non-null   object  \n",
      " 5   route_desc        159 non-null    object  \n",
      " 6   route_type        1499 non-null   object  \n",
      " 7   route_url         929 non-null    object  \n",
      " 8   route_color       1270 non-null   object  \n",
      " 9   route_text_color  1139 non-null   object  \n",
      " 10  route_sort_order  1499 non-null   object  \n",
      " 11  route_type_text   1500 non-null   object  \n",
      " 12  agency_name       1500 non-null   object  \n",
      " 13  Shape_Length      3069 non-null   float64 \n",
      " 14  geometry          3057 non-null   geometry\n",
      "dtypes: float64(1), geometry(1), object(13)\n",
      "memory usage: 359.8+ KB\n"
     ]
    }
   ],
   "source": [
    "pretty_routes.info()"
   ]
  },
  {
   "cell_type": "markdown",
   "metadata": {},
   "source": [
    "### Filter out SFO airport shuttle"
   ]
  },
  {
   "cell_type": "code",
   "execution_count": 26,
   "metadata": {},
   "outputs": [
    {
     "data": {
      "text/plain": [
       "array(['Tri Delta Transit', 'AC Transit', None,\n",
       "       'Capitol Corridor Joint Powers Authority',\n",
       "       'Bay Area Rapid Transit', 'County Connection',\n",
       "       'Commute.org Shuttles', 'Caltrain', 'Dumbarton Express Consortium',\n",
       "       'Emery Go-Round', 'Fairfield and Suisun Transit',\n",
       "       'Golden Gate Ferry', 'Golden Gate Transit', 'Marin Transit',\n",
       "       'Petaluma Transit', 'Rio Vista Delta Breeze',\n",
       "       'Sonoma Marin Area Rail Transit', 'San Francisco Bay Ferry', 'VTA',\n",
       "       'San Francisco Municipal Transportation Agency',\n",
       "       'San Francisco International Airport', 'SamTrans',\n",
       "       'Sonoma County Transit', 'Santa Rosa CityBus',\n",
       "       'City of South San Francisco', 'SolTrans', 'Tideline Water Taxi',\n",
       "       'Union City Transit', 'Vacaville City Coach', 'VINE Transit',\n",
       "       'WestCat (Western Contra Costa)',\n",
       "       'Livermore Amador Valley Transit Authority',\n",
       "       'Altamont Corridor Express'], dtype=object)"
      ]
     },
     "execution_count": 26,
     "metadata": {},
     "output_type": "execute_result"
    }
   ],
   "source": [
    "pretty_routes['agency_name'].unique()"
   ]
  },
  {
   "cell_type": "code",
   "execution_count": 27,
   "metadata": {},
   "outputs": [],
   "source": [
    "pretty_routes = pretty_routes[pretty_routes['agency_name'] != 'San Francisco International Airport']"
   ]
  },
  {
   "cell_type": "markdown",
   "metadata": {},
   "source": [
    "### Join routes with headway csvs for the following transit service time periods January 2020:\n",
    "\n",
    "- AM Peak (6:00-10:00AM)\n",
    "- Midday (10:00AM-3:00PM)\n",
    "- PM Peak (3:00-7:00PM)\n",
    "- Latenight (7:00PM-6:00AM)"
   ]
  },
  {
   "cell_type": "code",
   "execution_count": 18,
   "metadata": {},
   "outputs": [
    {
     "name": "stdout",
     "output_type": "stream",
     "text": [
      "\u001b[34m2020-01\u001b[m\u001b[m \u001b[34m2020-06\u001b[m\u001b[m\r\n"
     ]
    }
   ],
   "source": [
    "!ls '../../../../../Box/DataViz Projects/Spatial Analysis and Mapping/COVID-19 Transit Mapping for Blue Ribbon Task Force/Data/Databases/CSV_results'"
   ]
  },
  {
   "cell_type": "code",
   "execution_count": 28,
   "metadata": {},
   "outputs": [
    {
     "data": {
      "text/plain": [
       "'../../../../../Box/DataViz Projects/Spatial Analysis and Mapping/COVID-19 Transit Mapping for Blue Ribbon Task Force/Data/Databases'"
      ]
     },
     "execution_count": 28,
     "metadata": {},
     "output_type": "execute_result"
    }
   ],
   "source": [
    "box_data_dir"
   ]
  },
  {
   "cell_type": "code",
   "execution_count": 29,
   "metadata": {},
   "outputs": [],
   "source": [
    "# Read January CSVs to dataframe\n",
    "\n",
    "jan_all_day = pd.read_csv(os.path.join(box_data_dir,'CSV_results/2020-01/all_6am_6am_blue_ribbon_calcs.csv'))\n",
    "jan_am_peak = pd.read_csv(os.path.join(box_data_dir,'CSV_results/2020-01/am_blue_ribbon_calcs.csv'))\n",
    "jan_mid_day = pd.read_csv(os.path.join(box_data_dir,'CSV_results/2020-01/mid_blue_ribbon_calcs.csv'))\n",
    "jan_pm_peak = pd.read_csv(os.path.join(box_data_dir,'CSV_results/2020-01/pm_blue_ribbon_calcs.csv'))\n",
    "jan_late_day = pd.read_csv(os.path.join(box_data_dir,'CSV_results/2020-01/late_blue_ribbon_calcs.csv'))"
   ]
  },
  {
   "cell_type": "code",
   "execution_count": 30,
   "metadata": {},
   "outputs": [
    {
     "name": "stdout",
     "output_type": "stream",
     "text": [
      "<class 'pandas.core.frame.DataFrame'>\n",
      "RangeIndex: 359 entries, 0 to 358\n",
      "Data columns (total 13 columns):\n",
      " #   Column            Non-Null Count  Dtype  \n",
      "---  ------            --------------  -----  \n",
      " 0   agency_id         359 non-null    object \n",
      " 1   agency_name       359 non-null    object \n",
      " 2   route_id          359 non-null    object \n",
      " 3   route_short_name  359 non-null    object \n",
      " 4   route_long_name   359 non-null    object \n",
      " 5   route_type        359 non-null    int64  \n",
      " 6   route_url         359 non-null    object \n",
      " 7   total_departures  359 non-null    int64  \n",
      " 8   median_headways   359 non-null    float64\n",
      " 9   mean_headways     359 non-null    float64\n",
      " 10  st_dev_headways   333 non-null    float64\n",
      " 11  stop_count        359 non-null    int64  \n",
      " 12  service_class     359 non-null    object \n",
      "dtypes: float64(3), int64(3), object(7)\n",
      "memory usage: 36.6+ KB\n"
     ]
    }
   ],
   "source": [
    "jan_all_day.info()"
   ]
  },
  {
   "cell_type": "code",
   "execution_count": 31,
   "metadata": {},
   "outputs": [
    {
     "data": {
      "text/html": [
       "<div>\n",
       "<style scoped>\n",
       "    .dataframe tbody tr th:only-of-type {\n",
       "        vertical-align: middle;\n",
       "    }\n",
       "\n",
       "    .dataframe tbody tr th {\n",
       "        vertical-align: top;\n",
       "    }\n",
       "\n",
       "    .dataframe thead th {\n",
       "        text-align: right;\n",
       "    }\n",
       "</style>\n",
       "<table border=\"1\" class=\"dataframe\">\n",
       "  <thead>\n",
       "    <tr style=\"text-align: right;\">\n",
       "      <th></th>\n",
       "      <th>agency_id</th>\n",
       "      <th>agency_name</th>\n",
       "      <th>route_id</th>\n",
       "      <th>route_short_name</th>\n",
       "      <th>route_long_name</th>\n",
       "      <th>route_type</th>\n",
       "      <th>route_url</th>\n",
       "      <th>total_departures</th>\n",
       "      <th>median_headways</th>\n",
       "      <th>mean_headways</th>\n",
       "      <th>st_dev_headways</th>\n",
       "      <th>stop_count</th>\n",
       "      <th>service_class</th>\n",
       "    </tr>\n",
       "  </thead>\n",
       "  <tbody>\n",
       "    <tr>\n",
       "      <th>0</th>\n",
       "      <td>SF</td>\n",
       "      <td>San Francisco Municipal Transportation Agency</td>\n",
       "      <td>SF:1</td>\n",
       "      <td>1</td>\n",
       "      <td>CALIFORNIA</td>\n",
       "      <td>3</td>\n",
       "      <td>https://SFMTA.com/1</td>\n",
       "      <td>10331</td>\n",
       "      <td>27.0</td>\n",
       "      <td>41.0</td>\n",
       "      <td>45.0</td>\n",
       "      <td>94</td>\n",
       "      <td>31 mins or more</td>\n",
       "    </tr>\n",
       "    <tr>\n",
       "      <th>1</th>\n",
       "      <td>SF</td>\n",
       "      <td>San Francisco Municipal Transportation Agency</td>\n",
       "      <td>SF:10</td>\n",
       "      <td>10</td>\n",
       "      <td>TOWNSEND</td>\n",
       "      <td>3</td>\n",
       "      <td>https://SFMTA.com/10</td>\n",
       "      <td>1764</td>\n",
       "      <td>72.0</td>\n",
       "      <td>83.0</td>\n",
       "      <td>84.0</td>\n",
       "      <td>124</td>\n",
       "      <td>31 mins or more</td>\n",
       "    </tr>\n",
       "    <tr>\n",
       "      <th>2</th>\n",
       "      <td>SF</td>\n",
       "      <td>San Francisco Municipal Transportation Agency</td>\n",
       "      <td>SF:12</td>\n",
       "      <td>12</td>\n",
       "      <td>FOLSOM-PACIFIC</td>\n",
       "      <td>3</td>\n",
       "      <td>https://SFMTA.com/12</td>\n",
       "      <td>921</td>\n",
       "      <td>70.0</td>\n",
       "      <td>84.0</td>\n",
       "      <td>65.0</td>\n",
       "      <td>85</td>\n",
       "      <td>31 mins or more</td>\n",
       "    </tr>\n",
       "    <tr>\n",
       "      <th>3</th>\n",
       "      <td>SF</td>\n",
       "      <td>San Francisco Municipal Transportation Agency</td>\n",
       "      <td>SF:14</td>\n",
       "      <td>14</td>\n",
       "      <td>MISSION</td>\n",
       "      <td>3</td>\n",
       "      <td>https://SFMTA.com/14</td>\n",
       "      <td>2784</td>\n",
       "      <td>37.0</td>\n",
       "      <td>51.0</td>\n",
       "      <td>49.0</td>\n",
       "      <td>91</td>\n",
       "      <td>31 mins or more</td>\n",
       "    </tr>\n",
       "    <tr>\n",
       "      <th>4</th>\n",
       "      <td>SF</td>\n",
       "      <td>San Francisco Municipal Transportation Agency</td>\n",
       "      <td>SF:14R</td>\n",
       "      <td>14R</td>\n",
       "      <td>MISSION RAPID</td>\n",
       "      <td>3</td>\n",
       "      <td>https://SFMTA.com/14R</td>\n",
       "      <td>844</td>\n",
       "      <td>41.0</td>\n",
       "      <td>40.0</td>\n",
       "      <td>27.0</td>\n",
       "      <td>44</td>\n",
       "      <td>31 mins or more</td>\n",
       "    </tr>\n",
       "  </tbody>\n",
       "</table>\n",
       "</div>"
      ],
      "text/plain": [
       "  agency_id                                    agency_name route_id  \\\n",
       "0        SF  San Francisco Municipal Transportation Agency     SF:1   \n",
       "1        SF  San Francisco Municipal Transportation Agency    SF:10   \n",
       "2        SF  San Francisco Municipal Transportation Agency    SF:12   \n",
       "3        SF  San Francisco Municipal Transportation Agency    SF:14   \n",
       "4        SF  San Francisco Municipal Transportation Agency   SF:14R   \n",
       "\n",
       "  route_short_name route_long_name  route_type              route_url  \\\n",
       "0                1      CALIFORNIA           3    https://SFMTA.com/1   \n",
       "1               10        TOWNSEND           3   https://SFMTA.com/10   \n",
       "2               12  FOLSOM-PACIFIC           3   https://SFMTA.com/12   \n",
       "3               14         MISSION           3   https://SFMTA.com/14   \n",
       "4              14R   MISSION RAPID           3  https://SFMTA.com/14R   \n",
       "\n",
       "   total_departures  median_headways  mean_headways  st_dev_headways  \\\n",
       "0             10331             27.0           41.0             45.0   \n",
       "1              1764             72.0           83.0             84.0   \n",
       "2               921             70.0           84.0             65.0   \n",
       "3              2784             37.0           51.0             49.0   \n",
       "4               844             41.0           40.0             27.0   \n",
       "\n",
       "   stop_count    service_class  \n",
       "0          94  31 mins or more  \n",
       "1         124  31 mins or more  \n",
       "2          85  31 mins or more  \n",
       "3          91  31 mins or more  \n",
       "4          44  31 mins or more  "
      ]
     },
     "execution_count": 31,
     "metadata": {},
     "output_type": "execute_result"
    }
   ],
   "source": [
    "jan_all_day.head(5)"
   ]
  },
  {
   "cell_type": "code",
   "execution_count": 32,
   "metadata": {},
   "outputs": [],
   "source": [
    "jan_all_rt_hdwy_geo = gp.GeoDataFrame.merge(pretty_routes[['route_id','geometry']],\n",
    "                                            jan_all_day,\n",
    "                                            on='route_id',\n",
    "                                            how='inner',\n",
    "                                           indicator=True)"
   ]
  },
  {
   "cell_type": "code",
   "execution_count": 33,
   "metadata": {},
   "outputs": [
    {
     "data": {
      "image/png": "[encoded data removed]",
      "text/plain": [
       "<Figure size 720x720 with 1 Axes>"
      ]
     },
     "metadata": {
      "needs_background": "light"
     },
     "output_type": "display_data"
    }
   ],
   "source": [
    "jan_all_rt_hdwy_geo.plot(figsize=(10,10));"
   ]
  },
  {
   "cell_type": "code",
   "execution_count": 38,
   "metadata": {},
   "outputs": [],
   "source": [
    "jan_am_rt_hdwy_geo = gp.GeoDataFrame.merge(pretty_routes[['route_id','geometry']],\n",
    "                                            jan_am_peak,\n",
    "                                            on='route_id',\n",
    "                                            how='inner',\n",
    "                                           indicator=True)"
   ]
  },
  {
   "cell_type": "code",
   "execution_count": 39,
   "metadata": {},
   "outputs": [
    {
     "data": {
      "image/png": "[encoded data removed]",
      "text/plain": [
       "<Figure size 720x720 with 1 Axes>"
      ]
     },
     "metadata": {
      "needs_background": "light"
     },
     "output_type": "display_data"
    }
   ],
   "source": [
    "jan_am_rt_hdwy_geo.plot(figsize=(10,10));"
   ]
  },
  {
   "cell_type": "code",
   "execution_count": null,
   "metadata": {},
   "outputs": [],
   "source": []
  },
  {
   "cell_type": "code",
   "execution_count": 34,
   "metadata": {},
   "outputs": [],
   "source": [
    "def merge_csv_geo(csv,gdf):\n",
    "    return gp.GeoDataFrame.merge(gdf[['route_id','geometry']],\n",
    "                                            csv,\n",
    "                                            on='route_id',\n",
    "                                            how='inner')\n",
    "    "
   ]
  },
  {
   "cell_type": "code",
   "execution_count": 35,
   "metadata": {},
   "outputs": [],
   "source": [
    "test_gdf = merge_csv_geo(jan_pm_peak,pretty_routes)"
   ]
  },
  {
   "cell_type": "code",
   "execution_count": 36,
   "metadata": {},
   "outputs": [
    {
     "data": {
      "text/html": [
       "<div>\n",
       "<style scoped>\n",
       "    .dataframe tbody tr th:only-of-type {\n",
       "        vertical-align: middle;\n",
       "    }\n",
       "\n",
       "    .dataframe tbody tr th {\n",
       "        vertical-align: top;\n",
       "    }\n",
       "\n",
       "    .dataframe thead th {\n",
       "        text-align: right;\n",
       "    }\n",
       "</style>\n",
       "<table border=\"1\" class=\"dataframe\">\n",
       "  <thead>\n",
       "    <tr style=\"text-align: right;\">\n",
       "      <th></th>\n",
       "      <th>route_id</th>\n",
       "      <th>geometry</th>\n",
       "      <th>agency_id</th>\n",
       "      <th>agency_name</th>\n",
       "      <th>route_short_name</th>\n",
       "      <th>route_long_name</th>\n",
       "      <th>route_type</th>\n",
       "      <th>route_url</th>\n",
       "      <th>total_departures</th>\n",
       "      <th>median_headways</th>\n",
       "      <th>mean_headways</th>\n",
       "      <th>st_dev_headways</th>\n",
       "      <th>stop_count</th>\n",
       "      <th>service_class</th>\n",
       "    </tr>\n",
       "  </thead>\n",
       "  <tbody>\n",
       "    <tr>\n",
       "      <th>0</th>\n",
       "      <td>3D:200</td>\n",
       "      <td>MULTILINESTRING ((-121.94474 38.01839, -121.94...</td>\n",
       "      <td>3D</td>\n",
       "      <td>Tri Delta Transit</td>\n",
       "      <td>200</td>\n",
       "      <td>Martinez / Pittsburg</td>\n",
       "      <td>3</td>\n",
       "      <td>http://12.155.17.20/RTT/Public/Schedule.aspx?R...</td>\n",
       "      <td>48</td>\n",
       "      <td>63.0</td>\n",
       "      <td>63.0</td>\n",
       "      <td>1.0</td>\n",
       "      <td>17</td>\n",
       "      <td>31 mins or more</td>\n",
       "    </tr>\n",
       "    <tr>\n",
       "      <th>1</th>\n",
       "      <td>3D:200</td>\n",
       "      <td>MULTILINESTRING ((-122.13925 38.01856, -122.13...</td>\n",
       "      <td>3D</td>\n",
       "      <td>Tri Delta Transit</td>\n",
       "      <td>200</td>\n",
       "      <td>Martinez / Pittsburg</td>\n",
       "      <td>3</td>\n",
       "      <td>http://12.155.17.20/RTT/Public/Schedule.aspx?R...</td>\n",
       "      <td>48</td>\n",
       "      <td>63.0</td>\n",
       "      <td>63.0</td>\n",
       "      <td>1.0</td>\n",
       "      <td>17</td>\n",
       "      <td>31 mins or more</td>\n",
       "    </tr>\n",
       "    <tr>\n",
       "      <th>2</th>\n",
       "      <td>3D:390</td>\n",
       "      <td>MULTILINESTRING ((-121.78095 37.99606, -121.78...</td>\n",
       "      <td>3D</td>\n",
       "      <td>Tri Delta Transit</td>\n",
       "      <td>390</td>\n",
       "      <td>Antioch BART / Pittsburg Bay Point BART</td>\n",
       "      <td>3</td>\n",
       "      <td>http://12.155.17.20/RTT/Public/Schedule.aspx?R...</td>\n",
       "      <td>241</td>\n",
       "      <td>30.0</td>\n",
       "      <td>30.0</td>\n",
       "      <td>8.0</td>\n",
       "      <td>45</td>\n",
       "      <td>21-30 mins</td>\n",
       "    </tr>\n",
       "    <tr>\n",
       "      <th>3</th>\n",
       "      <td>3D:390</td>\n",
       "      <td>MULTILINESTRING ((-121.94514 38.01852, -121.94...</td>\n",
       "      <td>3D</td>\n",
       "      <td>Tri Delta Transit</td>\n",
       "      <td>390</td>\n",
       "      <td>Antioch BART / Pittsburg Bay Point BART</td>\n",
       "      <td>3</td>\n",
       "      <td>http://12.155.17.20/RTT/Public/Schedule.aspx?R...</td>\n",
       "      <td>241</td>\n",
       "      <td>30.0</td>\n",
       "      <td>30.0</td>\n",
       "      <td>8.0</td>\n",
       "      <td>45</td>\n",
       "      <td>21-30 mins</td>\n",
       "    </tr>\n",
       "    <tr>\n",
       "      <th>4</th>\n",
       "      <td>3D:381</td>\n",
       "      <td>MULTILINESTRING ((-121.88527 38.03844, -121.88...</td>\n",
       "      <td>3D</td>\n",
       "      <td>Tri Delta Transit</td>\n",
       "      <td>381</td>\n",
       "      <td>Los Medanos College / Pittsburg Marina</td>\n",
       "      <td>3</td>\n",
       "      <td>http://12.155.17.20/RTT/Public/Schedule.aspx?R...</td>\n",
       "      <td>1001</td>\n",
       "      <td>15.0</td>\n",
       "      <td>17.0</td>\n",
       "      <td>6.0</td>\n",
       "      <td>37</td>\n",
       "      <td>11-20 mins</td>\n",
       "    </tr>\n",
       "  </tbody>\n",
       "</table>\n",
       "</div>"
      ],
      "text/plain": [
       "  route_id                                           geometry agency_id  \\\n",
       "0   3D:200  MULTILINESTRING ((-121.94474 38.01839, -121.94...        3D   \n",
       "1   3D:200  MULTILINESTRING ((-122.13925 38.01856, -122.13...        3D   \n",
       "2   3D:390  MULTILINESTRING ((-121.78095 37.99606, -121.78...        3D   \n",
       "3   3D:390  MULTILINESTRING ((-121.94514 38.01852, -121.94...        3D   \n",
       "4   3D:381  MULTILINESTRING ((-121.88527 38.03844, -121.88...        3D   \n",
       "\n",
       "         agency_name route_short_name  \\\n",
       "0  Tri Delta Transit              200   \n",
       "1  Tri Delta Transit              200   \n",
       "2  Tri Delta Transit              390   \n",
       "3  Tri Delta Transit              390   \n",
       "4  Tri Delta Transit              381   \n",
       "\n",
       "                           route_long_name  route_type  \\\n",
       "0                     Martinez / Pittsburg           3   \n",
       "1                     Martinez / Pittsburg           3   \n",
       "2  Antioch BART / Pittsburg Bay Point BART           3   \n",
       "3  Antioch BART / Pittsburg Bay Point BART           3   \n",
       "4   Los Medanos College / Pittsburg Marina           3   \n",
       "\n",
       "                                           route_url  total_departures  \\\n",
       "0  http://12.155.17.20/RTT/Public/Schedule.aspx?R...                48   \n",
       "1  http://12.155.17.20/RTT/Public/Schedule.aspx?R...                48   \n",
       "2  http://12.155.17.20/RTT/Public/Schedule.aspx?R...               241   \n",
       "3  http://12.155.17.20/RTT/Public/Schedule.aspx?R...               241   \n",
       "4  http://12.155.17.20/RTT/Public/Schedule.aspx?R...              1001   \n",
       "\n",
       "   median_headways  mean_headways  st_dev_headways  stop_count  \\\n",
       "0             63.0           63.0              1.0          17   \n",
       "1             63.0           63.0              1.0          17   \n",
       "2             30.0           30.0              8.0          45   \n",
       "3             30.0           30.0              8.0          45   \n",
       "4             15.0           17.0              6.0          37   \n",
       "\n",
       "     service_class  \n",
       "0  31 mins or more  \n",
       "1  31 mins or more  \n",
       "2       21-30 mins  \n",
       "3       21-30 mins  \n",
       "4       11-20 mins  "
      ]
     },
     "execution_count": 36,
     "metadata": {},
     "output_type": "execute_result"
    }
   ],
   "source": [
    "test_gdf.head(5)"
   ]
  },
  {
   "cell_type": "markdown",
   "metadata": {},
   "source": [
    "### Join routes with headway csvs for the following transit service time periods July 2020:\n",
    "\n",
    "- AM Peak (6:00-10:00AM)\n",
    "- Midday (10:00AM-3:00PM)\n",
    "- PM Peak (3:00-7:00PM)\n",
    "- Latenight (7:00PM-6:00AM)"
   ]
  },
  {
   "cell_type": "code",
   "execution_count": 97,
   "metadata": {},
   "outputs": [],
   "source": [
    "june_all_day = pd.read_csv(os.path.join(box_data_dir,'2020-06/all_6am_6am_blue_ribbon_calcs.csv'))\n",
    "june_am_peak = pd.read_csv(os.path.join(box_data_dir,'2020-06/am_blue_ribbon_calcs.csv'))\n",
    "june_mid_day = pd.read_csv(os.path.join(box_data_dir,'2020-06/mid_blue_ribbon_calcs.csv'))\n",
    "june_pm_peak = pd.read_csv(os.path.join(box_data_dir,'2020-06/pm_blue_ribbon_calcs.csv'))\n",
    "june_late_day = pd.read_csv(os.path.join(box_data_dir,'2020-06/late_blue_ribbon_calcs.csv'))"
   ]
  },
  {
   "cell_type": "code",
   "execution_count": 109,
   "metadata": {},
   "outputs": [
    {
     "name": "stdout",
     "output_type": "stream",
     "text": [
      "<class 'pandas.core.frame.DataFrame'>\n",
      "RangeIndex: 225 entries, 0 to 224\n",
      "Data columns (total 13 columns):\n",
      " #   Column            Non-Null Count  Dtype  \n",
      "---  ------            --------------  -----  \n",
      " 0   agency_id         225 non-null    object \n",
      " 1   agency_name       225 non-null    object \n",
      " 2   route_id          225 non-null    object \n",
      " 3   route_short_name  225 non-null    object \n",
      " 4   route_long_name   225 non-null    object \n",
      " 5   route_type        225 non-null    int64  \n",
      " 6   route_url         225 non-null    object \n",
      " 7   total_departures  225 non-null    int64  \n",
      " 8   median_headways   225 non-null    float64\n",
      " 9   mean_headways     225 non-null    float64\n",
      " 10  st_dev_headways   216 non-null    float64\n",
      " 11  stop_count        225 non-null    int64  \n",
      " 12  service_class     225 non-null    object \n",
      "dtypes: float64(3), int64(3), object(7)\n",
      "memory usage: 23.0+ KB\n"
     ]
    }
   ],
   "source": [
    "june_am_peak.info()"
   ]
  },
  {
   "cell_type": "code",
   "execution_count": 98,
   "metadata": {},
   "outputs": [],
   "source": [
    "june_all_rt_hdwy_geo = gp.GeoDataFrame.merge(pretty_routes[['route_id','geometry']],\n",
    "                                            june_all_day,\n",
    "                                            on='route_id',\n",
    "                                            how='inner',\n",
    "                                           indicator=True)"
   ]
  },
  {
   "cell_type": "code",
   "execution_count": 99,
   "metadata": {},
   "outputs": [
    {
     "data": {
      "image/png": "[encoded data removed]",
      "text/plain": [
       "<Figure size 720x720 with 1 Axes>"
      ]
     },
     "metadata": {
      "needs_background": "light"
     },
     "output_type": "display_data"
    }
   ],
   "source": [
    "june_all_rt_hdwy_geo.plot(figsize=(10,10));"
   ]
  },
  {
   "cell_type": "code",
   "execution_count": null,
   "metadata": {},
   "outputs": [],
   "source": []
  }
 ],
 "metadata": {
  "kernelspec": {
   "display_name": "Python 3",
   "language": "python",
   "name": "python3"
  },
  "language_info": {
   "codemirror_mode": {
    "name": "ipython",
    "version": 3
   },
   "file_extension": ".py",
   "mimetype": "text/x-python",
   "name": "python",
   "nbconvert_exporter": "python",
   "pygments_lexer": "ipython3",
   "version": "3.7.7"
  }
 },
 "nbformat": 4,
 "nbformat_minor": 4
}
