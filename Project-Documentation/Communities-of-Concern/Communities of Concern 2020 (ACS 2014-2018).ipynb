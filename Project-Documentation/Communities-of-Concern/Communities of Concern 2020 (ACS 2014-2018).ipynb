{
 "cells": [
  {
   "cell_type": "code",
   "execution_count": 1,
   "metadata": {},
   "outputs": [],
   "source": [
    "import os\n",
    "import sys\n",
    "import pandas as pd, geopandas as gp, matplotlib.pyplot as plt, numpy as np\n",
    "import getpass\n",
    "import requests \n",
    "import json\n",
    "from pandas import ExcelWriter\n",
    "import censusdata\n",
    "\n",
    "user = getpass.getuser()\n",
    "sys.dont_write_bytecode = True\n",
    "sys.path.insert(0, '/Users/{}/Box/DataViz Projects/Utility Code'.format(user))\n",
    "\n",
    "from utils_io import *"
   ]
  },
  {
   "cell_type": "markdown",
   "metadata": {},
   "source": [
    "### Read census api key from file"
   ]
  },
  {
   "cell_type": "code",
   "execution_count": 2,
   "metadata": {},
   "outputs": [],
   "source": [
    "def get_file_contents(filename):\n",
    "    \"\"\" Given a filename,\n",
    "        return the contents of that file\n",
    "    \"\"\"\n",
    "    try:\n",
    "        with open(filename, 'r') as f:\n",
    "            # It's assumed our file contains a single line,\n",
    "            # with our API key\n",
    "            return f.read().strip()\n",
    "    except FileNotFoundError:\n",
    "        print(\"'%s' file not found\" % filename)"
   ]
  },
  {
   "cell_type": "markdown",
   "metadata": {},
   "source": [
    "### Read selected ACS varibles from csv"
   ]
  },
  {
   "cell_type": "code",
   "execution_count": 3,
   "metadata": {},
   "outputs": [],
   "source": [
    "acs_coc_selected_vars = pd.read_csv('Data/ACS_Table_Variables_COC_Factors.csv')"
   ]
  },
  {
   "cell_type": "code",
   "execution_count": 4,
   "metadata": {},
   "outputs": [],
   "source": [
    "acs_vars_lst = acs_coc_selected_vars['ACS_Table_Variable'].tolist()"
   ]
  },
  {
   "cell_type": "markdown",
   "metadata": {},
   "source": [
    "### Query ACS API"
   ]
  },
  {
   "cell_type": "code",
   "execution_count": 14,
   "metadata": {},
   "outputs": [],
   "source": [
    "api_file = 'census_api_key.txt'\n",
    "\n",
    "api_key = get_file_contents(api_file)"
   ]
  },
  {
   "cell_type": "code",
   "execution_count": 13,
   "metadata": {},
   "outputs": [],
   "source": [
    "var = ','.join(acs_vars_lst)\n",
    "counties = '001,013,041,055,075,081,085,095,097'\n",
    "state = '06'\n",
    "#api_key2 = '4d921adb2db836584aa4e67744520787eba00049'\n",
    "url = 'https://api.census.gov/data/2018/acs/acs5?get={var}&for=tract:*&in=county:{counties}&in=state:{state}&key={api_key}'.format(var=var,\n",
    "                                                                                                                                 counties=counties,\n",
    "                                                                                                                                 state=state,\n",
    "                                                                                                                                   api_key=api_key)\n",
    "rq = requests.get(url)\n",
    "data = rq.json()\n",
    "acs_df = pd.DataFrame(data[1:],columns=data[0])"
   ]
  },
  {
   "cell_type": "code",
   "execution_count": null,
   "metadata": {},
   "outputs": [],
   "source": [
    "acs_df['county'].unique()"
   ]
  },
  {
   "cell_type": "markdown",
   "metadata": {},
   "source": [
    "### Change data type to integer select columns"
   ]
  },
  {
   "cell_type": "code",
   "execution_count": null,
   "metadata": {},
   "outputs": [],
   "source": [
    "acs_df[acs_vars_lst] = acs_df[acs_vars_lst].apply(pd.to_numeric)"
   ]
  },
  {
   "cell_type": "code",
   "execution_count": null,
   "metadata": {},
   "outputs": [],
   "source": [
    "acs_df['geoid'] = acs_df['state'] + acs_df['county'] + acs_df['tract']"
   ]
  },
  {
   "cell_type": "markdown",
   "metadata": {},
   "source": [
    "### Rename columns for consistancy with prior CoCs"
   ]
  },
  {
   "cell_type": "code",
   "execution_count": null,
   "metadata": {},
   "outputs": [],
   "source": [
    "cols = {'county':'county_fips',\n",
    "        'B03002_001E':'tot_pop_min',\n",
    "        'B01001_001E':'tot_pop_sen',\n",
    "        'C17002_001E':'tot_pop_pov',\n",
    "       'C18108_001E':'tot_pop_civ_ni',\n",
    "       'B08201_001E':'tot_hh',\n",
    "       'B11004_001E':'tot_fam',\n",
    "       'B16005_001E':'tot_pop_over5',\n",
    "       'B25070_010E':'pop_hus_rent50',\n",
    "       'B08201_002E':'pop_zvhhs'}\n",
    "acs_df.rename(columns=cols, inplace=True)"
   ]
  },
  {
   "cell_type": "markdown",
   "metadata": {},
   "source": [
    "### Calculate CoC and populations"
   ]
  },
  {
   "cell_type": "code",
   "execution_count": null,
   "metadata": {},
   "outputs": [],
   "source": [
    "acs_df['pop_minority'] = (acs_df['tot_pop_min'] - \n",
    "                          acs_df['B03002_003E'])\n",
    "acs_df['pop_over75'] = (acs_df['B01001_023E'] + \n",
    "                        acs_df['B01001_024E'] + \n",
    "                        acs_df['B01001_025E'] + \n",
    "                        acs_df['B01001_047E'] + \n",
    "                        acs_df['B01001_048E'] + \n",
    "                        acs_df['B01001_049E'])\n",
    "acs_df['pop_spfam'] = (acs_df['B11004_010E'] + \n",
    "                       acs_df['B11004_016E'])\n",
    "acs_df['pop_lep'] = (acs_df['B16005_007E'] + \n",
    "                     acs_df['B16005_008E'] + \n",
    "                     acs_df['B16005_012E'] + \n",
    "                     acs_df['B16005_013E'] + \n",
    "                     acs_df['B16005_017E'] + \n",
    "                     acs_df['B16005_018E'] + \n",
    "                     acs_df['B16005_022E'] + \n",
    "                     acs_df['B16005_023E'] + \n",
    "                     acs_df['B16005_029E'] + \n",
    "                     acs_df['B16005_030E'] + \n",
    "                     acs_df['B16005_034E'] + \n",
    "                     acs_df['B16005_035E'] + \n",
    "                     acs_df['B16005_039E'] + \n",
    "                     acs_df['B16005_040E'] + \n",
    "                     acs_df['B16005_044E'] + \n",
    "                     acs_df['B16005_045E'])\n",
    "acs_df['pop_below200'] = (acs_df['tot_pop_pov'] - \n",
    "                          acs_df['C17002_008E'])\n",
    "acs_df['pop_disability'] = (acs_df['tot_pop_civ_ni'] - \n",
    "                            (acs_df['C18108_005E'] + \n",
    "                             acs_df['C18108_009E'] + \n",
    "                             acs_df['C18108_013E']))"
   ]
  },
  {
   "cell_type": "markdown",
   "metadata": {},
   "source": [
    "### Calculate CoC shares"
   ]
  },
  {
   "cell_type": "code",
   "execution_count": null,
   "metadata": {},
   "outputs": [],
   "source": [
    "acs_df['pct_minority'] = (np.where(acs_df['tot_pop_min'] == 0,0,\n",
    "                                   (acs_df['pop_minority']/\n",
    "                                    acs_df['tot_pop_min'])))\n",
    "acs_df['pct_over75'] = (np.where(acs_df['tot_pop_sen'] == 0,0,\n",
    "                                 (acs_df['pop_over75']/\n",
    "                                  acs_df['tot_pop_sen'])))\n",
    "acs_df['pct_spfam'] = (np.where(acs_df['tot_fam'] == 0,0,\n",
    "                                (acs_df['pop_spfam']/\n",
    "                                 acs_df['tot_fam'])))\n",
    "acs_df['pct_lep'] = (np.where(acs_df['tot_pop_over5'] == 0,0,\n",
    "                              (acs_df['pop_lep']/\n",
    "                               acs_df['tot_pop_over5'])))\n",
    "acs_df['pct_below200'] = np.where(acs_df['tot_pop_pov'] == 0,0,\n",
    "                                  (acs_df['pop_below200']/\n",
    "                                   acs_df['tot_pop_pov']))\n",
    "acs_df['pct_disab'] = np.where(acs_df['tot_pop_civ_ni'] == 0,0,\n",
    "                               (acs_df['pop_disability']/\n",
    "                                acs_df['tot_pop_civ_ni']))\n",
    "acs_df['pct_zvhhs'] = np.where(acs_df['tot_hh'] == 0,0,\n",
    "                               (acs_df['pop_zvhhs']/\n",
    "                                acs_df['tot_hh']))\n",
    "acs_df['pct_hus_rent50'] = np.where(acs_df['tot_hh'] == 0,0,\n",
    "                                    (acs_df['pop_hus_rent50']/\n",
    "                                     acs_df['tot_hh']))"
   ]
  },
  {
   "cell_type": "code",
   "execution_count": null,
   "metadata": {},
   "outputs": [],
   "source": [
    "acs_df.head(5)"
   ]
  },
  {
   "cell_type": "markdown",
   "metadata": {},
   "source": [
    "### Flag cocs and coc levels (high, higher, highest) "
   ]
  },
  {
   "cell_type": "code",
   "execution_count": null,
   "metadata": {},
   "outputs": [],
   "source": [
    "def flag_condition_calc(row, df_share_column, standard_deviation):\n",
    "    cond = (df_share_column.mean() + \n",
    "            (standard_deviation * \n",
    "             df_share_column.std())).round(decimals=2)\n",
    "    if row > cond:\n",
    "        return 1\n",
    "    else:\n",
    "        return 0"
   ]
  },
  {
   "cell_type": "code",
   "execution_count": null,
   "metadata": {},
   "outputs": [],
   "source": [
    "def flag_mult_columns(dataframe, dictionary, standard_deviation):\n",
    "    for key, value in dictionary.items():\n",
    "        dataframe[value] = (dataframe[key]\n",
    "                            .apply(\n",
    "                                lambda row : flag_condition_calc(row,acs_df[key],\n",
    "                                                                 standard_deviation)))"
   ]
  },
  {
   "cell_type": "markdown",
   "metadata": {},
   "source": [
    "### Flag halfsd columns and count factors"
   ]
  },
  {
   "cell_type": "code",
   "execution_count": null,
   "metadata": {},
   "outputs": [],
   "source": [
    "cols_dict_halfsd = {'pct_over75':'over75_halfsd',\n",
    "                    'pct_minority':'minority_halfsd',\n",
    "                   'pct_spfam':'spfam_halfsd',\n",
    "                   'pct_disab':'disab_halfsd',\n",
    "                   'pct_lep':'lep_halfsd',\n",
    "                   'pct_below200':'below200_halfsd',\n",
    "                   'pct_zvhhs':'zvhh_halfsd',\n",
    "                   'pct_hus_rent50':'hus_rent50_halfsd'}\n"
   ]
  },
  {
   "cell_type": "code",
   "execution_count": null,
   "metadata": {},
   "outputs": [],
   "source": [
    "flag_mult_columns(acs_df,cols_dict_halfsd,.5)"
   ]
  },
  {
   "cell_type": "code",
   "execution_count": null,
   "metadata": {},
   "outputs": [],
   "source": [
    "halfsd_cols_list = ['below200_halfsd',\n",
    "             'minority_halfsd',\n",
    "             'spfam_halfsd',\n",
    "             'disab_halfsd',\n",
    "             'lep_halfsd',\n",
    "             'over75_halfsd',\n",
    "             'zvhh_halfsd',\n",
    "             'hus_rent50_halfsd']\n",
    "acs_df['count_disadfact_halfsd'] = acs_df[halfsd_cols_list].sum(axis=1)"
   ]
  },
  {
   "cell_type": "code",
   "execution_count": null,
   "metadata": {},
   "outputs": [],
   "source": [
    "acs_df[halfsd_cols_list][acs_df['count_disadfact_halfsd'] >= 1]"
   ]
  },
  {
   "cell_type": "markdown",
   "metadata": {},
   "source": [
    "### Flag halfsd coc"
   ]
  },
  {
   "cell_type": "code",
   "execution_count": null,
   "metadata": {},
   "outputs": [],
   "source": [
    "halfsd_remain = ['spfam_halfsd',\n",
    "                 'disab_halfsd',\n",
    "                 'lep_halfsd',\n",
    "                 'over75_halfsd',\n",
    "                 'zvhh_halfsd',\n",
    "                 'hus_rent50_halfsd']\n",
    "halfsd_cond = (((acs_df['minority_halfsd'] == 1) & \n",
    "                (acs_df['below200_halfsd'] == 1)) | \n",
    "               ((acs_df['below200_halfsd'] == 1) & \n",
    "                (acs_df[halfsd_remain].sum(axis=1) >= 3))\n",
    "              )\n",
    "acs_df['coc_pba2050_halfsd'] = np.where(halfsd_cond,1,0)"
   ]
  },
  {
   "cell_type": "code",
   "execution_count": null,
   "metadata": {},
   "outputs": [],
   "source": [
    "acs_df[halfsd_cols_list][acs_df['coc_pba2050_halfsd'] == 1]"
   ]
  },
  {
   "cell_type": "markdown",
   "metadata": {},
   "source": [
    "### Flag onesd columns"
   ]
  },
  {
   "cell_type": "code",
   "execution_count": null,
   "metadata": {},
   "outputs": [],
   "source": [
    "cols_dict_onesd = {'pct_over75':'over75_onesd',\n",
    "                    'pct_minority':'minority_onesd',\n",
    "                   'pct_spfam':'spfam_onesd',\n",
    "                   'pct_disab':'disab_onesd',\n",
    "                   'pct_lep':'lep_onesd',\n",
    "                   'pct_below200':'below200_onesd',\n",
    "                   'pct_zvhhs':'zvhh_onesd',\n",
    "                   'pct_hus_rent50':'hus_rent50_onesd'}"
   ]
  },
  {
   "cell_type": "code",
   "execution_count": null,
   "metadata": {},
   "outputs": [],
   "source": [
    "flag_mult_columns(acs_df,cols_dict_onesd,1)"
   ]
  },
  {
   "cell_type": "code",
   "execution_count": null,
   "metadata": {},
   "outputs": [],
   "source": [
    "onesd_cols_list = ['below200_onesd',\n",
    "             'minority_onesd',\n",
    "             'spfam_onesd',\n",
    "             'disab_onesd',\n",
    "             'lep_onesd',\n",
    "             'over75_onesd',\n",
    "             'zvhh_onesd',\n",
    "             'hus_rent50_onesd']\n",
    "acs_df['count_disadfact_onesd'] = acs_df[onesd_cols_list].sum(axis=1)"
   ]
  },
  {
   "cell_type": "markdown",
   "metadata": {},
   "source": [
    "### Flag onesd coc"
   ]
  },
  {
   "cell_type": "code",
   "execution_count": null,
   "metadata": {},
   "outputs": [],
   "source": [
    "onesd_remain = ['spfam_onesd',\n",
    "                 'disab_onesd',\n",
    "                 'lep_onesd',\n",
    "                 'over75_onesd',\n",
    "                 'zvhh_onesd',\n",
    "                 'hus_rent50_onesd']\n",
    "onesd_cond = (((acs_df['minority_onesd'] == 1) & \n",
    "                (acs_df['below200_onesd'] == 1)) | \n",
    "               ((acs_df['below200_onesd'] == 1) & \n",
    "                (acs_df[onesd_remain].sum(axis=1) >= 3))\n",
    "              )\n",
    "acs_df['coc_pba2050_onesd'] = np.where(onesd_cond,1,0)"
   ]
  },
  {
   "cell_type": "code",
   "execution_count": null,
   "metadata": {},
   "outputs": [],
   "source": [
    "acs_df[onesd_cols_list][(acs_df['coc_pba2050_onesd'] == 1)]"
   ]
  },
  {
   "cell_type": "markdown",
   "metadata": {},
   "source": [
    "### Flag onehalfsd columns"
   ]
  },
  {
   "cell_type": "code",
   "execution_count": null,
   "metadata": {},
   "outputs": [],
   "source": [
    "cols_dict_onehalfsd = {'pct_over75':'over75_onehalfsd',\n",
    "                    'pct_minority':'minority_onehalfsd',\n",
    "                   'pct_spfam':'spfam_onehalfsd',\n",
    "                   'pct_disab':'disab_onehalfsd',\n",
    "                   'pct_lep':'lep_onehalfsd',\n",
    "                   'pct_below200':'below200_onehalfsd',\n",
    "                   'pct_zvhhs':'zvhh_onehalfsd',\n",
    "                   'pct_hus_rent50':'hus_rent50_onehalfsd'}"
   ]
  },
  {
   "cell_type": "code",
   "execution_count": null,
   "metadata": {},
   "outputs": [],
   "source": [
    "flag_mult_columns(acs_df,cols_dict_onehalfsd,1.5)"
   ]
  },
  {
   "cell_type": "code",
   "execution_count": null,
   "metadata": {},
   "outputs": [],
   "source": [
    "onehalfsd_cols_list = ['below200_onehalfsd',\n",
    "             'minority_onehalfsd',\n",
    "             'spfam_onehalfsd',\n",
    "             'disab_onehalfsd',\n",
    "             'lep_onehalfsd',\n",
    "             'over75_onehalfsd',\n",
    "             'zvhh_onehalfsd',\n",
    "             'hus_rent50_onehalfsd']\n",
    "acs_df['count_disadfact_onehalfsd'] = acs_df[onehalfsd_cols_list].sum(axis=1)"
   ]
  },
  {
   "cell_type": "code",
   "execution_count": null,
   "metadata": {},
   "outputs": [],
   "source": [
    "acs_df[onehalfsd_cols_list][acs_df['count_disadfact_onehalfsd'] >= 1]"
   ]
  },
  {
   "cell_type": "markdown",
   "metadata": {},
   "source": [
    "### Flag onehalfsd coc"
   ]
  },
  {
   "cell_type": "code",
   "execution_count": null,
   "metadata": {},
   "outputs": [],
   "source": [
    "onehalfsd_remain = ['spfam_onehalfsd',\n",
    "                 'disab_onehalfsd',\n",
    "                 'lep_onehalfsd',\n",
    "                 'over75_onehalfsd',\n",
    "                 'zvhh_onehalfsd',\n",
    "                 'hus_rent50_onehalfsd']\n",
    "onehalfsd_cond = (((acs_df['minority_onehalfsd'] == 1) & \n",
    "                (acs_df['below200_onehalfsd'] == 1)) | \n",
    "               ((acs_df['below200_onehalfsd'] == 1) & \n",
    "                (acs_df[onehalfsd_remain].sum(axis=1) >= 3))\n",
    "              )\n",
    "acs_df['coc_pba2050_onehalfsd'] = np.where(onehalfsd_cond,1,0)"
   ]
  },
  {
   "cell_type": "code",
   "execution_count": null,
   "metadata": {},
   "outputs": [],
   "source": [
    "acs_df[onehalfsd_cols_list][(acs_df['coc_pba2050_onehalfsd'] == 1)]"
   ]
  },
  {
   "cell_type": "markdown",
   "metadata": {},
   "source": [
    "### Flag 2050 cocs"
   ]
  },
  {
   "cell_type": "code",
   "execution_count": null,
   "metadata": {},
   "outputs": [],
   "source": [
    "acs_df['coc_flag_pba2050'] = np.where((acs_df['coc_pba2050_halfsd'] == 1) | \n",
    "                                      (acs_df['coc_pba2050_onesd'] == 1) | \n",
    "                                      (acs_df['coc_pba2050_onehalfsd']),1,0)"
   ]
  },
  {
   "cell_type": "code",
   "execution_count": null,
   "metadata": {},
   "outputs": [],
   "source": [
    "acs_df[['coc_flag_pba2050',\n",
    "        'coc_pba2050_halfsd',\n",
    "        'coc_pba2050_onesd',\n",
    "        'coc_pba2050_onehalfsd']][acs_df['coc_flag_pba2050'] == 1]"
   ]
  },
  {
   "cell_type": "markdown",
   "metadata": {},
   "source": [
    "### Create coc classes"
   ]
  },
  {
   "cell_type": "code",
   "execution_count": null,
   "metadata": {},
   "outputs": [],
   "source": [
    "def some_func(df):\n",
    "    if df['a']>.5:\n",
    "        return 'high'\n",
    "    else:\n",
    "        return 'low'\n",
    "df=pd.DataFrame(data={'a':np.random.sample(size=10),'b':np.random.sample(size=10)})\n",
    "df.apply(some_func,axis=1)"
   ]
  },
  {
   "cell_type": "code",
   "execution_count": null,
   "metadata": {},
   "outputs": [],
   "source": [
    "def set_coc_class(df):\n",
    "    if df['coc_pba2050_onehalfsd'] == 1:\n",
    "        return 'Highest'\n",
    "    elif df['coc_pba2050_onesd'] == 1:\n",
    "        return 'Higher'\n",
    "    elif df['coc_pba2050_halfsd'] == 1:\n",
    "        return 'High'\n",
    "    else: \n",
    "        return 'NA'"
   ]
  },
  {
   "cell_type": "code",
   "execution_count": null,
   "metadata": {},
   "outputs": [],
   "source": [
    "acs_df['coc_class'] = acs_df.apply(set_coc_class,axis=1)"
   ]
  },
  {
   "cell_type": "code",
   "execution_count": null,
   "metadata": {},
   "outputs": [],
   "source": [
    "acs_df[acs_df['coc_class'] != 'NA']"
   ]
  },
  {
   "cell_type": "markdown",
   "metadata": {},
   "source": [
    "### Calculate regional statistics "
   ]
  },
  {
   "cell_type": "code",
   "execution_count": null,
   "metadata": {},
   "outputs": [],
   "source": [
    "coc_region_stats = acs_df.agg({'pct_over75': ['mean','std'],\n",
    "           'pct_minority': ['mean','std'],\n",
    "           'pct_lep': ['mean','std'],\n",
    "           'pct_spfam': ['mean','std'],\n",
    "           'pct_below200': ['mean','std'],\n",
    "           'pct_disab': ['mean','std'],\n",
    "           'pct_zvhhs': ['mean','std'],\n",
    "           'pct_hus_rent50': ['mean','std']}).transpose().reset_index()"
   ]
  },
  {
   "cell_type": "code",
   "execution_count": null,
   "metadata": {},
   "outputs": [],
   "source": [
    "coc_region_stats.rename(columns={'index':'factors'},inplace=True)"
   ]
  },
  {
   "cell_type": "markdown",
   "metadata": {},
   "source": [
    "### Create fields for .5, 1, and 1.5 sd from mean"
   ]
  },
  {
   "cell_type": "code",
   "execution_count": null,
   "metadata": {},
   "outputs": [],
   "source": [
    "coc_region_stats['plus_half_sd'] = (coc_region_stats['mean'] + \n",
    "                                    (.5 * coc_region_stats['std']))\n",
    "coc_region_stats['plus_one_sd'] = (coc_region_stats['mean'] + \n",
    "                                   coc_region_stats['std'])\n",
    "coc_region_stats['plus_one_half_sd'] = (coc_region_stats['mean'] + \n",
    "                                       (1.5 * coc_region_stats['std']))"
   ]
  },
  {
   "cell_type": "code",
   "execution_count": null,
   "metadata": {},
   "outputs": [],
   "source": [
    "coc_region_stats"
   ]
  },
  {
   "cell_type": "code",
   "execution_count": null,
   "metadata": {},
   "outputs": [],
   "source": []
  }
 ],
 "metadata": {
  "kernelspec": {
   "display_name": "Python 3",
   "language": "python",
   "name": "python3"
  },
  "language_info": {
   "codemirror_mode": {
    "name": "ipython",
    "version": 3
   },
   "file_extension": ".py",
   "mimetype": "text/x-python",
   "name": "python",
   "nbconvert_exporter": "python",
   "pygments_lexer": "ipython3",
   "version": "3.7.5"
  }
 },
 "nbformat": 4,
 "nbformat_minor": 2
}
